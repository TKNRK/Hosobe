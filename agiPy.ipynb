{
 "cells": [
  {
   "cell_type": "code",
   "execution_count": 27,
   "metadata": {
    "collapsed": false
   },
   "outputs": [],
   "source": [
    "import numpy as np\n",
    "import sympy as sp\n",
    "from scipy import optimize as opt\n",
    "import matplotlib\n",
    "from matplotlib import pyplot as plt\n",
    "from matplotlib import animation\n",
    "\n",
    "from sympy.abc import x\n",
    "from sympy.utilities.lambdify import lambdify, implemented_function\n",
    "from sympy import Function\n",
    "from sympy import Matrix"
   ]
  },
  {
   "cell_type": "code",
   "execution_count": 50,
   "metadata": {
    "collapsed": false
   },
   "outputs": [],
   "source": [
    "edge = np.genfromtxt('csv/adjacency.csv', delimiter=\",\").astype(np.int64) \n",
    "P = np.genfromtxt('csv/mdSpace.csv', delimiter=\",\") \n",
    "n = len(P)\n",
    "L =np.genfromtxt('csv/eigVals.csv', delimiter=\",\") \n",
    "L_pos = np.array([L[i] if L[i]>0 else 0 for i in range(n)])\n",
    "d = np.count_nonzero(L_pos)\t# d ... the number of positive values\n",
    "Ln = np.sqrt(L_pos)\n",
    "\n",
    "f2 = np.array(Ln[0:d])\n",
    "f2[::2] = 0\n",
    "f1 = Ln[0:d] - f2\n",
    "e1 = f1 / np.linalg.norm(f1)\n",
    "e2 = f2 / np.linalg.norm(f2)\n",
    "temp1 = e1\n",
    "temp2 = e2\n",
    "\n",
    "Xs = np.array([])\n",
    "Ys = np.array([])\n",
    "\n",
    "for i in np.arange(n):\n",
    "    p0 = P[i,0:d]\n",
    "    Xs = np.append(Xs,np.dot(p0,e1))\n",
    "    Ys = np.append(Ys,np.dot(p0,e2))"
   ]
  },
  {
   "cell_type": "code",
   "execution_count": 51,
   "metadata": {
    "collapsed": false,
    "scrolled": true
   },
   "outputs": [],
   "source": []
  },
  {
   "cell_type": "code",
   "execution_count": 52,
   "metadata": {
    "collapsed": false
   },
   "outputs": [
    {
     "data": {
      "text/plain": [
       "(1.0*s**2 + 1.0*t**2 - 1)**2 + (0.488340027801521*a1 - 0.28108480633993*b1 - 0.361735245326884*c1 + 1)**2 + (0.488340027801521*a2 - 0.28108480633993*b2 - 0.361735245326884*c2 + 1)**2 + (1.0*a1*s + 1.0*b1*t - 0.488340027801521*c1*s + 0.28108480633993*c1*t - 1.0*s)**2 + (1.0*a2*s + 1.0*b2*t - 0.488340027801521*c2*s + 0.28108480633993*c2*t - 1.0*t)**2 + (1.0*a1*a2 - 0.488340027801521*a1*c2 - 0.488340027801521*a2*c1 + 1.0*b1*b2 + 0.28108480633993*b1*c2 + 0.28108480633993*b2*c1 + 0.361735245326884*c1*c2)**2 + ((0.15994778622916*a1 - 2.01168096268858e-16*c1)**2 + (0.15994778622916*a1 - 3.28738108536915e-16*c1)**2 + (0.15994778622916*a1 - 3.09725270170042e-17*c1)**2 + (0.15994778622916*a1 + 3.92523114670944e-17*c1)**2 + (0.15994778622916*a1 + 9.81307786677359e-17*c1)**2 + (0.933854125868679*a1 - 0.522929667786457*c1)**2 + (4.82898639082034e-9*b1 - 5.44113474592766e-9*c1)**2 + (0.162033895479706*b1 - 1.32476551201443e-16*c1)**2 + (0.162033895479707*b1 - 1.18370251767956e-16*c1)**2 + (0.162033895479707*b1 - 6.86915450674152e-17*c1)**2 + (0.162033895479707*b1 - 4.90653893338679e-17*c1)**2 + (0.946033861372143*b1 + 0.297119181265077*c1)**2 - 1)**2 + ((0.15994778622916*a2 - 2.01168096268858e-16*c2)**2 + (0.15994778622916*a2 - 3.28738108536915e-16*c2)**2 + (0.15994778622916*a2 - 3.09725270170042e-17*c2)**2 + (0.15994778622916*a2 + 3.92523114670944e-17*c2)**2 + (0.15994778622916*a2 + 9.81307786677359e-17*c2)**2 + (0.933854125868679*a2 - 0.522929667786457*c2)**2 + (4.82898639082034e-9*b2 - 5.44113474592766e-9*c2)**2 + (0.162033895479706*b2 - 1.32476551201443e-16*c2)**2 + (0.162033895479707*b2 - 1.18370251767956e-16*c2)**2 + (0.162033895479707*b2 - 6.86915450674152e-17*c2)**2 + (0.162033895479707*b2 - 4.90653893338679e-17*c2)**2 + (0.946033861372143*b2 + 0.297119181265077*c2)**2 - 1)**2"
      ]
     },
     "execution_count": 52,
     "metadata": {},
     "output_type": "execute_result"
    }
   ],
   "source": [
    "sp.simplify(func)"
   ]
  },
  {
   "cell_type": "code",
   "execution_count": 53,
   "metadata": {
    "collapsed": false
   },
   "outputs": [],
   "source": [
    "identifier = \"\"\n",
    "\n",
    "class DraggableCircle:\n",
    "    def __init__(self, circle):\n",
    "        self.circle = circle\n",
    "        self.press = None\n",
    "\n",
    "    def connect(self):\n",
    "        'connect to all the events we need'\n",
    "        self.cidpress = self.circle.figure.canvas.mpl_connect(\n",
    "            'button_press_event', self.on_press)\n",
    "        self.cidrelease = self.circle.figure.canvas.mpl_connect(\n",
    "            'button_release_event', self.on_release)\n",
    "        self.cidmotion = self.circle.figure.canvas.mpl_connect(\n",
    "            'motion_notify_event', self.on_motion)\n",
    "\n",
    "    def on_press(self, event):\n",
    "        'on button press we will see if the mouse is over us and store some data'\n",
    "        if event.inaxes != self.circle.axes: return\n",
    "\n",
    "        contains, attrd = self.circle.contains(event)\n",
    "        if not contains: return\n",
    "        print('event contains', self.circle.center)\n",
    "        x0, y0 = self.circle.center\n",
    "        self.press = x0, y0, event.xdata, event.ydata\n",
    "        global identifier\n",
    "        identifier = self.circle.get_label()\n",
    "\n",
    "    def on_motion(self, event):\n",
    "        'on motion we will move the rect if the mouse is over us'\n",
    "        if self.press is None: return\n",
    "        if event.inaxes != self.circle.axes: return\n",
    "        if(self.circle.get_label() == identifier):\n",
    "            \"\"\"\n",
    "            # dragging single node and conectted links\n",
    "            x0, y0, xpress, ypress = self.press\n",
    "            dx = event.xdata - xpress\n",
    "            dy = event.ydata - ypress\n",
    "            #print('x0=%f, xpress=%f, event.xdata=%f, dx=%f, x0+dx=%f' %\n",
    "            #      (x0, xpress, event.xdata, dx, x0+dx))\n",
    "            self.circle.center = (x0+dx,y0+dy)\n",
    "            self.circle.figure.canvas.draw()\n",
    "            for i in range(len(edge)):\n",
    "                if(edge[i,0]-1 == int(identifier)): \n",
    "                    edges[i].set_xdata((x0+dx,edges[i].get_xdata()[1]))\n",
    "                    edges[i].set_ydata((y0+dy,edges[i].get_ydata()[1]))\n",
    "                if(edge[i,1]-1 == int(identifier)): \n",
    "                    edges[i].set_xdata((edges[i].get_xdata()[0],x0+dx))\n",
    "                    edges[i].set_ydata((edges[i].get_ydata()[0],y0+dy))\n",
    "            \n",
    "            \"\"\"\n",
    "            x0, y0, xpress, ypress = self.press\n",
    "            x2 = x0 + event.xdata - xpress\n",
    "            y2 = y0 + event.ydata - ypress\n",
    "            p = P[int(identifier)]\n",
    "            res = opt.minimize(g,arr,method='L-BFGS-B')\n",
    "            e1 = res.x[0]*temp1 + res.x[1]*temp2 + res.x[2]*p\n",
    "            e2 = res.x[3]*temp1 + res.x[4]*temp2 + res.x[5]*p\n",
    "            temp1 = e1\n",
    "            temp2 = e2\n",
    "            for i in np.arange(n):\n",
    "                p0 = P[i]\n",
    "                global Xs, Ys\n",
    "                Xs[i] = np.dot(p0,e1)\n",
    "                Ys[i] = np.dot(p0,e2)\n",
    "                nodes[i].center = (np.dot(p0,e1),np.dot(p0,e2))\n",
    "                nodes[i].figure.canvas.draw()\n",
    "                        \n",
    "    def on_release(self, event):\n",
    "        'on release we reset the press data'\n",
    "        self.press = None\n",
    "        self.circle.figure.canvas.draw()\n",
    "\n",
    "    def disconnect(self):\n",
    "        'disconnect all the stored connection ids'\n",
    "        self.circle.figure.canvas.mpl_disconnect(self.cidpress)\n",
    "        self.circle.figure.canvas.mpl_disconnect(self.cidrelease)\n",
    "        self.circle.figure.canvas.mpl_disconnect(self.cidmotion)"
   ]
  },
  {
   "cell_type": "code",
   "execution_count": 54,
   "metadata": {
    "collapsed": false
   },
   "outputs": [
    {
     "name": "stdout",
     "output_type": "stream",
     "text": [
      "event contains (0.4844625954635699, 0.28788830799645709)\n",
      "event contains (-1.3744218090843257, 0.76451543320541149)\n",
      "event contains (-1.345128005477495, 0.70081375585117922)\n",
      "event contains (-1.3008336436928962, 0.88981243678588995)\n",
      "event contains (-1.365682707703179, 0.74503710005062396)\n",
      "event contains (-1.3744218090843257, 0.76451543320541149)\n",
      "event contains (-1.345128005477495, 0.70081375585117922)\n",
      "event contains (-1.3008336436928962, 0.88981243678588995)\n",
      "event contains (-1.365682707703179, 0.74503710005062396)\n"
     ]
    }
   ],
   "source": [
    "gca = plt.gca()\n",
    "nodes = np.array([])\n",
    "edges = np.array([])\n",
    "\n",
    "for i in range(n):\n",
    "    circle = plt.Circle((Xs[i], Ys[i]), radius=0.2, fc='y',label=str(i))\n",
    "    gca.add_patch(circle)\n",
    "    nodes = np.append(nodes,circle)\n",
    "\n",
    "for e in edge:\n",
    "    line = plt.Line2D((Xs[e[0]-1], Xs[e[1]-1]), (Ys[e[0]-1],Ys[e[1]-1]), lw=1)\n",
    "    gca.add_line(line)\n",
    "    edges = np.append(edges,line)\n",
    "    \n",
    "dcs = []\n",
    "for node in nodes:\n",
    "    dc = DraggableCircle(node)\n",
    "    dc.connect()\n",
    "    dcs.append(dc)\n",
    "\n",
    "plt.axis('scaled')\n",
    "plt.show()"
   ]
  },
  {
   "cell_type": "code",
   "execution_count": 59,
   "metadata": {
    "collapsed": false
   },
   "outputs": [
    {
     "name": "stdout",
     "output_type": "stream",
     "text": [
      "      fun: 0.59057987574475646\n",
      " hess_inv: <8x8 LbfgsInvHessProduct with dtype=float64>\n",
      "      jac: array([ -7.56061880e-06,  -1.44328993e-06,   3.16413562e-06,\n",
      "         2.66453526e-07,  -3.08642001e-06,  -1.55431223e-06,\n",
      "         1.63202785e-06,  -1.77635684e-06])\n",
      "  message: b'CONVERGENCE: NORM_OF_PROJECTED_GRADIENT_<=_PGTOL'\n",
      "     nfev: 504\n",
      "      nit: 48\n",
      "   status: 0\n",
      "  success: True\n",
      "        x: array([-0.22620468, -0.64355453,  1.53016793,  0.22618662,  0.64356298,\n",
      "        1.14074427,  0.99420173, -0.10753306])\n"
     ]
    }
   ],
   "source": [
    "x2 = Xs[14] * 0.9\n",
    "y2 = Ys[14] * 0.9\n",
    "p = P[14]\n",
    "res = opt.minimize(g,arr,method='L-BFGS-B')\n",
    "print(res)\n",
    "e1 = res.x[0]*temp1 + res.x[1]*temp2 + res.x[2]*p\n",
    "e2 = res.x[3]*temp1 + res.x[4]*temp2 + res.x[5]*p\n",
    "temp1 = e1\n",
    "temp2 = e2\n",
    "for i in np.arange(n):\n",
    "    p0 = P[i]\n",
    "    global Xs, Ys\n",
    "    Xs[i] = np.dot(p0,e1)\n",
    "    Ys[i] = np.dot(p0,e2)\n",
    "    nodes[i].center = (np.dot(p0,e1),np.dot(p0,e2))"
   ]
  },
  {
   "cell_type": "code",
   "execution_count": 60,
   "metadata": {
    "collapsed": false
   },
   "outputs": [
    {
     "data": {
      "text/plain": [
       "0.59057987574475646"
      ]
     },
     "execution_count": 60,
     "metadata": {},
     "output_type": "execute_result"
    }
   ],
   "source": [
    "lam_f(*res.x)"
   ]
  },
  {
   "cell_type": "code",
   "execution_count": 39,
   "metadata": {
    "collapsed": false
   },
   "outputs": [
    {
     "data": {
      "text/plain": [
       "array([-0.56897311, -1.56451723, -1.50544376, -1.50811793, -1.69731664,\n",
       "        0.28788831,  0.7715399 ,  0.74345398,  0.79191257,  0.86831038,\n",
       "        0.28108481,  0.70081376,  0.76451543,  0.88981244,  0.7450371 ])"
      ]
     },
     "execution_count": 39,
     "metadata": {},
     "output_type": "execute_result"
    }
   ],
   "source": [
    "Ys"
   ]
  },
  {
   "cell_type": "code",
   "execution_count": 41,
   "metadata": {
    "collapsed": false
   },
   "outputs": [
    {
     "data": {
      "text/plain": [
       "array([-0.00268292,  0.10425172, -0.15400581,  0.00563615,  0.01452715,\n",
       "       -0.20190668, -0.373379  , -0.40135545, -0.64987464, -0.8022875 ,\n",
       "        0.2045896 ,  0.49591569,  0.39260067,  0.36797838,  0.99999265])"
      ]
     },
     "execution_count": 41,
     "metadata": {},
     "output_type": "execute_result"
    }
   ],
   "source": [
    "Xs"
   ]
  },
  {
   "cell_type": "code",
   "execution_count": 42,
   "metadata": {
    "collapsed": false
   },
   "outputs": [
    {
     "data": {
      "text/plain": [
       "array([-0.57065517, -1.5647251 , -1.52086376, -1.51656633, -1.69179231,\n",
       "        0.21617485,  0.58318783,  0.555932  ,  0.59035477,  0.65479044,\n",
       "        0.35448032,  0.89498665,  0.94972351,  1.06497149,  1.00000082])"
      ]
     },
     "execution_count": 42,
     "metadata": {},
     "output_type": "execute_result"
    }
   ],
   "source": [
    "Ys"
   ]
  },
  {
   "cell_type": "code",
   "execution_count": 40,
   "metadata": {
    "collapsed": false
   },
   "outputs": [
    {
     "data": {
      "text/plain": [
       "array([  0.00000000e+00,   9.46011143e-01,   3.85404712e-06,\n",
       "         1.62035950e-01,   5.51658864e-06,   1.62036313e-01,\n",
       "        -1.77354681e-06,   1.62030330e-01,  -3.81922132e-06,\n",
       "         1.62029871e-01,  -1.57421221e-06,   4.82903088e-09])"
      ]
     },
     "execution_count": 40,
     "metadata": {},
     "output_type": "execute_result"
    }
   ],
   "source": []
  },
  {
   "cell_type": "code",
   "execution_count": null,
   "metadata": {
    "collapsed": true
   },
   "outputs": [],
   "source": [
    "x0, y0, xpress, ypress = self.press\n",
    "        global Xs, Ys, x2, y2, nodes, edges, dcs, gca, e1, e2, temp1, temp2\n",
    "        x2 = event.xdata\n",
    "        y2 = event.ydata\n",
    "        p = P[int(identifier)-1]\n",
    "        res = opt.minimize(g,arr,method='L-BFGS-B')\n",
    "        e1 = res.x[0]*temp1 + res.x[1]*temp2 + res.x[2]*p\n",
    "        e2 = res.x[3]*temp1 + res.x[4]*temp2 + res.x[5]*p\n",
    "        temp1 = e1\n",
    "        temp2 = e2\n",
    "        Xs = np.array([])\n",
    "        Ys = np.array([])\n",
    "        for i in np.arange(n):\n",
    "            p0 = P[i,0:d]\n",
    "            Xs = np.append(Xs,np.dot(p0,e1))\n",
    "            Ys = np.append(Ys,np.dot(p0,e2))\n",
    "        nodes = np.array([])\n",
    "        edges = np.array([])\n",
    "        for i in np.arange(n):\n",
    "            circle = plt.Circle((Xs[i], Ys[i]), radius=0.2, fc='y',label=str(i))\n",
    "            gca.add_patch(circle)\n",
    "            nodes = np.append(nodes,circle)\n",
    "        for e in edge:\n",
    "            line = plt.Line2D((Xs[e[0]-1], Xs[e[1]-1]), (Ys[e[0]-1],Ys[e[1]-1]), lw=1)\n",
    "            gca.add_line(line)\n",
    "            edges = np.append(edges,line)\n",
    "        dcs = []\n",
    "        for node in nodes:\n",
    "            dc = DraggableCircle(node)\n",
    "            dc.connect()\n",
    "            dcs.append(dc)\n",
    "        plt.axis('scaled')\n",
    "        plt.show()"
   ]
  },
  {
   "cell_type": "code",
   "execution_count": 10,
   "metadata": {
    "collapsed": true
   },
   "outputs": [],
   "source": [
    "x,y,x2,y2 = (Xs[1],Ys[1],1.5,1.5)\n",
    "p = P[1]\n",
    "a1,b1,c1,a2,b2,c2,t,s = sp.symbols('a1 b1 c1 a2 b2 c2 t s')\n",
    "var = [a1,b1,c1,a2,b2,c2,t,s]\n",
    "E1 = a1*e1 + b1*e2 + c1*p\n",
    "E2 = a2*e1 + b2*e2 + c2*p\n",
    "r  = s*e1 + t*e2"
   ]
  },
  {
   "cell_type": "code",
   "execution_count": 11,
   "metadata": {
    "collapsed": false
   },
   "outputs": [],
   "source": [
    "f = Matrix([\n",
    "\t\tnp.dot(E1,E1) - 1,\n",
    "\t\tnp.dot(E2,E2) - 1,\n",
    "\t\tnp.dot(E1,E2),\n",
    "\t\tnp.dot(r,r) - 1,\n",
    "\t\tnp.dot(E1,r) - np.dot(e1,r),\n",
    "\t\tnp.dot(E2,r) - np.dot(e2,r),\n",
    "\t\tnp.dot(p,E1) - x2,\n",
    "\t\tnp.dot(p,E2) - y2\n",
    "\t\t])"
   ]
  },
  {
   "cell_type": "code",
   "execution_count": 12,
   "metadata": {
    "collapsed": false
   },
   "outputs": [],
   "source": [
    "df = np.array([])\n",
    "for i in range(len(f)):\n",
    "\tfor j in range(len(var)):\n",
    "\t\tdf = np.append(df, sp.diff(f[i],var[j]))"
   ]
  },
  {
   "cell_type": "code",
   "execution_count": 13,
   "metadata": {
    "collapsed": false
   },
   "outputs": [],
   "source": [
    "df = df.reshape(len(var),len(f))"
   ]
  },
  {
   "cell_type": "code",
   "execution_count": 14,
   "metadata": {
    "collapsed": false
   },
   "outputs": [
    {
     "data": {
      "text/plain": [
       "sympy.matrices.dense.MutableDenseMatrix"
      ]
     },
     "execution_count": 14,
     "metadata": {},
     "output_type": "execute_result"
    }
   ],
   "source": [
    "type(f)"
   ]
  },
  {
   "cell_type": "code",
   "execution_count": 15,
   "metadata": {
    "collapsed": false
   },
   "outputs": [],
   "source": [
    "func=f.norm()\n",
    "lam_f = lambdify((a1,b1,c1,a2,b2,c2,t,s), func, 'numpy')"
   ]
  },
  {
   "cell_type": "code",
   "execution_count": 73,
   "metadata": {
    "collapsed": false
   },
   "outputs": [
    {
     "data": {
      "text/plain": [
       "<function numpy.<lambda>>"
      ]
     },
     "execution_count": 73,
     "metadata": {},
     "output_type": "execute_result"
    }
   ],
   "source": [
    "lam_f"
   ]
  },
  {
   "cell_type": "code",
   "execution_count": 72,
   "metadata": {
    "collapsed": false
   },
   "outputs": [
    {
     "name": "stdout",
     "output_type": "stream",
     "text": [
      "1.78292713414\n"
     ]
    },
    {
     "data": {
      "text/plain": [
       "      fun: 5.9874912320374349e-07\n",
       " hess_inv: <8x8 LbfgsInvHessProduct with dtype=float64>\n",
       "      jac: array([ 0.04601905, -0.00382544,  0.0051648 ,  0.00240156, -0.01345265,\n",
       "        0.01312605,  0.01092906, -0.0009878 ])\n",
       "  message: b'CONVERGENCE: REL_REDUCTION_OF_F_<=_FACTR*EPSMCH'\n",
       "     nfev: 1206\n",
       "      nit: 72\n",
       "   status: 0\n",
       "  success: True\n",
       "        x: array([  1.00000005e+00,  -4.68082994e-06,  -7.93041648e-06,\n",
       "         2.22750609e-07,   9.99991456e-01,  -1.48720468e-05,\n",
       "         8.89506180e-01,   4.56923134e-01])"
      ]
     },
     "execution_count": 72,
     "metadata": {},
     "output_type": "execute_result"
    }
   ],
   "source": [
    "#bnds = ((-1, 1), (-1, 1), (-1, 1), (-1, 1),(-1, 1), (-1, 1), (-1, 1), (-1, 1))\n",
    "\n",
    "print(lam_f(1,1,1,1,1,1,1,1))\n",
    "arr = np.array([1,1,1,1,1,1,1,1])\n",
    "\n",
    "def g(args): return lam_f(*args)\n",
    "opt.minimize(g,arr,method='L-BFGS-B')"
   ]
  },
  {
   "cell_type": "code",
   "execution_count": 87,
   "metadata": {
    "collapsed": false
   },
   "outputs": [
    {
     "data": {
      "text/plain": [
       "sympy.core.power.Pow"
      ]
     },
     "execution_count": 87,
     "metadata": {},
     "output_type": "execute_result"
    }
   ],
   "source": [
    "type(func)"
   ]
  },
  {
   "cell_type": "code",
   "execution_count": 88,
   "metadata": {
    "collapsed": false
   },
   "outputs": [
    {
     "data": {
      "text/plain": [
       "<function numpy.<lambda>>"
      ]
     },
     "execution_count": 88,
     "metadata": {},
     "output_type": "execute_result"
    }
   ],
   "source": [
    "lambdify((a1,b1,c1,a2,b2,c2,t,s),func)"
   ]
  },
  {
   "cell_type": "code",
   "execution_count": 36,
   "metadata": {
    "collapsed": false
   },
   "outputs": [],
   "source": [
    "sp.var('x y')\n",
    "f = sp.lambdify((x, y), x**2 + y**2)"
   ]
  },
  {
   "cell_type": "code",
   "execution_count": 38,
   "metadata": {
    "collapsed": false
   },
   "outputs": [
    {
     "data": {
      "text/plain": [
       "8"
      ]
     },
     "execution_count": 38,
     "metadata": {},
     "output_type": "execute_result"
    }
   ],
   "source": [
    "f(2, 2)"
   ]
  },
  {
   "cell_type": "code",
   "execution_count": 34,
   "metadata": {
    "collapsed": true
   },
   "outputs": [],
   "source": [
    "def g(args): return lam_f(*args)"
   ]
  },
  {
   "cell_type": "code",
   "execution_count": 31,
   "metadata": {
    "collapsed": false
   },
   "outputs": [
    {
     "data": {
      "text/plain": [
       "8"
      ]
     },
     "execution_count": 31,
     "metadata": {},
     "output_type": "execute_result"
    }
   ],
   "source": [
    "g([2, 2])"
   ]
  },
  {
   "cell_type": "code",
   "execution_count": 32,
   "metadata": {
    "collapsed": false
   },
   "outputs": [
    {
     "data": {
      "text/plain": [
       "8"
      ]
     },
     "execution_count": 32,
     "metadata": {},
     "output_type": "execute_result"
    }
   ],
   "source": [
    "g(np.array([2, 2]))"
   ]
  },
  {
   "cell_type": "code",
   "execution_count": 40,
   "metadata": {
    "collapsed": false
   },
   "outputs": [],
   "source": [
    "def g(args): return lam_f(*args)\n",
    "res = opt.minimize(g,np.array([1,1,1,1,1,1,1,1]),method='L-BFGS-B')"
   ]
  },
  {
   "cell_type": "code",
   "execution_count": 41,
   "metadata": {
    "collapsed": false
   },
   "outputs": [
    {
     "data": {
      "text/plain": [
       "      fun: 5.7727004917249111e-07\n",
       " hess_inv: <8x8 LbfgsInvHessProduct with dtype=float64>\n",
       "      jac: array([ 0.0391516 , -0.00496174,  0.00608893, -0.0118562 ,  0.00776431,\n",
       "        0.00232543,  0.01370445,  0.00019245])\n",
       "  message: b'CONVERGENCE: REL_REDUCTION_OF_F_<=_FACTR*EPSMCH'\n",
       "     nfev: 1206\n",
       "      nit: 72\n",
       "   status: 0\n",
       "  success: True\n",
       "        x: array([  1.00000005e+00,  -4.52579073e-06,  -7.67812664e-06,\n",
       "         2.02142522e-07,   9.99991771e-01,  -1.43286721e-05,\n",
       "         8.89507923e-01,   4.56919742e-01])"
      ]
     },
     "execution_count": 41,
     "metadata": {},
     "output_type": "execute_result"
    }
   ],
   "source": [
    "res"
   ]
  },
  {
   "cell_type": "code",
   "execution_count": 44,
   "metadata": {
    "collapsed": false
   },
   "outputs": [
    {
     "data": {
      "text/plain": [
       "1.000000045503445"
      ]
     },
     "execution_count": 44,
     "metadata": {},
     "output_type": "execute_result"
    }
   ],
   "source": [
    "res.x[0]"
   ]
  },
  {
   "cell_type": "code",
   "execution_count": 45,
   "metadata": {
    "collapsed": false
   },
   "outputs": [
    {
     "data": {
      "text/plain": [
       "a1"
      ]
     },
     "execution_count": 45,
     "metadata": {},
     "output_type": "execute_result"
    }
   ],
   "source": [
    "a1"
   ]
  },
  {
   "cell_type": "code",
   "execution_count": 47,
   "metadata": {
    "collapsed": false
   },
   "outputs": [
    {
     "ename": "TypeError",
     "evalue": "'numpy.ndarray' object is not callable",
     "output_type": "error",
     "traceback": [
      "\u001b[0;31m---------------------------------------------------------------------------\u001b[0m",
      "\u001b[0;31mTypeError\u001b[0m                                 Traceback (most recent call last)",
      "\u001b[0;32m<ipython-input-47-4f4274e84d9e>\u001b[0m in \u001b[0;36m<module>\u001b[0;34m()\u001b[0m\n\u001b[0;32m----> 1\u001b[0;31m \u001b[0mE1\u001b[0m\u001b[0;34m(\u001b[0m\u001b[0;36m1\u001b[0m\u001b[0;34m,\u001b[0m\u001b[0;36m1\u001b[0m\u001b[0;34m,\u001b[0m\u001b[0;36m1\u001b[0m\u001b[0;34m)\u001b[0m\u001b[0;34m\u001b[0m\u001b[0m\n\u001b[0m",
      "\u001b[0;31mTypeError\u001b[0m: 'numpy.ndarray' object is not callable"
     ]
    }
   ],
   "source": []
  },
  {
   "cell_type": "code",
   "execution_count": null,
   "metadata": {
    "collapsed": true
   },
   "outputs": [],
   "source": []
  }
 ],
 "metadata": {
  "kernelspec": {
   "display_name": "Python 3",
   "language": "python",
   "name": "python3"
  },
  "language_info": {
   "codemirror_mode": {
    "name": "ipython",
    "version": 3
   },
   "file_extension": ".py",
   "mimetype": "text/x-python",
   "name": "python",
   "nbconvert_exporter": "python",
   "pygments_lexer": "ipython3",
   "version": "3.5.1"
  }
 },
 "nbformat": 4,
 "nbformat_minor": 0
}
