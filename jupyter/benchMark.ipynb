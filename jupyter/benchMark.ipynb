{
 "cells": [
  {
   "cell_type": "markdown",
   "metadata": {},
   "source": [
    "## AGIにおける計算の各部分のベンチマークを計測する。"
   ]
  },
  {
   "cell_type": "code",
   "execution_count": 8,
   "metadata": {
    "collapsed": false
   },
   "outputs": [],
   "source": [
    "import numpy as np\n",
    "import sympy as sp\n",
    "from scipy import optimize as opt\n",
    "import matplotlib\n",
    "from matplotlib import pyplot as plt\n",
    "from matplotlib import animation\n",
    "\n",
    "from sympy.abc import x\n",
    "from sympy.utilities.lambdify import lambdify, implemented_function\n",
    "from sympy import Function\n",
    "from sympy import Matrix\n",
    "\n",
    "edge = np.genfromtxt('csv/adjacency.csv', delimiter=\",\").astype(np.int64) \n",
    "P = np.genfromtxt('csv/mdSpace.csv', delimiter=\",\") \n",
    "n = len(P)\n",
    "L =np.genfromtxt('csv/eigVals.csv', delimiter=\",\") \n",
    "L_pos = np.array([L[i] if L[i]>0 else 0 for i in range(n)])\n",
    "d = np.count_nonzero(L_pos)\t# d ... the number of positive values\n",
    "Ln = np.sqrt(L_pos)\n",
    "\n",
    "f2 = np.array(Ln[0:d])\n",
    "f2[::2] = 0\n",
    "f1 = Ln[0:d] - f2\n",
    "e1 = f1 / np.linalg.norm(f1)\n",
    "e2 = f2 / np.linalg.norm(f2)\n",
    "temp1 = e1\n",
    "temp2 = e2\n",
    "\n",
    "Xs = np.array([])\n",
    "Ys = np.array([])\n",
    "\n",
    "for i in np.arange(n):\n",
    "    p0 = P[i,0:d]\n",
    "    Xs = np.append(Xs,np.dot(p0,e1))\n",
    "    Ys = np.append(Ys,np.dot(p0,e2))\n",
    "    \n",
    "a1,b1,c1,a2,b2,c2,t,s = sp.symbols('a1 b1 c1 a2 b2 c2 t s')   # variables\n",
    "x2_s,y2_s = sp.symbols('x2_s y2_s') # values\n",
    "P_i = sp.MatrixSymbol('P_i', d, 1)\n",
    "E1 = sp.MatrixSymbol('E1', d, 1)\n",
    "E2 = sp.MatrixSymbol('E2', d, 1)\n",
    "var = (x2_s,y2_s,P_i,E1,E2,a1,b1,c1,a2,b2,c2,t,s)\n",
    "\n",
    "_E1 = a1*sp.Matrix(E1) + b1*sp.Matrix(E2) + c1*sp.Matrix(P_i)\n",
    "_E2 = a2*sp.Matrix(E1) + b2*sp.Matrix(E2) + c2*sp.Matrix(P_i)\n",
    "R  = s*sp.Matrix(E1) + t*sp.Matrix(E2)\n",
    "\n",
    "f = Matrix([\n",
    "\t\t_E1.dot(_E1) - 1,\n",
    "\t\t_E2.dot(_E2) - 1,\n",
    "\t\t_E1.dot(_E2),\n",
    "\t\tR.dot(R) - 1,\n",
    "\t\t_E1.dot(R) - sp.Matrix(E1).dot(R),\n",
    "\t\t_E2.dot(R) - sp.Matrix(E2).dot(R),\n",
    "\t\tsp.Matrix(P_i).dot(_E1) - x2_s,\n",
    "\t\tsp.Matrix(P_i).dot(_E2) - y2_s\n",
    "\t\t])\n",
    "\n",
    "lam_f = lambdify(var, f, 'numpy')\n",
    "\n",
    "def lam_f2(x2,y2,p,e1,e2):\n",
    "    return lambda a1,b1,c1,a2,b2,c2,t,s: np.linalg.norm(lam_f(x2,y2,sp.Matrix(p),sp.Matrix(e1),sp.Matrix(e2),a1,b1,c1,a2,b2,c2,t,s))\n",
    "\n",
    "f2 = lam_f2(1,1,P[0],e1,e2)\n",
    "def g(args): return f2(*args)\n",
    "res = opt.minimize(g,[1,0,0,0,1,0,1,1],method='L-BFGS-B')\n",
    "e1 = res.x[0]*temp1 + res.x[1]*temp2 + res.x[2]*P[0]\n",
    "e2 = res.x[3]*temp1 + res.x[4]*temp2 + res.x[5]*P[0]\n",
    "for i in np.arange(n):\n",
    "    p0 = P[i]\n",
    "    global Xs, Ys\n",
    "    Xs[i] = np.dot(p0,e1)\n",
    "    Ys[i] = np.dot(p0,e2)"
   ]
  },
  {
   "cell_type": "code",
   "execution_count": 7,
   "metadata": {
    "collapsed": true
   },
   "outputs": [],
   "source": [
    "X_sample = 3 * np.random.random_sample((10, 1)) - 1.5\n",
    "Y_sample = 3 * np.random.random_sample((10, 1)) - 1.5\n",
    "varLambdify = (a1, b1, c1, a2, b2, c2, s, t)\n",
    "func = sp.Matrix.norm(f)\n",
    "# V: vector symbol, Vv:np.ndarray\n",
    "def subV(e, V, Vv):\n",
    "    for i in range(len(Vv)):\n",
    "            e = e.subs(V[i,0], Vv[i])\n",
    "    return e\n",
    "# Vs, Vvs : list\n",
    "def subV_mul(e,Vs,Vvs):\n",
    "    if len(Vvs) > 0:\n",
    "        if isinstance(Vvs[0], np.ndarray):\n",
    "            if(len(Vvs[0])>1):\n",
    "                return subV_mul(subV(e,Vs[0],Vvs[0]),Vs[1:],Vvs[1:])\n",
    "            else:\n",
    "                return subV_mul(e.subs(Vs[0],Vvs[0]),Vs[1:],Vvs[1:])\n",
    "        else:\n",
    "            return subV_mul(e.subs(Vs[0],Vvs[0]),Vs[1:],Vvs[1:])\n",
    "    return e\n",
    "\n",
    "import time\n",
    "start = time.time()\n",
    "\n",
    "for i in range(1):\n",
    "    lamlam = lambdify(varLambdify,subV_mul(func,[x2_s,y2_s,P_i,E1,E2],[X_sample[i],Y_sample[i],P[0],e1,e2]),'numpy')\n",
    "\n",
    "elapsed_time = time.time() - start\n",
    "print(\"elapsed_time: \" + str(elapsed_time) + \"[sec]\")"
   ]
  },
  {
   "cell_type": "code",
   "execution_count": null,
   "metadata": {
    "collapsed": true
   },
   "outputs": [],
   "source": [
    "import time\n",
    "\n",
    "start = time.time()\n",
    "\n",
    "for i in range(100):\n",
    "\n",
    "elapsed_time = time.time() - start\n",
    "print (\"elapsed_time: \" + str(elapsed_time) + \"[sec]\")"
   ]
  },
  {
   "cell_type": "code",
   "execution_count": null,
   "metadata": {
    "collapsed": true
   },
   "outputs": [],
   "source": [
    "import time\n",
    "\n",
    "start = time.time()\n",
    "\n",
    "for i in range(100):\n",
    "    res = opt.minimize\n",
    "\n",
    "elapsed_time = time.time() - start\n",
    "print (\"elapsed_time: \" + str(elapsed_time) + \"[sec]\")"
   ]
  },
  {
   "cell_type": "code",
   "execution_count": null,
   "metadata": {
    "collapsed": true
   },
   "outputs": [],
   "source": [
    "e1s,e2s = np.array([])\n",
    "for i in range(100):\n",
    "    res = opt.minimize()"
   ]
  },
  {
   "cell_type": "code",
   "execution_count": null,
   "metadata": {
    "collapsed": true
   },
   "outputs": [],
   "source": [
    "import time\n",
    "\n",
    "start = time.time()\n",
    "\n",
    "for k in range(100):\n",
    "    for i in range(n):\n",
    "        Xs[i] = np.dot(p0,e1s[k])\n",
    "        Ys[i] = np.dot(p0,e2s[k])\n",
    "\n",
    "elapsed_time = time.time() - start\n",
    "print (\"elapsed_time: \" + str(elapsed_time) + \"[sec]\")"
   ]
  },
  {
   "cell_type": "code",
   "execution_count": null,
   "metadata": {
    "collapsed": true
   },
   "outputs": [],
   "source": [
    ""
   ]
  },
  {
   "cell_type": "code",
   "execution_count": null,
   "metadata": {
    "collapsed": true
   },
   "outputs": [],
   "source": [
    ""
   ]
  },
  {
   "cell_type": "code",
   "execution_count": null,
   "metadata": {
    "collapsed": true
   },
   "outputs": [],
   "source": [
    ""
   ]
  },
  {
   "cell_type": "code",
   "execution_count": null,
   "metadata": {
    "collapsed": true
   },
   "outputs": [],
   "source": [
    ""
   ]
  }
 ],
 "metadata": {
  "kernelspec": {
   "display_name": "Python 3",
   "language": "python",
   "name": "python3"
  },
  "language_info": {
   "codemirror_mode": {
    "name": "ipython",
    "version": 3.0
   },
   "file_extension": ".py",
   "mimetype": "text/x-python",
   "name": "python",
   "nbconvert_exporter": "python",
   "pygments_lexer": "ipython3",
   "version": "3.5.1"
  }
 },
 "nbformat": 4,
 "nbformat_minor": 0
}