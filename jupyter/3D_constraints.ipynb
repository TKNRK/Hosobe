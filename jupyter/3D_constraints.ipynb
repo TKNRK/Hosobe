{
 "cells": [
  {
   "cell_type": "code",
   "execution_count": 12,
   "metadata": {
    "collapsed": false
   },
   "outputs": [
    {
     "name": "stdout",
     "output_type": "stream",
     "text": [
      "init: ready\n"
     ]
    }
   ],
   "source": [
    "import numpy as np\n",
    "import sympy as sp\n",
    "from scipy import optimize as opt\n",
    "from matplotlib import pyplot as plt\n",
    "from sympy.utilities.lambdify import lambdify\n",
    "from sympy import Matrix\n",
    "\n",
    "#  initialize\n",
    "edge = np.genfromtxt('csv/adjacency.csv', delimiter=\",\").astype(np.int64)\n",
    "P = np.genfromtxt('csv/mdSpace.csv', delimiter=\",\")\n",
    "n = len(P)\n",
    "L = np.genfromtxt('csv/eigVals.csv', delimiter=\",\")\n",
    "L_pos = np.array([L[i] if L[i] > 0 else 0 for i in range(n)])\n",
    "d = np.count_nonzero(L_pos)\n",
    "\n",
    "dim = 3\n",
    "Fs = [] ; Es = [] ; Temps = []\n",
    "for i in range(dim):\n",
    "    count = i\n",
    "    _fi = np.array(Ln[0:d])\n",
    "    for j in range(dim - 1):\n",
    "        _fi[count::d] = 0\n",
    "        count = i+1 % dim\n",
    "    _ei = (_fi / np.linalg.norm(_fi)).reshape(d,1)\n",
    "    np.append(Fs,_fi)\n",
    "    np.append(Es,_ei)\n",
    "    np.append(Temps,_ei)\n",
    "\n",
    "Ln = np.sqrt(L_pos)\n",
    "f2 = np.array(Ln[0:d])\n",
    "f2[::2] = 0\n",
    "f1 = Ln[0:d] - f2\n",
    "e1 = (f1 / np.linalg.norm(f1)).reshape(d,1)\n",
    "e2 = (f2 / np.linalg.norm(f2)).reshape(d,1)\n",
    "temp1 = e1\n",
    "temp2 = e2\n",
    "\n",
    "Xs = np.zeros(n)\n",
    "Ys = np.zeros(n)\n",
    "\n",
    "def update_points():\n",
    "\tfor i in np.arange(n):\n",
    "\t\tglobal Xs, Ys\n",
    "\t\tp0 = P[i, 0:d]\n",
    "\t\tXs[i] = np.dot(p0, e1)\n",
    "\t\tYs[i] = np.dot(p0, e2)\n",
    "\n",
    "update_points()\n",
    "\n",
    "print(\"init: ready\")"
   ]
  },
  {
   "cell_type": "code",
   "execution_count": 10,
   "metadata": {
    "collapsed": false
   },
   "outputs": [
    {
     "name": "stdout",
     "output_type": "stream",
     "text": [
      "-1.3656827077\n",
      "0.745037100051\n"
     ]
    }
   ],
   "source": [
    "print(Xs[14])\n",
    "print(Ys[14])"
   ]
  },
  {
   "cell_type": "code",
   "execution_count": 11,
   "metadata": {
    "collapsed": false
   },
   "outputs": [
    {
     "name": "stdout",
     "output_type": "stream",
     "text": [
      "lambda: ready\n",
      "      fun: 9.9384700487508739e-06\n",
      " hess_inv: <8x8 LbfgsInvHessProduct with dtype=float64>\n",
      "      jac: array([-0.02112712,  1.09903503,  0.12270348,  0.83554002,  0.23817256,\n",
      "       -0.67565742,  0.41901259, -0.71884578])\n",
      "  message: b'CONVERGENCE: REL_REDUCTION_OF_F_<=_FACTR*EPSMCH'\n",
      "     nfev: 1404\n",
      "      nit: 88\n",
      "   status: 0\n",
      "  success: True\n",
      "        x: array([-1.38768678,  1.30674259, -0.91791899,  1.31134468,  0.28232936,\n",
      "        0.50573269,  0.87651008,  0.4813836 ])\n",
      "3.8108909392e-07\n",
      "-2.16805534671e-06\n"
     ]
    }
   ],
   "source": [
    "# sympy\n",
    "a1,b1,c1,a2,b2,c2,t,s = sp.symbols('a1 b1 c1 a2 b2 c2 t s')   # variables\n",
    "x2_s,y2_s = sp.symbols('x2_s y2_s')  # values\n",
    "P_i = sp.MatrixSymbol('P_i', d, 1)\n",
    "E1 = sp.MatrixSymbol('E1', d, 1)\n",
    "E2 = sp.MatrixSymbol('E2', d, 1)\n",
    "var = (x2_s,y2_s,P_i,E1,E2,a1,b1,c1,a2,b2,c2,t,s)\n",
    "\n",
    "_E1 = a1*sp.Matrix(E1) + b1*sp.Matrix(E2) + c1*sp.Matrix(P_i)\n",
    "_E2 = a2*sp.Matrix(E1) + b2*sp.Matrix(E2) + c2*sp.Matrix(P_i)\n",
    "R = s*sp.Matrix(E1) + t*sp.Matrix(E2)\n",
    "\n",
    "f = Matrix([\n",
    "\t\t_E1.dot(_E1) - 1,\n",
    "\t\t_E2.dot(_E2) - 1,\n",
    "\t\t_E1.dot(_E2),\n",
    "\t\tR.dot(R) - 1,\n",
    "\t\t_E1.dot(R) - sp.Matrix(E1).dot(R),\n",
    "\t\t_E2.dot(R) - sp.Matrix(E2).dot(R),\n",
    "\t\tsp.Matrix(P_i).dot(_E1) - x2_s,\n",
    "\t\tsp.Matrix(P_i).dot(_E2) - y2_s\n",
    "\t\t])\n",
    "\n",
    "func = sp.Matrix.norm(f)\n",
    "\n",
    "lam_f = lambdify(var, func, 'numpy')\n",
    "\n",
    "def lam(x2, y2, p, e_1, e_2):\n",
    "    return lambda a1,b1,c1,a2,b2,c2,t,s: \\\n",
    "        lam_f(x2, y2, p, e_1, e_2, a1, b1, c1, a2, b2, c2, t, s)\n",
    "\n",
    "print(\"lambda: ready\")\n",
    "\n",
    "######## Graph Drawing ########\n",
    "identifier = \"14\"\n",
    "arr = np.array([1, 1, 1, 1, 1, 1, 1, 1])\n",
    "\n",
    "f2 = lam(0, 0, P[int(identifier)].reshape(d,1), e1, e2)\n",
    "def g(args): return f2(*args)\n",
    "res = opt.minimize(g, arr, method='L-BFGS-B')\n",
    "print(res)\n",
    "e1 = res.x[0] * temp1 + res.x[1] * temp2 + res.x[2] * P[int(identifier)].reshape(d,1)\n",
    "e2 = res.x[3] * temp1 + res.x[4] * temp2 + res.x[5] * P[int(identifier)].reshape(d,1)\n",
    "temp1 = e1\n",
    "temp2 = e2\n",
    "update_points()\n",
    "print(Xs[14])\n",
    "print(Ys[14])"
   ]
  },
  {
   "cell_type": "code",
   "execution_count": 18,
   "metadata": {
    "collapsed": false
   },
   "outputs": [
    {
     "data": {
      "text/plain": [
       "array([ 1,  0,  0,  4,  0,  0,  7,  0,  0, 10,  0,  0])"
      ]
     },
     "execution_count": 18,
     "metadata": {},
     "output_type": "execute_result"
    }
   ],
   "source": [
    "aray = np.array([1,2,3,4,5,6,7,8,9,10,11,12])\n",
    "aray[2::3] = 0\n",
    "aray[1::3] = 0\n",
    "aray"
   ]
  },
  {
   "cell_type": "code",
   "execution_count": 19,
   "metadata": {
    "collapsed": false
   },
   "outputs": [
    {
     "name": "stdout",
     "output_type": "stream",
     "text": [
      "init: ready\n",
      "-0.135780740523 -1.37563426606 0.767244058045\n"
     ]
    }
   ],
   "source": [
    "import numpy as np\n",
    "import sympy as sp\n",
    "from scipy import optimize as opt\n",
    "from matplotlib import pyplot as plt\n",
    "from sympy.utilities.lambdify import lambdify\n",
    "from sympy import Matrix\n",
    "\n",
    "#  initialize\n",
    "edge = np.genfromtxt('csv/adjacency.csv', delimiter=\",\").astype(np.int64)\n",
    "P = np.genfromtxt('csv/mdSpace.csv', delimiter=\",\")\n",
    "n = len(P)\n",
    "L = np.genfromtxt('csv/eigVals.csv', delimiter=\",\")\n",
    "L_pos = np.array([L[i] if L[i] > 0 else 0 for i in range(n)])\n",
    "d = np.count_nonzero(L_pos)\n",
    "Ln = np.sqrt(L_pos)\n",
    "\n",
    "f1 = np.array(Ln[0:d])\n",
    "f2 = np.array(Ln[0:d])\n",
    "f3 = np.array(Ln[0:d])\n",
    "f1[0::3] = 0 ; f1[1::3] = 0\n",
    "f2[1::3] = 0 ; f2[2::3] = 0\n",
    "f3[2::3] = 0 ; f3[0::3] = 0\n",
    "e1 = (f1 / np.linalg.norm(f1)).reshape(d,1)\n",
    "e2 = (f2 / np.linalg.norm(f2)).reshape(d,1)\n",
    "e3 = (f3 / np.linalg.norm(f3)).reshape(d,1)\n",
    "temp1 = e1\n",
    "temp2 = e2\n",
    "temp3 = e3\n",
    "\n",
    "Xs = np.zeros(n)\n",
    "Ys = np.zeros(n)\n",
    "Zs = np.zeros(n)\n",
    "\n",
    "def update_points():\n",
    "    for i in np.arange(n):\n",
    "        global Xs, Ys, Zs\n",
    "        p0 = P[i, 0:d]\n",
    "        Xs[i] = np.dot(p0, e1)\n",
    "        Ys[i] = np.dot(p0, e2)\n",
    "        Zs[i] = np.dot(p0, e3)\n",
    "\n",
    "update_points()\n",
    "\n",
    "print(\"init: ready\")\n",
    "print(Xs[14],Ys[14],Zs[14])"
   ]
  },
  {
   "cell_type": "code",
   "execution_count": 22,
   "metadata": {
    "collapsed": false
   },
   "outputs": [
    {
     "name": "stdout",
     "output_type": "stream",
     "text": [
      "      fun: 6.9348480821558674e-06\n",
      " hess_inv: <15x15 LbfgsInvHessProduct with dtype=float64>\n",
      "      jac: array([ 0.47280315,  0.1479708 , -0.46911059, -0.03828469,  0.14711884,\n",
      "        0.19723734,  0.09504176, -0.4375587 ,  0.436957  ,  0.31229612,\n",
      "       -0.13059697, -0.14977589, -0.00439372, -0.16080881,  0.20957697])\n",
      "  message: b'CONVERGENCE: REL_REDUCTION_OF_F_<=_FACTR*EPSMCH'\n",
      "     nfev: 2336\n",
      "      nit: 104\n",
      "   status: 0\n",
      "  success: True\n",
      "        x: array([ 0.96034818,  0.75434511, -0.5929625 ,  0.51933612,  0.23695358,\n",
      "       -0.02537001,  1.07883479, -0.26572628, -0.22593551,  1.85861003,\n",
      "       -0.65209731,  0.96837802,  0.77793402, -0.3605194 , -0.51463019])\n"
     ]
    }
   ],
   "source": [
    "identifier = \"14\"\n",
    "\n",
    "# sympy\n",
    "a1,b1,c1,d1,a2,b2,c2,d2,a3,b3,c3,d3,t,s,u = sp.symbols('a1 b1 c1 d1 a2 b2 c2 d2 a3 b3 c3 d3 t s u')   # variables\n",
    "x2_s,y2_s,z2_s = sp.symbols('x2_s y2_s z2_s')  # values\n",
    "P_i = sp.MatrixSymbol('P_i', d, 1)\n",
    "E1 = sp.MatrixSymbol('E1', d, 1)\n",
    "E2 = sp.MatrixSymbol('E2', d, 1)\n",
    "E3 = sp.MatrixSymbol('E3', d, 1)\n",
    "_var = (x2_s,y2_s,z2_s,P_i,E1,E2,E3,a1,b1,c1,d1,a2,b2,c2,d2,a3,b3,c3,d3,t,s,u)\n",
    "\n",
    "_E1 = sp.Matrix(a1*E1 + b1*E2 + c1*E3 + d1*P_i)\n",
    "_E2 = sp.Matrix(a2*E1 + b2*E2 + c2*E3 + d2*P_i)\n",
    "_E3 = sp.Matrix(a3*E1 + b3*E2 + c3*E3 + d3*P_i)\n",
    "R = sp.Matrix(t*E1 + s*E2 + u*E3)\n",
    "\n",
    "_f = Matrix([\n",
    "\t\t_E1.dot(_E1) - 1,\n",
    "\t\t_E2.dot(_E2) - 1,\n",
    "\t\t_E3.dot(_E3) - 1,\n",
    "\t\t_E1.dot(_E2),\n",
    "\t\t_E2.dot(_E3),\n",
    "\t\t_E3.dot(_E1),\n",
    "\t\tR.dot(R) - 1,\n",
    "\t\t_E1.dot(R) - sp.Matrix(E1).dot(R),\n",
    "\t\t_E2.dot(R) - sp.Matrix(E2).dot(R),\n",
    "\t\t_E3.dot(R) - sp.Matrix(E3).dot(R),\n",
    "\t\tsp.Matrix(P_i).dot(_E1) - x2_s,\n",
    "\t\tsp.Matrix(P_i).dot(_E2) - y2_s,\n",
    "\t\tsp.Matrix(P_i).dot(_E3) - z2_s\n",
    "\t\t])\n",
    "\n",
    "_func = sp.Matrix.norm(_f)\n",
    "\n",
    "_lam_f = lambdify(_var, _func, 'numpy')\n",
    "\n",
    "def _lam(x2,y2,z2,p,e_1,e_2,e_3):\n",
    "    return lambda a1,b1,c1,d1,a2,b2,c2,d2,a3,b3,c3,d3,t,s,u: \\\n",
    "        _lam_f(x2,y2,z2,p,e_1,e_2,e_3,a1,b1,c1,d1,a2,b2,c2,d2,a3,b3,c3,d3,t,s,u)\n",
    "\n",
    "    \n",
    "ons = np.ones(15)\n",
    "_arr = np.array(ons)\n",
    "\n",
    "_f2 = _lam(0, 0, 0, P[int(identifier)].reshape(d,1), e1, e2, e3)\n",
    "def _g(args): return _f2(*args)\n",
    "res = opt.minimize(_g, _arr, method='L-BFGS-B')\n",
    "print(res)\n",
    "e1 = res.x[0] * temp1 + res.x[1] * temp2 + res.x[2] * temp3 + res.x[3] * P[int(identifier)].reshape(d,1)\n",
    "e2 = res.x[4] * temp1 + res.x[5] * temp2 + res.x[6] * temp3 + res.x[7] * P[int(identifier)].reshape(d,1)\n",
    "e3 = res.x[8] * temp1 + res.x[9] * temp2 + res.x[10] * temp3 + res.x[11] * P[int(identifier)].reshape(d,1)"
   ]
  },
  {
   "cell_type": "code",
   "execution_count": 24,
   "metadata": {
    "collapsed": false
   },
   "outputs": [
    {
     "name": "stdout",
     "output_type": "stream",
     "text": [
      "-1.00678736542e-07 -9.81173794042e-07 -3.4502068666e-07\n"
     ]
    }
   ],
   "source": [
    "update_points()\n",
    "print(Xs[14],Ys[14],Zs[14])"
   ]
  },
  {
   "cell_type": "code",
   "execution_count": null,
   "metadata": {
    "collapsed": true
   },
   "outputs": [],
   "source": []
  }
 ],
 "metadata": {
  "kernelspec": {
   "display_name": "Python 3",
   "language": "python",
   "name": "python3"
  },
  "language_info": {
   "codemirror_mode": {
    "name": "ipython",
    "version": 3
   },
   "file_extension": ".py",
   "mimetype": "text/x-python",
   "name": "python",
   "nbconvert_exporter": "python",
   "pygments_lexer": "ipython3",
   "version": "3.5.1"
  }
 },
 "nbformat": 4,
 "nbformat_minor": 0
}
