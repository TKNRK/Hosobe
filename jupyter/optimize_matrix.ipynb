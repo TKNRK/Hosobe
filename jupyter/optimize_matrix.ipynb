{
 "cells": [
  {
   "cell_type": "code",
   "execution_count": 1,
   "metadata": {
    "collapsed": true
   },
   "outputs": [],
   "source": [
    "from sympy import *\n",
    "import numpy as np\n",
    "from scipy.optimize import minimize\n",
    "from sympy.matrices.expressions.matmul import remove_ids"
   ]
  },
  {
   "cell_type": "code",
   "execution_count": 3,
   "metadata": {
    "collapsed": false
   },
   "outputs": [],
   "source": [
    "M = MatrixSymbol('M',5,5)\n",
    "\n",
    "f = (M[0,0])**2 + (M[0,1]-1)**2 + (M[0,2]-2)**2 + (M[1,0]-5)**2 + (M[1,1]-6)**2 + (M[1,2]-7)**2 + (M[2,0]-10)**2 + (M[2,1]-11)**2"
   ]
  },
  {
   "cell_type": "code",
   "execution_count": 4,
   "metadata": {
    "collapsed": true
   },
   "outputs": [],
   "source": [
    "lam_f = lambdify(M,f)"
   ]
  },
  {
   "cell_type": "code",
   "execution_count": 5,
   "metadata": {
    "collapsed": false
   },
   "outputs": [
    {
     "data": {
      "text/plain": [
       "0"
      ]
     },
     "execution_count": 5,
     "metadata": {},
     "output_type": "execute_result"
    }
   ],
   "source": [
    "arr = np.zeros(25).reshape(5,5)\n"
   ]
  },
  {
   "cell_type": "code",
   "execution_count": 9,
   "metadata": {
    "collapsed": false
   },
   "outputs": [
    {
     "name": "stdout",
     "output_type": "stream",
     "text": [
      "      fun: 1.999914132389121e-16\n",
      " hess_inv: <8x8 LbfgsInvHessProduct with dtype=float64>\n",
      "      jac: array([  1.59998115e-13,  -8.88178414e-16,   4.17443855e-14,\n",
      "         5.71098720e-13,   7.81597074e-14,   6.00408661e-13,\n",
      "        -1.87405645e-13,   4.55635527e-13])\n",
      "  message: b'CONVERGENCE: NORM_OF_PROJECTED_GRADIENT_<=_PGTOL'\n",
      "     nfev: 45\n",
      "      nit: 3\n",
      "   status: 0\n",
      "  success: True\n",
      "        x: array([ -4.99992000e-09,   9.99999995e-01,   5.00000000e+00,\n",
      "         6.00000000e+00,   1.00000000e+01,   1.10000000e+01,\n",
      "         1.99999999e+00,   7.00000000e+00])\n"
     ]
    }
   ],
   "source": [
    "arr_init = np.zeros(25).reshape(5,5)\n",
    "\n",
    "def arr_initializer(a,b):\n",
    "    arr_init[0:3,0:2] = a\t\t# E' variables ( E'[0] = this[0:dim+1,0] * (E:E0) )\n",
    "    arr_init[0:2,2:3] = b\t# R  variables ( ignore )\n",
    "    return lam_f(arr_init)\n",
    "\n",
    "init = np.array([1,1,1,1,1,1,1,1])\n",
    "\n",
    "def g(args):\n",
    "\targ1 = args[0:6].reshape(3,2)\n",
    "\targ2 = args[6:8].reshape(2,1)\n",
    "\treturn arr_initializer(arg1,arg2)\n",
    "\n",
    "res = minimize(g, init, method='L-BFGS-B',options={'ftol':1e-3})\n",
    "print(res)"
   ]
  },
  {
   "cell_type": "code",
   "execution_count": null,
   "metadata": {
    "collapsed": true
   },
   "outputs": [],
   "source": []
  }
 ],
 "metadata": {
  "hide_input": false,
  "kernelspec": {
   "display_name": "Python 3",
   "language": "python",
   "name": "python3"
  },
  "language_info": {
   "codemirror_mode": {
    "name": "ipython",
    "version": 3
   },
   "file_extension": ".py",
   "mimetype": "text/x-python",
   "name": "python",
   "nbconvert_exporter": "python",
   "pygments_lexer": "ipython3",
   "version": "3.5.1"
  }
 },
 "nbformat": 4,
 "nbformat_minor": 0
}
