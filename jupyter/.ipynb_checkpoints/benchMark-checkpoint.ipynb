{
 "cells": [
  {
   "cell_type": "markdown",
   "metadata": {},
   "source": [
    "## AGIにおける計算の各部分のベンチマークを計測する。"
   ]
  },
  {
   "cell_type": "markdown",
   "metadata": {},
   "source": [
    "|計測部分|一回あたりの実行時間|コード内の計算回数|\n",
    "|:-|:-|:-|\n",
    "|旧lambdify|70.83559119701385[sec]|ドラッグの度|\n",
    "|新lambdify|3.4351510787010193[sec]|1回のみ|\n",
    "|opt.minimize|0.04132338047027588[sec]|ドラッグの度|\n",
    "|基底更新|1.6651153564453126e-05[sec]|ドラッグの度|\n",
    "|座標再計算|3.598928451538086e-05[sec]|ドラッグの度|\n",
    "|図のフィールド更新|0.00024055957794189454[sec]|ドラッグの度|"
   ]
  },
  {
   "cell_type": "code",
   "execution_count": 4,
   "metadata": {
    "collapsed": false
   },
   "outputs": [
    {
     "name": "stdout",
     "output_type": "stream",
     "text": [
      "(12,)\n",
      "<class 'numpy.ndarray'>\n",
      "init: ready\n",
      "lambda: ready\n"
     ]
    }
   ],
   "source": [
    "import numpy as np\n",
    "import sympy as sp\n",
    "from scipy import optimize as opt\n",
    "from matplotlib import pyplot as plt\n",
    "from sympy.utilities.lambdify import lambdify\n",
    "from sympy import Matrix\n",
    "\n",
    "#  initialize\n",
    "edge = np.genfromtxt('csv/adjacency.csv', delimiter=\",\").astype(np.int64)\n",
    "P = np.genfromtxt('csv/mdSpace.csv', delimiter=\",\")\n",
    "n = len(P)\n",
    "L = np.genfromtxt('csv/eigVals.csv', delimiter=\",\")\n",
    "L_pos = np.array([L[i] if L[i] > 0 else 0 for i in range(n)])\n",
    "d = np.count_nonzero(L_pos)\n",
    "Ln = np.sqrt(L_pos)\n",
    "f2 = np.array(Ln[0:d])\n",
    "f2[::2] = 0\n",
    "f1 = Ln[0:d] - f2\n",
    "e1 = (f1 / np.linalg.norm(f1)).reshape(d,1)\n",
    "e2 = (f2 / np.linalg.norm(f2)).reshape(d,1)\n",
    "temp1 = e1\n",
    "temp2 = e2\n",
    "\n",
    "print(P[0].shape)\n",
    "print(type(P[0]))\n",
    "\n",
    "Xs = np.zeros(n)\n",
    "Ys = np.zeros(n)\n",
    "\n",
    "def update_points():\n",
    "\tfor i in np.arange(n):\n",
    "\t\tglobal Xs, Ys\n",
    "\t\tp0 = P[i, 0:d]\n",
    "\t\tXs[i] = np.dot(p0, e1)\n",
    "\t\tYs[i] = np.dot(p0, e2)\n",
    "\n",
    "update_points()\n",
    "\n",
    "print(\"init: ready\")\n",
    "\n",
    "# sympy\n",
    "a1,b1,c1,a2,b2,c2,t,s = sp.symbols('a1 b1 c1 a2 b2 c2 t s')   # variables\n",
    "x2_s,y2_s = sp.symbols('x2_s y2_s')  # values\n",
    "P_i = sp.MatrixSymbol('P_i', d, 1)\n",
    "E1 = sp.MatrixSymbol('E1', d, 1)\n",
    "E2 = sp.MatrixSymbol('E2', d, 1)\n",
    "var = (x2_s,y2_s,P_i,E1,E2,a1,b1,c1,a2,b2,c2,t,s)\n",
    "\n",
    "_E1 = a1*sp.Matrix(E1) + b1*sp.Matrix(E2) + c1*sp.Matrix(P_i)\n",
    "_E2 = a2*sp.Matrix(E1) + b2*sp.Matrix(E2) + c2*sp.Matrix(P_i)\n",
    "R = s*sp.Matrix(E1) + t*sp.Matrix(E2)\n",
    "\n",
    "f = Matrix([\n",
    "\t\t_E1.dot(_E1) - 1,\n",
    "\t\t_E2.dot(_E2) - 1,\n",
    "\t\t_E1.dot(_E2),\n",
    "\t\tR.dot(R) - 1,\n",
    "\t\t_E1.dot(R) - sp.Matrix(E1).dot(R),\n",
    "\t\t_E2.dot(R) - sp.Matrix(E2).dot(R),\n",
    "\t\tsp.Matrix(P_i).dot(_E1) - x2_s,\n",
    "\t\tsp.Matrix(P_i).dot(_E2) - y2_s\n",
    "\t\t])\n",
    "\n",
    "func = sp.Matrix.norm(f)\n",
    "\n",
    "lam_f = lambdify(var, func, 'numpy')\n",
    "\n",
    "def lam(x2, y2, p, e_1, e_2):\n",
    "    return lambda a1,b1,c1,a2,b2,c2,t,s: \\\n",
    "        lam_f(x2, y2, p, e_1, e_2, a1, b1, c1, a2, b2, c2, t, s)\n",
    "\n",
    "print(\"lambda: ready\")\n",
    "\n",
    "######## Graph Drawing ########\n",
    "identifier = \"\"\n",
    "arr = np.array([1, 1, 1, 1, 1, 1, 1, 1])\n",
    "\n",
    "gca = plt.gca()\n",
    "nodes = np.array([])\n",
    "edges = np.array([])\n",
    "\n",
    "for i in np.arange(n):\n",
    "\tcircle = plt.Circle((Xs[i], Ys[i]), radius=0.2, fc='y', label=str(i))\n",
    "\tgca.add_patch(circle)\n",
    "\tnodes = np.append(nodes, circle)\n",
    "\n",
    "for e in edge:\n",
    "\tline = plt.Line2D((Xs[e[0] - 1], Xs[e[1] - 1]), (Ys[e[0] - 1], Ys[e[1] - 1]), lw=1)\n",
    "\tgca.add_line(line)\n",
    "\tedges = np.append(edges, line)"
   ]
  },
  {
   "cell_type": "markdown",
   "metadata": {},
   "source": [
    "## ドラッグした時の座標のサンプル"
   ]
  },
  {
   "cell_type": "code",
   "execution_count": 18,
   "metadata": {
    "collapsed": true
   },
   "outputs": [],
   "source": [
    "X_sample = 3 * np.random.random_sample((100, 1)) - 1.5\n",
    "Y_sample = 3 * np.random.random_sample((100, 1)) - 1.5"
   ]
  },
  {
   "cell_type": "markdown",
   "metadata": {},
   "source": [
    "## 以前のバージョンにおける lambdify の計算時間"
   ]
  },
  {
   "cell_type": "code",
   "execution_count": 19,
   "metadata": {
    "collapsed": false
   },
   "outputs": [
    {
     "name": "stdout",
     "output_type": "stream",
     "text": [
      "elapsed_time: 708.3559119701385[sec]\n",
      "average_time: 70.83559119701385[sec]\n"
     ]
    }
   ],
   "source": [
    "varLambdify = (a1, b1, c1, a2, b2, c2, s, t)\n",
    "func = sp.Matrix.norm(f)\n",
    "# V: vector symbol, Vv:np.ndarray\n",
    "def subV(e, V, Vv):\n",
    "    for i in range(len(Vv)):\n",
    "            e = e.subs(V[i,0], Vv[i])\n",
    "    return e\n",
    "# Vs, Vvs : list\n",
    "def subV_mul(e,Vs,Vvs):\n",
    "    if len(Vvs) > 0:\n",
    "        if isinstance(Vvs[0], np.ndarray):\n",
    "            if(len(Vvs[0])>1):\n",
    "                return subV_mul(subV(e,Vs[0],Vvs[0]),Vs[1:],Vvs[1:])\n",
    "            else:\n",
    "                return subV_mul(e.subs(Vs[0],Vvs[0]),Vs[1:],Vvs[1:])\n",
    "        else:\n",
    "            return subV_mul(e.subs(Vs[0],Vvs[0]),Vs[1:],Vvs[1:])\n",
    "    return e\n",
    "\n",
    "import time\n",
    "start = time.time()\n",
    "\n",
    "for i in range(10):\n",
    "    lamlam = lambdify(varLambdify,subV_mul(func,[x2_s,y2_s,P_i,E1,E2],[X_sample[i],Y_sample[i],P[0],e1,e2]),'numpy')\n",
    "\n",
    "elapsed_time = time.time() - start\n",
    "print(\"elapsed_time: \" + str(elapsed_time) + \"[sec]\")\n",
    "print(\"average_time: \" + str(elapsed_time / 10) + \"[sec]\")"
   ]
  },
  {
   "cell_type": "markdown",
   "metadata": {},
   "source": [
    "## 現在の計算における lambdify の計算時間"
   ]
  },
  {
   "cell_type": "code",
   "execution_count": 20,
   "metadata": {
    "collapsed": false
   },
   "outputs": [
    {
     "name": "stdout",
     "output_type": "stream",
     "text": [
      "elapsed_time: 343.51510787010193[sec]\n",
      "average_time: 3.4351510787010193[sec]\n"
     ]
    }
   ],
   "source": [
    "import time\n",
    "\n",
    "start = time.time()\n",
    "\n",
    "for i in range(100):\n",
    "    lam_f = lambdify(var, func, 'numpy')\n",
    "\n",
    "elapsed_time = time.time() - start\n",
    "print (\"elapsed_time: \" + str(elapsed_time) + \"[sec]\")\n",
    "print(\"average_time: \" + str(elapsed_time / 100) + \"[sec]\")"
   ]
  },
  {
   "cell_type": "markdown",
   "metadata": {},
   "source": [
    "## opt.minimize(L-BFGS=B)の計算時間"
   ]
  },
  {
   "cell_type": "code",
   "execution_count": 21,
   "metadata": {
    "collapsed": false
   },
   "outputs": [
    {
     "name": "stdout",
     "output_type": "stream",
     "text": [
      "elapsed_time: 4.132338047027588[sec]\n",
      "average_time: 0.04132338047027588[sec]\n"
     ]
    }
   ],
   "source": [
    "import time\n",
    "\n",
    "start = time.time()\n",
    "\n",
    "for i in range(100):\n",
    "    def lam(x2, y2, p, e_1, e_2):\n",
    "        return lambda a1,b1,c1,a2,b2,c2,t,s: \\\n",
    "            lam_f(x2, y2, p, e_1, e_2, a1, b1, c1, a2, b2, c2, t, s)\n",
    "    f2 = lam(X_sample[i], Y_sample[i], P[0].reshape(d,1), e1, e2)\n",
    "    def g(args): return f2(*args)\n",
    "    res = opt.minimize(g, arr, method='L-BFGS-B')\n",
    "\n",
    "elapsed_time = time.time() - start\n",
    "print (\"elapsed_time: \" + str(elapsed_time) + \"[sec]\")\n",
    "print(\"average_time: \" + str(elapsed_time / 100) + \"[sec]\")"
   ]
  },
  {
   "cell_type": "markdown",
   "metadata": {},
   "source": [
    "## 基底更新の計算時間"
   ]
  },
  {
   "cell_type": "code",
   "execution_count": 22,
   "metadata": {
    "collapsed": true
   },
   "outputs": [],
   "source": [
    "resS = np.array([])\n",
    "for i in range(100):\n",
    "    def lam(x2, y2, p, e_1, e_2):\n",
    "        return lambda a1,b1,c1,a2,b2,c2,t,s: \\\n",
    "            lam_f(x2, y2, p, e_1, e_2, a1, b1, c1, a2, b2, c2, t, s)\n",
    "    f2 = lam(X_sample[i], Y_sample[i], P[0].reshape(d,1), e1, e2)\n",
    "    def g(args): return f2(*args)\n",
    "    res = opt.minimize(g, arr, method='L-BFGS-B')\n",
    "    resS = np.append(resS,res)"
   ]
  },
  {
   "cell_type": "code",
   "execution_count": 31,
   "metadata": {
    "collapsed": false
   },
   "outputs": [
    {
     "name": "stdout",
     "output_type": "stream",
     "text": [
      "elapsed_time: 0.0016651153564453125[sec]\n",
      "average_time: 1.6651153564453126e-05[sec]\n"
     ]
    }
   ],
   "source": [
    "import time\n",
    "\n",
    "start = time.time()\n",
    "\n",
    "for i in range(100):\n",
    "\te1 = resS[i].x[0] * temp1 + resS[i].x[1] * temp2 + resS[i].x[2] * P[0].reshape(d,1)\n",
    "\te2 = resS[i].x[3] * temp1 + resS[i].x[4] * temp2 + resS[i].x[5] * P[0].reshape(d,1)\n",
    "\ttemp1 = e1\n",
    "\ttemp2 = e2\n",
    "\n",
    "elapsed_time = time.time() - start\n",
    "print (\"elapsed_time: \" + str(elapsed_time) + \"[sec]\")\n",
    "print(\"average_time: \" + str(elapsed_time / 100) + \"[sec]\")"
   ]
  },
  {
   "cell_type": "markdown",
   "metadata": {},
   "source": [
    "## 座標の計算時間(np.dot)"
   ]
  },
  {
   "cell_type": "code",
   "execution_count": 32,
   "metadata": {
    "collapsed": false
   },
   "outputs": [],
   "source": [
    "e1S = []\n",
    "e2S = []\n",
    "for i in range(100):\n",
    "\te1S.append(resS[i].x[0] * temp1 + resS[i].x[1] * temp2 + resS[i].x[2] * P[0].reshape(d,1))\n",
    "\te2S.append(resS[i].x[3] * temp1 + resS[i].x[4] * temp2 + resS[i].x[5] * P[0].reshape(d,1))"
   ]
  },
  {
   "cell_type": "code",
   "execution_count": 33,
   "metadata": {
    "collapsed": false
   },
   "outputs": [
    {
     "name": "stdout",
     "output_type": "stream",
     "text": [
      "elapsed_time: 0.003598928451538086[sec]\n",
      "average_time: 3.598928451538086e-05[sec]\n"
     ]
    }
   ],
   "source": [
    "import time\n",
    "\n",
    "start = time.time()\n",
    "\n",
    "for k in range(100):\n",
    "    e1 = e1S[i]\n",
    "    e2 = e2S[i]\n",
    "    update_points()\n",
    "\n",
    "elapsed_time = time.time() - start\n",
    "print (\"elapsed_time: \" + str(elapsed_time) + \"[sec]\")\n",
    "print(\"average_time: \" + str(elapsed_time / 100) + \"[sec]\")"
   ]
  },
  {
   "cell_type": "markdown",
   "metadata": {
    "collapsed": true
   },
   "source": [
    "## ノードエッジの更新時間"
   ]
  },
  {
   "cell_type": "code",
   "execution_count": 34,
   "metadata": {
    "collapsed": false
   },
   "outputs": [
    {
     "name": "stdout",
     "output_type": "stream",
     "text": [
      "elapsed_time: 0.024055957794189453[sec]\n",
      "average_time: 0.00024055957794189454[sec]\n"
     ]
    }
   ],
   "source": [
    "import time\n",
    "\n",
    "start = time.time()\n",
    "\n",
    "for k in range(100):\n",
    "    for i in np.arange(n):\n",
    "        nodes[i].center = (Xs[i], Ys[i])\n",
    "    for i in range(len(edge)):\n",
    "        edges[i].set_xdata((Xs[edge[i,0] - 1], Xs[edge[i,1] - 1]))\n",
    "        edges[i].set_ydata((Ys[edge[i,0] - 1], Ys[edge[i,1] - 1]))\n",
    "\n",
    "elapsed_time = time.time() - start\n",
    "print (\"elapsed_time: \" + str(elapsed_time) + \"[sec]\")\n",
    "print(\"average_time: \" + str(elapsed_time / 100) + \"[sec]\")"
   ]
  },
  {
   "cell_type": "code",
   "execution_count": null,
   "metadata": {
    "collapsed": true
   },
   "outputs": [],
   "source": []
  }
 ],
 "metadata": {
  "kernelspec": {
   "display_name": "Python 3",
   "language": "python",
   "name": "python3"
  },
  "language_info": {
   "codemirror_mode": {
    "name": "ipython",
    "version": 3
   },
   "file_extension": ".py",
   "mimetype": "text/x-python",
   "name": "python",
   "nbconvert_exporter": "python",
   "pygments_lexer": "ipython3",
   "version": "3.5.1"
  }
 },
 "nbformat": 4,
 "nbformat_minor": 0
}
