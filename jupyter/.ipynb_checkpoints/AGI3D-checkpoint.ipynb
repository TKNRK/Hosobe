{
 "cells": [
  {
   "cell_type": "code",
   "execution_count": 2,
   "metadata": {
    "collapsed": true
   },
   "outputs": [],
   "source": [
    "import sympy as sp\n",
    "from sympy.utilities.lambdify import lambdify, lambdastr\n",
    "\n",
    "import numpy as np\n",
    "np.seterr(all='raise')\n",
    "\n",
    "from scipy import optimize as opt\n",
    "from sympy import Matrix, MatrixSymbol, refine, Identity, Q\n",
    "from tkinter import *\n",
    "import time\n",
    "\n",
    "sp.init_printing()\n",
    "from nbsupport import md"
   ]
  },
  {
   "cell_type": "markdown",
   "metadata": {},
   "source": [
    "# AGI の実装"
   ]
  },
  {
   "cell_type": "markdown",
   "metadata": {},
   "source": [
    "AGI (Active Graph Interface) とは、対話的な高次元グラフ配置方式である。\n",
    "大まかな流れとしては、\n",
    "\n",
    "1. グラフの距離行列と辺のリストを入力とする。\n",
    "2. 多次元尺度構成法により、高次元の座標系と２次元への射影ベクトルを生成する。\n",
    "3. 2で生成したものを用いて、２次元の座標系に配置する。\n",
    "4. ２次元の座標系での操作により、グラフを適切に再配置する。\n",
    "\n",
    "のようになる。"
   ]
  },
  {
   "cell_type": "markdown",
   "metadata": {},
   "source": [
    "## 1. グラフの距離行列と辺のリスト"
   ]
  },
  {
   "cell_type": "markdown",
   "metadata": {},
   "source": [
    "グラフ距離とは、あるノードからあるノードへの最短パスの長さを指す。\n",
    "辺のリストは、辺がどのノード間を結んでいるかを全ての辺について保存する。\n",
    "\n",
    "グラフ距離と辺のリストは入力として与える。グラフ距離はMDS 法において、辺のリストは最終的な描画において使用する。"
   ]
  },
  {
   "cell_type": "markdown",
   "metadata": {},
   "source": [
    "## 2. 多次元尺度構成法（MDS法）"
   ]
  },
  {
   "cell_type": "markdown",
   "metadata": {},
   "source": [
    "MDS法とは多次元点間の距離が与えられた時に、その距離を再現するような座標系を逆算する手法である。\n",
    "ここで、与えられたグラフの距離行列を D とする。(D は (n,n) 型行列)\n",
    "\n",
    "この距離行列の i,j 成分を d(i,j) とした時、この距離を再現するような座標系 P とは、P の i 番目の点と j 番目の点の間のユークリッド距離が d(i,j) に等しくなるようなことを言う。\n",
    "しかし、厳密にそのような座標系を求めることは必ずしもできないため、近似的にそのような座標系を求める。\n",
    "\n",
    "まず、以下のような i,j 成分を持つ実対称行列 A を定義する。\n",
    "\n",
    "- a(i,j) = 後で書く\n",
    "\n",
    "この行列 A の固有値(l_1,l_2,...l_n)を大きい順に並べる。また、この並べた固有値で負の値を取るものは 0 に置き換える。このようなリストを eigens とする。このリストを対角に並べた行列を L とする。A の固有ベクトルを縦ベクトルで並べた行列を V とする。\n",
    "さらに、L の全ての要素の平方を取った行列を L' とした時、求める高次元配置は以下のような P である。\n",
    "\n",
    "- P = V * L'\n",
    "\n",
    "A の正である固有値の数が q 個である時、P は n 個の q 次元座標を格納している。"
   ]
  },
  {
   "cell_type": "markdown",
   "metadata": {},
   "source": [
    "## 3. ２次元の座標系への配置"
   ]
  },
  {
   "cell_type": "markdown",
   "metadata": {},
   "source": [
    "高次元配置 P に射影ベクトルを掛け、２次元に投射することでグラフを配置する。ここで、前節で得た値を使う。\n",
    "\n",
    "- eigens = (l_1, l_2, ..., l_q, 0, ..., 0): 固有値のリストであり、0 < q <= n。\n",
    "- P = (p_1, p_2, .., p_n) : 高次元グラフの座標系。p_i (0 < i <= n) はq 次元座標。\n",
    "\n",
    "このような q 次元グラフ P を２次元に射影するために、q 次元ベクトルの基底 e1, e2 によって成す平面への射影を考える。これらの基底を用いて、(p_i ・e1, p_i ・e2) のように２次元の射影を得る。\n",
    "\n",
    "基底 e1, e2 の初期値は以下のように定義する。\n",
    "\n",
    "- e1 = f1 / |f1|\n",
    "- e2 = f2 / |f2|\n",
    "\n",
    "- f1 = (l_1^a, 0, l_3^a, 0, ...)\n",
    "- f2 = (0, l_2^a, 0, l_4^a, ...)\n",
    "\n",
    "パラメータ a はデフォルトで 0.5 に設定しておく。"
   ]
  },
  {
   "cell_type": "markdown",
   "metadata": {},
   "source": [
    "## 4. 配置の更新"
   ]
  },
  {
   "cell_type": "markdown",
   "metadata": {},
   "source": [
    "AGI では、二次元のグラフ配置を対話的に更新する方法が提供されます。更新は、射影平面を動かすことで実現します。\n",
    "具体的には、ユーザーが２次元のグラフ配置におけるあるノードをドラッグしたとき、そのノードの移動に応じて他のすべてのノードも適切に動くのです。\n",
    "\n",
    "次のように用語を定義します。\n",
    "\n",
    "- (x,y)   : ドラッグして動かす前のノードの座標\n",
    "- (x',y') : ドラッグして動かした後のノードの座標\n",
    "- p       : ドラッグするノードの高次元座標\n",
    "- e1,e2   : 現在の基底\n",
    "- e1',e2' : 更新後の基底\n",
    "\n",
    "ドラッグして動かす前後のノードの座標と現在の基底を用いることで、更新後の基底を得ることが出来れば、それにより２次元のグラフ配置が適切に更新できる。\n",
    "\n",
    "さて、基底の更新において、e1, e2, p によって成される３次元の空間を考える。\n",
    "a1, a2, a3, b1, b2, b3 を変数として、e1', e2' を次のように表現する。\n",
    "\n",
    "- e1' = a1 e1 + a2 e2 + a3 p\n",
    "- e2' = b1 e1 + b2 e2 + b3 p\n",
    "\n",
    "また、ベクトル r を射影空間の回転軸として、s, t を変数と置き、 r = s e1 + t e2 とする。\n",
    "\n",
    "いま、以上の定数と変数を用いることで、以下の８つの制約が立てられる。\n",
    "\n",
    "- ||e1'|| = 1 ; ||e2'|| = 1 ; e1'・e2' = 0\n",
    "- ||r|| = 1 ; e1'・r = e1・r ; e2'・r = e2・r\n",
    "- p・e1' = x' ; p・e2' = y'\n",
    "\n",
    "初めの３つの制約は、e1'とe2'が正規であり、直交することを意味している。\n",
    "次の３つの制約は、 r が単位ベクトルであり、r の周りを e1 と e2 が回転して e1' と e2' が得られることを意味している。\n",
    "最後の２つの制約は、更新後の基底が正しく p を (x',y') に射影していることを意味している。\n",
    "\n",
    "これらの制約式を同時に満たす変数 a1, a2, a3, b1, b2, b3 が求まれば、更新後の基底が定まり、他の高次元座標も射影できて全体が更新される。また、これらの制約式は非線形連立方程式であるため、newton法などで解くことが出来る。"
   ]
  },
  {
   "cell_type": "markdown",
   "metadata": {},
   "source": [
    "# テストケース"
   ]
  },
  {
   "cell_type": "code",
   "execution_count": null,
   "metadata": {
    "collapsed": true
   },
   "outputs": [],
   "source": [
    "EdgeList = np.genfromtxt('csv/edgeList.csv', delimiter=\",\").astype(np.int64)\n",
    "edge_num = len(EdgeList)\n",
    "\n",
    "mds_file = 'csv/mdSpace.csv'\n",
    "MDS = np.genfromtxt(mds_file, delimiter=\",\")\n",
    "node_num, high_dim = MDS.shape\n",
    "md('記号 MDS は $ ',mds_file,' $ のファイルに保存された高次元空間の座標系が代入されている。',\n",
    "   'この MDS の座標の次元は $ ',high_dim,' $ であり、座標の数は $ ',node_num,' $ である。')\n",
    "\n",
    "# generate projection vectors\n",
    "eList = np.sqrt(np.genfromtxt('csv/eigVals.csv', delimiter=\",\")[0:high_dim])\n",
    "base = np.zeros(high_dim * 2).reshape(2, high_dim)\n",
    "e0_column = np.zeros(high_dim).reshape(1,high_dim)\n",
    "for i in range(high_dim): base[i % 2][i] = 1\n",
    "Es = np.r_[base*eList, e0_column]\n",
    "\n",
    "md('射影ベクトルは固有値のリストを元にして生成する。上記の固有値の列 $',eList,'$ について、',\n",
    "  '奇数番目と偶数番目を振り分けることで２つの射影ベクトル $',Es[0],'$ と $',Es[1],'$ を生成する。')\n",
    "\n",
    "Es = Es.T\n",
    "\n",
    "Position = np.array([])\n",
    "\n",
    "def update_points():\n",
    "    global Position\n",
    "    Position = MDS.dot(Es[:,0:2])\n",
    "    \n",
    "update_points()\n",
    "\n",
    "print(Position)"
   ]
  },
  {
   "cell_type": "code",
   "execution_count": 6,
   "metadata": {
    "collapsed": false
   },
   "outputs": [],
   "source": [
    "# 代数の用意\n",
    "a1,b1,c1,a2,b2,c2,t,s = sp.symbols('a1 b1 c1 a2 b2 c2 t s')   # variables\n",
    "x2_s,y2_s = sp.symbols('x2_s y2_s')  # values\n",
    "P_i = sp.MatrixSymbol('P_i', high_dim, 1)\n",
    "E1 = sp.MatrixSymbol('E1', high_dim, 1)\n",
    "E2 = sp.MatrixSymbol('E2', high_dim, 1)\n",
    "var = (x2_s,y2_s,P_i,E1,E2,a1,b1,c1,a2,b2,c2,t,s)\n",
    "\n",
    "# 求める E1', E2' と、回転軸の R はベクトル値\n",
    "_E1 = sp.Matrix(a1*E1 + b1*E2 + c1*P_i)\n",
    "_E2 = sp.Matrix(a2*E1 + b2*E2 + c2*P_i)\n",
    "R = sp.Matrix(s*E1 + t*E2)\n",
    "\n",
    "# 制約の式\n",
    "f = Matrix([\n",
    "\t\t_E1.T * _E1 - Matrix([1]),\n",
    "\t\t_E2.T * _E2 - Matrix([1]),\n",
    "\t\t_E1.T * _E2,\n",
    "\t\tR.T * R - Matrix([1]),\n",
    "\t\t_E1.T * R - sp.Matrix(E1).T * R,\n",
    "\t\t_E2.T * R - sp.Matrix(E2).T * R,\n",
    "\t\tsp.Matrix(P_i).T * (_E1) - Matrix([x2_s]),\n",
    "\t\tsp.Matrix(P_i).T * (_E2) - Matrix([y2_s])\n",
    "\t\t])"
   ]
  },
  {
   "cell_type": "markdown",
   "metadata": {},
   "source": [
    "# AGI3D に拡張"
   ]
  },
  {
   "cell_type": "markdown",
   "metadata": {},
   "source": [
    "上記の AGI と同様の議論によって、AGI は３次元に拡張できる。\n",
    "\n",
    "- 高次元座標系の生成までは一緒\n",
    "- 射影ベクトルを３本にする\n",
    "- 画面更新の際の制約式を３次元版に拡張\n",
    "\n",
    "制約充足問題は以下のように拡張できる。"
   ]
  },
  {
   "cell_type": "code",
   "execution_count": null,
   "metadata": {
    "collapsed": true
   },
   "outputs": [],
   "source": [
    "# 変数、定数の定義\n",
    "a1, b1, c1, d1, a2, b2, c2, d2, a3, b3, c3, d3, t1, s1, u1, t2, s2, u2 = sp.symbols(\n",
    "\t'a1 b1 c1 d1 a2 b2 c2 d2 a3 b3 c3 d3 t1 s1 u1 t2 s2 u2')  # variables\n",
    "x2_s, y2_s, z2_s = sp.symbols('x2_s y2_s z2_s')  # values\n",
    "P_i = sp.MatrixSymbol('P_i', high_dim, 1)\n",
    "E1 = sp.MatrixSymbol('E1', high_dim, 1)\n",
    "E2 = sp.MatrixSymbol('E2', high_dim, 1)\n",
    "E3 = sp.MatrixSymbol('E3', high_dim, 1)\n",
    "_var = (x2_s, y2_s, z2_s, P_i, E1, E2, E3, a1, b1, c1, d1, a2, b2, c2, d2, a3, b3, c3, d3, t1, s1, u1, t2, s2, u2)\n",
    "\n",
    "E0 = sp.Matrix(P_i - x2_s * E1 - y2_s * E2 - z2_s * E3)\n",
    "E0 = sp.simplify(E0 / sp.Matrix.norm(E0))\n",
    "\n",
    "_E1 = sp.Matrix(a1 * E1 + b1 * E2 + c1 * E3 + d1 * E0)\n",
    "_E2 = sp.Matrix(a2 * E1 + b2 * E2 + c2 * E3 + d2 * E0)\n",
    "_E3 = sp.Matrix(a3 * E1 + b3 * E2 + c3 * E3 + d3 * E0)\n",
    "R1 = sp.Matrix(t1 * E1 + s1 * E2 + u1 * E3)\n",
    "R2 = sp.Matrix(t2 * E1 + s2 * E2 + u2 * E3)\n",
    "\n",
    "# 制約充足問題\n",
    "_f = Matrix([\n",
    "\t_E1.dot(_E1) - 1,\n",
    "\t_E2.dot(_E2) - 1,\n",
    "\t_E3.dot(_E3) - 1,\n",
    "\t_E1.dot(_E2),\n",
    "\t_E2.dot(_E3),\n",
    "\t_E3.dot(_E1),\n",
    "\tR1.dot(R1) - 1,\n",
    "\tR2.dot(R2) - 1,\n",
    "\tR1.dot(R2),\n",
    "\t_E1.dot(R1) - sp.Matrix(E1).dot(R1),\n",
    "\t_E2.dot(R1) - sp.Matrix(E2).dot(R1),\n",
    "\t_E3.dot(R1) - sp.Matrix(E3).dot(R1),\n",
    "\t_E1.dot(R2) - sp.Matrix(E1).dot(R2),\n",
    "\t_E2.dot(R2) - sp.Matrix(E2).dot(R2),\n",
    "\t_E3.dot(R2) - sp.Matrix(E3).dot(R2),\n",
    "\tsp.Matrix(P_i).dot(_E1) - x2_s,\n",
    "\tsp.Matrix(P_i).dot(_E2) - y2_s,\n",
    "\tsp.Matrix(P_i).dot(_E3) - z2_s\n",
    "])\n",
    "\n",
    "# 上式の二乗和をとり、numpy の式に直す。\n",
    "_func = sp.Matrix.norm(_f)\n",
    "_lam_f = lambdify(_var, _func, 'numpy')"
   ]
  },
  {
   "cell_type": "markdown",
   "metadata": {},
   "source": [
    "# 一般次元の AGI"
   ]
  },
  {
   "cell_type": "markdown",
   "metadata": {},
   "source": [
    "記述の方法に注意すれば同様に拡張可能。"
   ]
  },
  {
   "cell_type": "markdown",
   "metadata": {},
   "source": [
    "# コード(必要？)"
   ]
  },
  {
   "cell_type": "code",
   "execution_count": 2,
   "metadata": {
    "collapsed": true
   },
   "outputs": [],
   "source": [
    "#  initialize（画像処理関係）\n",
    "_width = _height = 700  # window's width and height\n",
    "width = height = 500  # canvas's width and height\n",
    "eV = np.array([[0,1]])  # Vertical Vector\n",
    "eH = np.array([[1,0]])  # Horizontal Vector\n",
    "\n",
    "def scale(pnt,bool):  # データの座標を射影する平面の画面サイズに合わせる\n",
    "\tif(bool): return width * (pnt + boundingH / 2) / boundingH + (_width - width) / 2\n",
    "\telse: return (height - 100) * (boundingV / 2 - pnt) / boundingV + (_height - height) / 2\n",
    "def unscale(pnt,bool):  # 射影された平面上の座標を元のスケールに戻す\n",
    "\tif (bool): return boundingH * ((pnt - (_width - width) / 2) - width / 2) / width\n",
    "\telse: return boundingV * ((pnt - (_height - height) / 2) - (height - 100) / 2) / (100 - height)"
   ]
  },
  {
   "cell_type": "code",
   "execution_count": 4,
   "metadata": {
    "collapsed": false
   },
   "outputs": [],
   "source": [
    "# initialize(データ処理関係)\n",
    "# load adjacency and multi-dimensional space\n",
    "EdgeList = np.genfromtxt('csv/edgeList.csv', delimiter=\",\").astype(np.int64)\n",
    "edge_num = len(EdgeList)\n",
    "MDS = np.genfromtxt('csv/mdSpace.csv', delimiter=\",\")\n",
    "node_num, high_dim = MDS.shape\n",
    "\n",
    "low_dim = 2  # この次元のAGIを実行する"
   ]
  },
  {
   "cell_type": "code",
   "execution_count": 5,
   "metadata": {
    "collapsed": false
   },
   "outputs": [
    {
     "name": "stdout",
     "output_type": "stream",
     "text": [
      "init: ready\n"
     ]
    }
   ],
   "source": [
    "# generate projection vectors\n",
    "def genE():\n",
    "    L = np.sqrt(np.genfromtxt('csv/eigVals.csv', delimiter=\",\")[0:high_dim])\n",
    "    base = np.zeros(high_dim * low_dim).reshape(low_dim, high_dim)\n",
    "    e0_column = np.zeros(high_dim).reshape(1,high_dim)\n",
    "    for i in range(high_dim): base[i % low_dim][i] = 1\n",
    "    E = np.r_[base*L, e0_column]\n",
    "    return E.T  # 縦ベクトル\n",
    "\n",
    "Es = genE()  # 射影ベクトルを縦ベクトルで格納(low_dim行が射影ベクトルで、もう１行がベクトル)\n",
    "\n",
    "Pos_origin = np.zeros(node_num*low_dim).reshape(node_num,low_dim)  # 計算するデータの実際の座標\n",
    "Pos_scaled = np.zeros(node_num*low_dim).reshape(low_dim,node_num)  # 画面サイズに合わせたデータの座標\n",
    "boundingV = 0  # Vertical boundary\n",
    "boundingH = 0  # Horizontal boundary\n",
    "\n",
    "def scale(pnt,bool):\n",
    "\tif(bool): return width * (pnt + boundingH / 2) / boundingH + (_width - width) / 2\n",
    "\telse: return (height - 100) * (boundingV / 2 - pnt) / boundingV + (_height - height) / 2\n",
    "\n",
    "def unscale(pnt,bool):\n",
    "\tif (bool): return boundingH * ((pnt - (_width - width) / 2) - width / 2) / width\n",
    "\telse: return boundingV * ((pnt - (_height - height) / 2) - (height - 100) / 2) / (100 - height)\n",
    "\n",
    "def update_points():\n",
    "    global Pos_origin, boundingH, boundingV\n",
    "    Pos_origin = MDS.dot(Es[:,0:low_dim])\n",
    "    boundingH = max([np.amax(Pos_origin[:,0]), abs(np.amin(Pos_origin[:,0]))]) * 2\n",
    "    boundingV = max([np.amax(Pos_origin[:,1]), abs(np.amin(Pos_origin[:,1]))]) * 2\n",
    "    for i in range(node_num):\n",
    "        Pos_scaled[0,i] = scale(Pos_origin[i,0], True);Pos_scaled[1,i] = scale(Pos_origin[i,1], False)\n",
    "\n",
    "update_points()"
   ]
  },
  {
   "cell_type": "code",
   "execution_count": 6,
   "metadata": {
    "collapsed": true
   },
   "outputs": [],
   "source": [
    "# sympy\n",
    "q =         MatrixSymbol('q', 1, low_dim)  # updated position\n",
    "p_i =       MatrixSymbol('p_i', 1, high_dim)  # selected point (high_dim) (P[thisID])\n",
    "E =         MatrixSymbol('E', high_dim,high_dim) # = (e1 e2 e0 0 ...) : 縦ベクトルの列\n",
    "A_inputEs = MatrixSymbol('A_inputEs', low_dim + 1, low_dim)  # ei' の係数行列\n",
    "A_inputRs = MatrixSymbol('A_inputRs', low_dim, low_dim - 1)  # Ri の係数行列\n",
    "var = (q, p_i, E, A_inputEs, A_inputRs)  # 変数のリスト\n",
    "A = Matrix(np.zeros(high_dim*high_dim).reshape(high_dim,high_dim))\n",
    "A[0:low_dim + 1, 0:low_dim] = Matrix(A_inputEs)\n",
    "A[0:low_dim, low_dim:low_dim + 1] = Matrix(A_inputRs)\n",
    "\n",
    "_E = E * A  # = (e1' e2' R1 0 ...) : 更新後の射影ベクトルは縦ベクトルで格納\n",
    "\n",
    "# values    ... (q:動かされた先の座標, p_i:動かされている点の高次元座標, E:射影ベクトル)\n",
    "# variables ... A : 新しい射影ベクトルを構成する係数行列\n",
    "\n",
    "\n",
    "# 制約解消における前計算\n",
    "constraints1 = (refine(_E.T * _E, Q.orthogonal(E))).doit()\n",
    "constraints2 = (refine(E.T * _E, Q.orthogonal(E))).doit()\n",
    "constraints3 = p_i * _E\n",
    "\n",
    "# constraints1:\n",
    "#                                              [ ||e1'||  (e1',e2') (e1',R) 0 ...\n",
    "# (e1' e2' R 0 ... 0).T * (e1' e2' R 0 ...0) =  (e2',e1') ||e2'||   (e2',R) 0 ...\n",
    "#                                               ( R ,e1') (e0,e2')   ||R||  0 ...                   ]\n",
    "#                                                0          0         0     0 ... \n",
    "#                                               ...                             ]\n",
    "\n",
    "# constraints2:\n",
    "#                                             [(e1,e1') (e1,e2') (e1, R ) 0 ...\n",
    "# (e1 e2 e0 0 ... 0).T * (e1' e2' R 0 ...0) =  (e2,e1') (e2,e2') (e2, R ) 0 ...\n",
    "#                                              (e0,e1') (e0,e2') (e0, R ) 0 ...                   ]\n",
    "#                                                0         0        0     0 ... \n",
    "#                                               ...                             ]\n",
    "\n",
    "# constraints3:\n",
    "# p_i * (e1' e2' R 0 ...0) =  (x' y' p_i*R 0 ... 0)\n",
    "\n",
    "\n",
    "# ei' * ej' = δij (クロネッカーのデルタ)\n",
    "bases_e = Matrix(constraints1[0:low_dim, 0:low_dim] - Matrix(Identity(low_dim)))\n",
    "_bases_e = bases_e[0,0]**2 + bases_e[0,1]**2 + bases_e[1,1]**2\n",
    "\n",
    "# Ri * Rj = δij (クロネッカーのデルタ)\n",
    "bases_r = Matrix(constraints1[low_dim:2 * low_dim - 1, low_dim:2 * low_dim - 1] - Matrix(Identity(low_dim - 1)))\n",
    "_bases_r = bases_r[0,0]**2\n",
    "\n",
    "# _Ei.dot(Rj) - sp.Matrix(Ei).dot(Rj),\n",
    "eMulR =  Matrix(constraints1[0:low_dim, low_dim:2 * low_dim - 1] - constraints2[0:low_dim, low_dim:2 * low_dim - 1])\n",
    "_eMulR = eMulR[0,0]**2 + eMulR[1,0]**2\n",
    "\n",
    "# sp.Matrix(P_i).dot(_Ej) - wj\n",
    "pew = Matrix(constraints3[0, 0:low_dim] - q)\n",
    "_pew = pew[0,0]**2 + pew[0,1]**2\n",
    "\n",
    "func = _bases_e + _bases_r + _eMulR + _pew  # 最小二乗法\n",
    "lam_f = lambdify(var, func, 'numpy')"
   ]
  },
  {
   "cell_type": "code",
   "execution_count": 7,
   "metadata": {
    "collapsed": false
   },
   "outputs": [
    {
     "name": "stdout",
     "output_type": "stream",
     "text": [
      "lambda: ready\n"
     ]
    }
   ],
   "source": [
    "def lam(q_, P_i, Esub):\n",
    "    \"\"\"\n",
    "    q_    :(1,low_dim) ドラッグされた行先の点の座標\n",
    "    Esub  :(high_dim,low_dim+1) 画面が更新される前の基底とe0の行列\n",
    "    P_i   :(1,high_dim) ドラッグされた点に対応する高次元座標\n",
    "    \"\"\"\n",
    "    # a[:,0:3]\n",
    "    E_ = np.zeros(high_dim*high_dim).reshape(high_dim,high_dim)  # <- これをなくしたい！\n",
    "    E_[0:high_dim, 0:low_dim + 1] = Esub\n",
    "    return lambda A_1, A_2: lam_f(q_, P_i, E_, A_1, A_2)\n",
    "\n",
    "arr_init = np.array([1,0,0,1,0,0,0,0])  # どう一般化するか？\n",
    "print(\"lambda: ready\")"
   ]
  },
  {
   "cell_type": "code",
   "execution_count": 8,
   "metadata": {
    "code_folding": [
     26
    ],
    "collapsed": true
   },
   "outputs": [],
   "source": [
    "######## Graph Drawing ########\n",
    "root = Tk()\n",
    "w = Canvas(root, width=_width, height=_height, bg='White')\n",
    "w.pack()\n",
    "circles = []\n",
    "lines = []\n",
    "r = 10\n",
    "\n",
    "# 初期描画\n",
    "for e in EdgeList:\n",
    "\tlines.append(w.create_line(Pos_scaled[0,e[0]-1], Pos_scaled[1,e[0]-1],Pos_scaled[0,e[1]-1], Pos_scaled[1,e[1]-1], fill='Black', tags='edge'))\n",
    "for i in range(node_num):\n",
    "\tcircles.append(w.create_oval(Pos_scaled[0,i] - r, Pos_scaled[1,i] - r, Pos_scaled[0,i] + r, Pos_scaled[1,i] + r, fill=\"White\", tags='node'))\n",
    "\n",
    "# 更新\n",
    "def move_node(event):\n",
    "    global Es\n",
    "    x2 = unscale(event.x,True)\n",
    "    y2 = unscale(event.y,False)\n",
    "    if(low_dim == 3): return 0\n",
    "    position = x2*eH + y2*eV\n",
    "    thisID = event.widget.find_withtag(CURRENT)[0] - (edge_num+1)\n",
    "    #E_0 = MDS[thisID] - (x2 * Es[:,0] + y2 * Es[:,1])\n",
    "    E_0 = MDS[thisID] - np.sum(position.dot(Es[:, 0:low_dim].T), axis=1)\n",
    "    Es[:,low_dim] = E_0 / np.linalg.norm(E_0)\n",
    "    f2 = lam(position, MDS[thisID].reshape(1, high_dim), Es)\n",
    "    def g(args):\n",
    "        \"\"\"\n",
    "        最適化関数\n",
    "        :param args: 行列を行ベクトルに崩したもの\n",
    "        :return: f2 に args を叩き込んだもの\n",
    "        \"\"\"\n",
    "        arr1 = args[0:low_dim*(low_dim+1)].reshape(low_dim+1, low_dim)  # E' variables ( E'[0] = this[0:dim+1,0] * (E:E0) )\n",
    "        arr2 = args[low_dim*(low_dim+1):2*low_dim**2].reshape(low_dim, low_dim-1)  # R  variables ( ignore )\n",
    "        return f2(arr1, arr2)\n",
    "    res = opt.minimize(g, arr_init, method='L-BFGS-B')  # ,options={'ftol':1e-3}\n",
    "    if(res.success):\n",
    "        Coefficient = res.x[0:(low_dim+1)*low_dim].reshape(low_dim+1,low_dim)\n",
    "        Es[:,0:low_dim] = Es.dot(Coefficient)\n",
    "        update_points()\n",
    "        for i in range(node_num):\n",
    "            w.coords(circles[i], Pos_scaled[0,i] - r, Pos_scaled[1,i] - r, Pos_scaled[0,i] + r, Pos_scaled[1,i] + r)\n",
    "        for i in range(edge_num):\n",
    "            w.coords(lines[i], Pos_scaled[0,EdgeList[i][0] - 1], Pos_scaled[1,EdgeList[i][0] - 1], Pos_scaled[0,EdgeList[i][1] - 1], Pos_scaled[1,EdgeList[i][1] - 1])\n",
    "\n",
    "# バインディング\n",
    "w.tag_bind('node', '<Button1-Motion>', move_node)\n",
    "root.mainloop()"
   ]
  },
  {
   "cell_type": "code",
   "execution_count": null,
   "metadata": {
    "collapsed": true
   },
   "outputs": [],
   "source": []
  }
 ],
 "metadata": {
  "hide_input": false,
  "kernelspec": {
   "display_name": "Python 3",
   "language": "python",
   "name": "python3"
  },
  "language_info": {
   "codemirror_mode": {
    "name": "ipython",
    "version": 3
   },
   "file_extension": ".py",
   "mimetype": "text/x-python",
   "name": "python",
   "nbconvert_exporter": "python",
   "pygments_lexer": "ipython3",
   "version": "3.5.1"
  }
 },
 "nbformat": 4,
 "nbformat_minor": 0
}
