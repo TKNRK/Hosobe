{
 "cells": [
  {
   "cell_type": "code",
   "execution_count": 1,
   "metadata": {
    "collapsed": true,
    "hide_input": false
   },
   "outputs": [],
   "source": [
    "import sys\n",
    "sys.path.insert(0, '/Users/takano/Dropbox (smartnova)/lib/python/sympy')\n",
    "\n",
    "import sympy as sp\n",
    "from sympy.utilities.lambdify import lambdify, lambdastr\n",
    "\n",
    "import numpy as np\n",
    "np.seterr(all='raise')\n",
    "\n",
    "from scipy import optimize as opt\n",
    "from sympy import Matrix, MatrixSymbol, refine, Identity, Q\n",
    "from tkinter import *\n",
    "import time\n",
    "\n",
    "sp.init_printing()\n",
    "from nbsupport import md"
   ]
  },
  {
   "cell_type": "markdown",
   "metadata": {},
   "source": [
    "# AGI の実装"
   ]
  },
  {
   "cell_type": "markdown",
   "metadata": {},
   "source": [
    "AGI (Active Graph Interface) とは、対話的な高次元グラフ可視化方式である。\n",
    "大まかな流れとしては、\n",
    "\n",
    "1. グラフの距離行列と辺のリストを入力とする。\n",
    "2. 多次元尺度構成法により、高次元の座標系と２次元への射影ベクトルを生成する。\n",
    "3. 2で生成したものを用いて、２次元の座標系に配置する。\n",
    "4. ２次元の座標系での操作により、グラフを適切に再配置する。\n",
    "\n",
    "のようになる。"
   ]
  },
  {
   "cell_type": "markdown",
   "metadata": {},
   "source": [
    "## 1. グラフの距離行列と辺のリスト"
   ]
  },
  {
   "cell_type": "markdown",
   "metadata": {},
   "source": [
    "グラフ距離とは、あるノードからあるノードへの最短パスの長さを指す。\n",
    "辺のリストは、辺がどのノード間を結んでいるかを全ての辺について保存する。\n",
    "\n",
    "グラフ距離と辺のリストは入力として与える。グラフ距離はMDS 法において、辺のリストは最終的な描画において使用する。"
   ]
  },
  {
   "cell_type": "markdown",
   "metadata": {},
   "source": [
    "## 2. 多次元尺度構成法（MDS法）"
   ]
  },
  {
   "cell_type": "markdown",
   "metadata": {},
   "source": [
    "MDS法とは多次元点間の距離が与えられた時に、その距離を再現するような座標系を逆算する手法である。\n",
    "ここで、\n",
    "\n",
    "- P : 高次元座標系(q次元の座標がn個保存されている)\n",
    "\n",
    "が得られる。"
   ]
  },
  {
   "cell_type": "markdown",
   "metadata": {},
   "source": [
    "## 3. ２次元の座標系への配置"
   ]
  },
  {
   "cell_type": "markdown",
   "metadata": {},
   "source": [
    "高次元配置 P に射影ベクトルを掛け、２次元に投射することでグラフを配置する。ここで前節で得た q 次元座標系 P を２次元に射影するための q 次元ベクトルの基底 e1, e2 を構成する。これは\n",
    "によって成す平面への射影を考える。これらの基底を用いて、(p_i ・e1, p_i ・e2) のように２次元の射影を得る。\n",
    "\n",
    "基底 e1, e2 を得る。\n",
    "\n",
    "- e1 : q 次元の座標を水平方向に射影する基底ベクトル\n",
    "- e2 : q 次元の座標を垂直方向に射影する基底ベクトル"
   ]
  },
  {
   "cell_type": "markdown",
   "metadata": {},
   "source": [
    "## 4. 配置の更新"
   ]
  },
  {
   "cell_type": "markdown",
   "metadata": {},
   "source": [
    "AGI では、二次元のグラフ配置を対話的に更新する方法が提供される。更新は、射影平面を動かすことで実現できる。\n",
    "具体的には、ユーザーが２次元のグラフ配置における或るノードをドラッグしたとき、そのノードの移動に応じて他のすべてのノードも適切に動く。\n",
    "\n",
    "では、それをどのように計算するのか。先ず現在の射影平面は、２本の射影ベクトルによって高次元座標系が射影されていると考える。すると、あるノードをドラッグした時、動かした先の位置で新しい射影平面になるという事は、新しい射影ベクトルによって射影されたと考えることが出来る。つまり、ノードの移動から、新しく更新されるべき射影ベクトルが逆算できれば、そのノードの移動に応じた平面の更新が実現できる。"
   ]
  },
  {
   "cell_type": "code",
   "execution_count": 2,
   "metadata": {
    "collapsed": false,
    "hide_input": false
   },
   "outputs": [],
   "source": [
    "high_dim = 5\n",
    "x2,y2 = sp.symbols('x2 y2')  # values\n",
    "p = sp.MatrixSymbol('p', high_dim, 1)\n",
    "e1 = sp.MatrixSymbol('e1', high_dim, 1)\n",
    "e2 = sp.MatrixSymbol('e2', high_dim, 1)\n",
    "E1 = sp.MatrixSymbol('E1', high_dim, 1)\n",
    "E2 = sp.MatrixSymbol('E2', high_dim, 1)\n",
    "R = sp.MatrixSymbol('R', high_dim, 1)"
   ]
  },
  {
   "cell_type": "code",
   "execution_count": 4,
   "metadata": {
    "collapsed": false,
    "hide_input": false
   },
   "outputs": [
    {
     "data": {
      "text/markdown": [
       "次のように用語の記号を定義する。"
      ]
     },
     "metadata": {},
     "output_type": "display_data"
    },
    {
     "data": {
      "text/markdown": [
       "- ( $x_{2}$,$y_{2}$ ) : ドラッグして動かした後のノードの座標"
      ]
     },
     "metadata": {},
     "output_type": "display_data"
    },
    {
     "data": {
      "text/markdown": [
       "- $p$ : ドラッグしたノードの高次元座標"
      ]
     },
     "metadata": {},
     "output_type": "display_data"
    },
    {
     "data": {
      "text/markdown": [
       "- $e_{1}$,$e_{2}$ : 現在の射影ベクトル"
      ]
     },
     "metadata": {},
     "output_type": "display_data"
    },
    {
     "data": {
      "text/markdown": [
       "- $E_{1}$,$E_{2}$ : 更新後の射影ベクトル"
      ]
     },
     "metadata": {},
     "output_type": "display_data"
    },
    {
     "data": {
      "text/markdown": [
       "- $R$ : 射影空間の回転の軸"
      ]
     },
     "metadata": {},
     "output_type": "display_data"
    }
   ],
   "source": [
    "md('次のように用語の記号を定義する。')\n",
    "md('- ( $',x2,'$,$',y2,'$ ) : ドラッグして動かした後のノードの座標')\n",
    "md('- $',p,'$ : ドラッグしたノードの高次元座標')\n",
    "md('- $',e1,'$,$',e2,'$ : 現在の射影ベクトル')\n",
    "md('- $',E1,'$,$',E2,'$ : 更新後の射影ベクトル')\n",
    "md('- $',R,'$ : 射影空間の回転の軸')"
   ]
  },
  {
   "cell_type": "code",
   "execution_count": 5,
   "metadata": {
    "collapsed": true
   },
   "outputs": [],
   "source": [
    "a1,b1,c1,a2,b2,c2,t,s = sp.symbols('a1 b1 c1 a2 b2 c2 t s')   # variables\n",
    "\n",
    "_E1 = a1*e1 + b1*e2 + c1*p\n",
    "_E2 = a2*e1 + b2*e2 + c2*p\n",
    "_R  = s*e1 + t*e2"
   ]
  },
  {
   "cell_type": "code",
   "execution_count": 6,
   "metadata": {
    "collapsed": false
   },
   "outputs": [
    {
     "data": {
      "text/markdown": [
       "さて、射影ベクトルの更新においては、e1, e2, p によって成される３次元の空間を考える。この３次元空間における回転により、E1, E2 を得る。ここで、a1, b1, c1, a2, b2, c2 を変数として E1, E2 を、s, t を変数として R を次のように表現する。"
      ]
     },
     "metadata": {},
     "output_type": "display_data"
    },
    {
     "data": {
      "text/markdown": [
       "- $E_{1}$ = $a_{1} e_{1} + b_{1} e_{2} + c_{1} p$"
      ]
     },
     "metadata": {},
     "output_type": "display_data"
    },
    {
     "data": {
      "text/markdown": [
       "- $E_{2}$ = $a_{2} e_{1} + b_{2} e_{2} + c_{2} p$"
      ]
     },
     "metadata": {},
     "output_type": "display_data"
    },
    {
     "data": {
      "text/markdown": [
       "- $R$ = $s e_{1} + t e_{2}$"
      ]
     },
     "metadata": {},
     "output_type": "display_data"
    }
   ],
   "source": [
    "md('さて、射影ベクトルの更新においては、e1, e2, p によって成される３次元の空間を考える。この３次元空間における回転により、E1, E2 を得る。',\n",
    "   'ここで、a1, b1, c1, a2, b2, c2 を変数として E1, E2 を、s, t を変数として R を次のように表現する。',)\n",
    "md('- $',E1,'$ = $',_E1,'$')\n",
    "md('- $',E2,'$ = $',_E2,'$')\n",
    "md('- $',R,'$ = $',_R,'$')"
   ]
  },
  {
   "cell_type": "markdown",
   "metadata": {},
   "source": [
    "いま、以上のような記号の定義により、適切な射影ベクトルの更新のための制約式を立てることが出来、それは８元連立非線形方程式になる。この解を求めるためには各制約式の右辺が 0 になるように式を変形し、それぞれの左辺の２乗和を最小化するような問題に置き換えれば近似解が求まる。よって以下ではその左辺に当たる式を立てていく。"
   ]
  },
  {
   "cell_type": "code",
   "execution_count": 7,
   "metadata": {
    "collapsed": true
   },
   "outputs": [],
   "source": [
    "ONE = sp.Matrix([1])\n",
    "c1_1 = (E1.T * E1 - ONE) \n",
    "c1_2 = (E2.T * E2 - ONE) \n",
    "c1_3 = (E1.T * E2)\n",
    "\n",
    "constraints1 = c1_1**2 + c1_2**2 + c1_3**2"
   ]
  },
  {
   "cell_type": "code",
   "execution_count": 8,
   "metadata": {
    "collapsed": false
   },
   "outputs": [
    {
     "data": {
      "text/markdown": [
       "制約１ : 更新後の射影ベクトルは正規であり、互いに直交する。"
      ]
     },
     "metadata": {},
     "output_type": "display_data"
    },
    {
     "data": {
      "text/markdown": [
       "- $\\left[\\begin{matrix}-1\\end{matrix}\\right] + E_{1}^T E_{1}$ : E1は正規"
      ]
     },
     "metadata": {},
     "output_type": "display_data"
    },
    {
     "data": {
      "text/markdown": [
       "- $\\left[\\begin{matrix}-1\\end{matrix}\\right] + E_{2}^T E_{2}$ : E2は正規"
      ]
     },
     "metadata": {},
     "output_type": "display_data"
    },
    {
     "data": {
      "text/markdown": [
       "- $E_{1}^T E_{2}$ : E1とE2は直交"
      ]
     },
     "metadata": {},
     "output_type": "display_data"
    },
    {
     "data": {
      "text/markdown": [
       "二乗和：$\\left(\\left[\\begin{matrix}-1\\end{matrix}\\right] + E_{1}^T E_{1}\\right)^{2} + \\left(\\left[\\begin{matrix}-1\\end{matrix}\\right] + E_{2}^T E_{2}\\right)^{2} + \\left(E_{1}^T E_{2}\\right)^{2}$"
      ]
     },
     "metadata": {},
     "output_type": "display_data"
    }
   ],
   "source": [
    "md('制約１ : 更新後の射影ベクトルは正規であり、互いに直交する。')\n",
    "md('- $',c1_1,'$ : E1は正規')\n",
    "md('- $',c1_2,'$ : E2は正規')\n",
    "md('- $',c1_3,'$ : E1とE2は直交')\n",
    "md('二乗和：$',constraints1,'$')"
   ]
  },
  {
   "cell_type": "code",
   "execution_count": 9,
   "metadata": {
    "collapsed": true
   },
   "outputs": [],
   "source": [
    "c2_1 = R.T * R - ONE\n",
    "c2_2 = E1.T * R - e1.T * R\n",
    "c2_3 = E2.T * R - e2.T * R\n",
    "\n",
    "constraints2 = c2_1**2 + c2_2**2 + c2_3**2"
   ]
  },
  {
   "cell_type": "code",
   "execution_count": 10,
   "metadata": {
    "collapsed": false
   },
   "outputs": [
    {
     "data": {
      "text/markdown": [
       "制約２ : 射影ベクトルは単位ベクトルの軸周りを回転して得られる。"
      ]
     },
     "metadata": {},
     "output_type": "display_data"
    },
    {
     "data": {
      "text/markdown": [
       "- $\\left[\\begin{matrix}-1\\end{matrix}\\right] + R^T R$ : Rは単位ベクトル"
      ]
     },
     "metadata": {},
     "output_type": "display_data"
    },
    {
     "data": {
      "text/markdown": [
       "- $E_{1}^T R + -1 e_{1}^T R$ : e1 は R を軸とした回転で E1 を得る"
      ]
     },
     "metadata": {},
     "output_type": "display_data"
    },
    {
     "data": {
      "text/markdown": [
       "- $E_{2}^T R + -1 e_{2}^T R$ : e2 は R を軸とした回転で E2 を得る"
      ]
     },
     "metadata": {},
     "output_type": "display_data"
    },
    {
     "data": {
      "text/markdown": [
       "二乗和：$\\left(\\left[\\begin{matrix}-1\\end{matrix}\\right] + R^T R\\right)^{2} + \\left(E_{1}^T R + -1 e_{1}^T R\\right)^{2} + \\left(E_{2}^T R + -1 e_{2}^T R\\right)^{2}$"
      ]
     },
     "metadata": {},
     "output_type": "display_data"
    }
   ],
   "source": [
    "md('制約２ : 射影ベクトルは単位ベクトルの軸周りを回転して得られる。')\n",
    "md('- $',c2_1,'$ : Rは単位ベクトル')\n",
    "md('- $',c2_2,'$ : e1 は R を軸とした回転で E1 を得る')\n",
    "md('- $',c2_3,'$ : e2 は R を軸とした回転で E2 を得る')\n",
    "md('二乗和：$',constraints2,'$')"
   ]
  },
  {
   "cell_type": "code",
   "execution_count": 13,
   "metadata": {
    "collapsed": false
   },
   "outputs": [],
   "source": [
    "c3_1 = p.T * E1 - Matrix([x2]) \n",
    "c3_2 = p.T * E2 - Matrix([y2])\n",
    "\n",
    "constraints3 = c3_1**2 + c3_2**2"
   ]
  },
  {
   "cell_type": "code",
   "execution_count": 14,
   "metadata": {
    "collapsed": false
   },
   "outputs": [
    {
     "data": {
      "text/markdown": [
       "制約３ : 更新後の射影ベクトルが適切に高次元座標を射影する。"
      ]
     },
     "metadata": {},
     "output_type": "display_data"
    },
    {
     "data": {
      "text/markdown": [
       "- $\\left[\\begin{matrix}- x_{2}\\end{matrix}\\right] + p^T E_{1}$ : x2 は p の E1 による射影。"
      ]
     },
     "metadata": {},
     "output_type": "display_data"
    },
    {
     "data": {
      "text/markdown": [
       "- $\\left[\\begin{matrix}- y_{2}\\end{matrix}\\right] + p^T E_{2}$ : y2 は p の E2 による射影。"
      ]
     },
     "metadata": {},
     "output_type": "display_data"
    },
    {
     "data": {
      "text/markdown": [
       "二乗和：$\\left(\\left[\\begin{matrix}- x_{2}\\end{matrix}\\right] + p^T E_{1}\\right)^{2} + \\left(\\left[\\begin{matrix}- y_{2}\\end{matrix}\\right] + p^T E_{2}\\right)^{2}$"
      ]
     },
     "metadata": {},
     "output_type": "display_data"
    }
   ],
   "source": [
    "md('制約３ : 更新後の射影ベクトルが適切に高次元座標を射影する。')\n",
    "md('- $',c3_1,'$ : x2 は p の E1 による射影。')\n",
    "md('- $',c3_2,'$ : y2 は p の E2 による射影。')\n",
    "md('二乗和：$',constraints3,'$')"
   ]
  },
  {
   "cell_type": "code",
   "execution_count": 20,
   "metadata": {
    "collapsed": false
   },
   "outputs": [],
   "source": [
    "f = constraints1 + constraints2 + constraints3\n",
    "substitution = [(E1, _E1), (E2, _E2), (R, _R)]\n",
    "func = Matrix(f.subs(substitution))"
   ]
  },
  {
   "cell_type": "code",
   "execution_count": 22,
   "metadata": {
    "collapsed": false
   },
   "outputs": [
    {
     "data": {
      "text/markdown": [
       "以上の８つの制約式をまとめることで、最小化すべき数式が記述できる。"
      ]
     },
     "metadata": {},
     "output_type": "display_data"
    },
    {
     "data": {
      "text/markdown": [
       "$\\left(\\left[\\begin{matrix}-1\\end{matrix}\\right] + E_{1}^T E_{1}\\right)^{2} + \\left(\\left[\\begin{matrix}-1\\end{matrix}\\right] + E_{2}^T E_{2}\\right)^{2} + \\left(\\left[\\begin{matrix}-1\\end{matrix}\\right] + R^T R\\right)^{2} + \\left(\\left[\\begin{matrix}- x_{2}\\end{matrix}\\right] + p^T E_{1}\\right)^{2} + \\left(\\left[\\begin{matrix}- y_{2}\\end{matrix}\\right] + p^T E_{2}\\right)^{2} + \\left(E_{1}^T R + -1 e_{1}^T R\\right)^{2} + \\left(E_{2}^T R + -1 e_{2}^T R\\right)^{2} + \\left(E_{1}^T E_{2}\\right)^{2}$"
      ]
     },
     "metadata": {},
     "output_type": "display_data"
    }
   ],
   "source": [
    "md('以上の８つの制約式をまとめることで、最小化すべき数式が記述できる。')\n",
    "md('$',f,'$')"
   ]
  },
  {
   "cell_type": "markdown",
   "metadata": {},
   "source": [
    "この数式を、計算の世界に落とし込むために、lambdify という関数を使う。これにより、数式の表す lambda 式を生成することができる。"
   ]
  },
  {
   "cell_type": "code",
   "execution_count": 24,
   "metadata": {
    "collapsed": false
   },
   "outputs": [
    {
     "name": "stdout",
     "output_type": "stream",
     "text": [
      "lambda x2,y2,p,e1,e2,a1,b1,c1,a2,b2,c2,t,s: (MutableDenseMatrix([[((a1*e1[0, 0] + b1*e2[0, 0] + c1*p[0, 0])*(a2*e1[0, 0] + b2*e2[0, 0] + c2*p[0, 0]) + (a1*e1[1, 0] + b1*e2[1, 0] + c1*p[1, 0])*(a2*e1[1, 0] + b2*e2[1, 0] + c2*p[1, 0]) + (a1*e1[2, 0] + b1*e2[2, 0] + c1*p[2, 0])*(a2*e1[2, 0] + b2*e2[2, 0] + c2*p[2, 0]) + (a1*e1[3, 0] + b1*e2[3, 0] + c1*p[3, 0])*(a2*e1[3, 0] + b2*e2[3, 0] + c2*p[3, 0]) + (a1*e1[4, 0] + b1*e2[4, 0] + c1*p[4, 0])*(a2*e1[4, 0] + b2*e2[4, 0] + c2*p[4, 0]))**2 + (-x2 + (a1*e1[0, 0] + b1*e2[0, 0] + c1*p[0, 0])*p[0, 0] + (a1*e1[1, 0] + b1*e2[1, 0] + c1*p[1, 0])*p[1, 0] + (a1*e1[2, 0] + b1*e2[2, 0] + c1*p[2, 0])*p[2, 0] + (a1*e1[3, 0] + b1*e2[3, 0] + c1*p[3, 0])*p[3, 0] + (a1*e1[4, 0] + b1*e2[4, 0] + c1*p[4, 0])*p[4, 0])**2 + (-y2 + (a2*e1[0, 0] + b2*e2[0, 0] + c2*p[0, 0])*p[0, 0] + (a2*e1[1, 0] + b2*e2[1, 0] + c2*p[1, 0])*p[1, 0] + (a2*e1[2, 0] + b2*e2[2, 0] + c2*p[2, 0])*p[2, 0] + (a2*e1[3, 0] + b2*e2[3, 0] + c2*p[3, 0])*p[3, 0] + (a2*e1[4, 0] + b2*e2[4, 0] + c2*p[4, 0])*p[4, 0])**2 + ((s*e1[0, 0] + t*e2[0, 0])**2 + (s*e1[1, 0] + t*e2[1, 0])**2 + (s*e1[2, 0] + t*e2[2, 0])**2 + (s*e1[3, 0] + t*e2[3, 0])**2 + (s*e1[4, 0] + t*e2[4, 0])**2 - 1)**2 + ((a1*e1[0, 0] + b1*e2[0, 0] + c1*p[0, 0])**2 + (a1*e1[1, 0] + b1*e2[1, 0] + c1*p[1, 0])**2 + (a1*e1[2, 0] + b1*e2[2, 0] + c1*p[2, 0])**2 + (a1*e1[3, 0] + b1*e2[3, 0] + c1*p[3, 0])**2 + (a1*e1[4, 0] + b1*e2[4, 0] + c1*p[4, 0])**2 - 1)**2 + ((a2*e1[0, 0] + b2*e2[0, 0] + c2*p[0, 0])**2 + (a2*e1[1, 0] + b2*e2[1, 0] + c2*p[1, 0])**2 + (a2*e1[2, 0] + b2*e2[2, 0] + c2*p[2, 0])**2 + (a2*e1[3, 0] + b2*e2[3, 0] + c2*p[3, 0])**2 + (a2*e1[4, 0] + b2*e2[4, 0] + c2*p[4, 0])**2 - 1)**2 + ((s*e1[0, 0] + t*e2[0, 0])*(a1*e1[0, 0] + b1*e2[0, 0] + c1*p[0, 0]) - (s*e1[0, 0] + t*e2[0, 0])*e1[0, 0] + (s*e1[1, 0] + t*e2[1, 0])*(a1*e1[1, 0] + b1*e2[1, 0] + c1*p[1, 0]) - (s*e1[1, 0] + t*e2[1, 0])*e1[1, 0] + (s*e1[2, 0] + t*e2[2, 0])*(a1*e1[2, 0] + b1*e2[2, 0] + c1*p[2, 0]) - (s*e1[2, 0] + t*e2[2, 0])*e1[2, 0] + (s*e1[3, 0] + t*e2[3, 0])*(a1*e1[3, 0] + b1*e2[3, 0] + c1*p[3, 0]) - (s*e1[3, 0] + t*e2[3, 0])*e1[3, 0] + (s*e1[4, 0] + t*e2[4, 0])*(a1*e1[4, 0] + b1*e2[4, 0] + c1*p[4, 0]) - (s*e1[4, 0] + t*e2[4, 0])*e1[4, 0])**2 + ((s*e1[0, 0] + t*e2[0, 0])*(a2*e1[0, 0] + b2*e2[0, 0] + c2*p[0, 0]) - (s*e1[0, 0] + t*e2[0, 0])*e2[0, 0] + (s*e1[1, 0] + t*e2[1, 0])*(a2*e1[1, 0] + b2*e2[1, 0] + c2*p[1, 0]) - (s*e1[1, 0] + t*e2[1, 0])*e2[1, 0] + (s*e1[2, 0] + t*e2[2, 0])*(a2*e1[2, 0] + b2*e2[2, 0] + c2*p[2, 0]) - (s*e1[2, 0] + t*e2[2, 0])*e2[2, 0] + (s*e1[3, 0] + t*e2[3, 0])*(a2*e1[3, 0] + b2*e2[3, 0] + c2*p[3, 0]) - (s*e1[3, 0] + t*e2[3, 0])*e2[3, 0] + (s*e1[4, 0] + t*e2[4, 0])*(a2*e1[4, 0] + b2*e2[4, 0] + c2*p[4, 0]) - (s*e1[4, 0] + t*e2[4, 0])*e2[4, 0])**2]]))\n"
     ]
    }
   ],
   "source": [
    "var = (x2,y2,p,e1,e2,a1,b1,c1,a2,b2,c2,t,s)\n",
    "lam_f = lambdify(var, func, 'numpy')\n",
    "print(lambdastr(var,func))"
   ]
  },
  {
   "cell_type": "markdown",
   "metadata": {
    "collapsed": true
   },
   "source": [
    "最後にこれを最小化するように minimize を施せば、"
   ]
  },
  {
   "cell_type": "code",
   "execution_count": null,
   "metadata": {
    "collapsed": true
   },
   "outputs": [],
   "source": []
  },
  {
   "cell_type": "markdown",
   "metadata": {},
   "source": [
    "## テストケース\n",
    "ある１５ノード３３エッジのグラフの適当な点を (0,0) の座標に動かしたと仮定した時、実際にその点が (0,0) の座標に動かされているかをテストする。"
   ]
  },
  {
   "cell_type": "code",
   "execution_count": null,
   "metadata": {
    "collapsed": true
   },
   "outputs": [],
   "source": [
    "\n"
   ]
  },
  {
   "cell_type": "markdown",
   "metadata": {},
   "source": [
    "# AGI3D に拡張 ( Future Works )"
   ]
  },
  {
   "cell_type": "markdown",
   "metadata": {},
   "source": [
    "上記の AGI と同様の議論によって、AGI は３次元に拡張できる。\n",
    "\n",
    "- 高次元座標系の生成までは一緒\n",
    "- 射影ベクトルを３本にする\n",
    "- 画面更新の際の制約式を３次元版に拡張\n",
    "\n",
    "制約充足問題は以下のように拡張できる。"
   ]
  }
 ],
 "metadata": {
  "hide_input": false,
  "kernelspec": {
   "display_name": "Python 3",
   "language": "python",
   "name": "python3"
  },
  "language_info": {
   "codemirror_mode": {
    "name": "ipython",
    "version": 3
   },
   "file_extension": ".py",
   "mimetype": "text/x-python",
   "name": "python",
   "nbconvert_exporter": "python",
   "pygments_lexer": "ipython3",
   "version": "3.5.1"
  }
 },
 "nbformat": 4,
 "nbformat_minor": 0
}
