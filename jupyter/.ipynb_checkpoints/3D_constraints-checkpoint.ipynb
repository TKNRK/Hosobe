{
 "cells": [
  {
   "cell_type": "code",
   "execution_count": 2,
   "metadata": {
    "code_folding": [],
    "collapsed": false,
    "hide_input": true
   },
   "outputs": [
    {
     "name": "stdout",
     "output_type": "stream",
     "text": [
      "init: ready\n"
     ]
    }
   ],
   "source": [
    "import numpy as np\n",
    "import sympy as sp\n",
    "from scipy import optimize as opt\n",
    "from sympy.utilities.lambdify import lambdify\n",
    "from sympy import Matrix\n",
    "from tkinter import *\n",
    "import time\n",
    "\n",
    "edge = np.genfromtxt('csv/adjacency.csv', delimiter=\",\").astype(np.int64)\n",
    "edge_num = len(edge)\n",
    "P = np.genfromtxt('csv/mdSpace.csv', delimiter=\",\")\n",
    "node_num, high_dim = P.shape\n",
    "\n",
    "dim = 2\n",
    "\n",
    "def genE():\n",
    "    L = np.sqrt(np.genfromtxt('csv/eigVals.csv', delimiter=\",\")[0:high_dim])\n",
    "    base = np.zeros(high_dim * dim).reshape(dim, high_dim)\n",
    "    for i in range(high_dim): base[i % dim][i] = 1\n",
    "    E = base*L\n",
    "    return E\n",
    "\n",
    "E = genE()\n",
    "\n",
    "Xs = np.zeros(node_num)\n",
    "Ys = np.zeros(node_num)\n",
    "boundingX = 0\n",
    "boundingY = 0\n",
    "\n",
    "def update_points():\n",
    "\tfor i in range(node_num):\n",
    "\t\tglobal Xs, Ys, boundingX, boundingY\n",
    "\t\tp0 = P[i, 0:high_dim]\n",
    "\t\tXs[i] = np.dot(p0, E[0]) ; Ys[i] = np.dot(p0, E[1])\n",
    "\tboundingX = max([np.amax(Xs), np.amin(Xs)]) * 2\n",
    "\tboundingY = max([np.amax(Ys), np.amin(Ys)]) * 2\n",
    "\n",
    "update_points()\n",
    "\n",
    "print(\"init: ready\")"
   ]
  },
  {
   "cell_type": "code",
   "execution_count": 3,
   "metadata": {
    "collapsed": false
   },
   "outputs": [
    {
     "name": "stdout",
     "output_type": "stream",
     "text": [
      "-6.03749214874\n",
      "3.25129988464\n"
     ]
    }
   ],
   "source": [
    "print(Xs[14])\n",
    "print(Ys[14])"
   ]
  },
  {
   "cell_type": "code",
   "execution_count": 4,
   "metadata": {
    "code_folding": [
     12,
     26
    ],
    "collapsed": false
   },
   "outputs": [
    {
     "name": "stdout",
     "output_type": "stream",
     "text": [
      "lambda: ready\n"
     ]
    }
   ],
   "source": [
    "# sympy\n",
    "a1,b1,c1,a2,b2,c2,t,s = sp.symbols('a1 b1 c1 a2 b2 c2 t s')   # variables\n",
    "x2_s,y2_s = sp.symbols('x2_s y2_s')  # values\n",
    "P_i = sp.MatrixSymbol('P_i', high_dim, 1)\n",
    "E1 = sp.MatrixSymbol('E1', high_dim, 1)\n",
    "E2 = sp.MatrixSymbol('E2', high_dim, 1)\n",
    "var = (x2_s,y2_s,P_i,E1,E2,a1,b1,c1,a2,b2,c2,t,s)\n",
    "\n",
    "_E1 = sp.Matrix(a1*E1 + b1*E2 + c1*P_i)\n",
    "_E2 = sp.Matrix(a2*E1 + b2*E2 + c2*P_i)\n",
    "R = sp.Matrix(s*E1 + t*E2)\n",
    "\n",
    "f = Matrix([\n",
    "\t\t_E1.dot(_E1) - 1,\n",
    "\t\t_E2.dot(_E2) - 1,\n",
    "\t\t_E1.dot(_E2),\n",
    "\t\tR.dot(R) - 1,\n",
    "\t\t_E1.dot(R) - sp.Matrix(E1).dot(R),\n",
    "\t\t_E2.dot(R) - sp.Matrix(E2).dot(R),\n",
    "\t\tsp.Matrix(P_i).dot(_E1) - x2_s,\n",
    "\t\tsp.Matrix(P_i).dot(_E2) - y2_s\n",
    "\t\t])\n",
    "\n",
    "func = sp.Matrix.norm(f)\n",
    "lam_f = lambdify(var, func, 'numpy')\n",
    "\n",
    "def lam(x2, y2, p, e_1, e_2):\n",
    "    return lambda a1,b1,c1,a2,b2,c2,t,s: \\\n",
    "        lam_f(x2, y2, p, e_1, e_2, a1, b1, c1, a2, b2, c2, t, s)\n",
    "\n",
    "arr_init = np.array([1, 0, 0, 0, 1, 0, 1, 1])\n",
    "print(\"lambda: ready\")\n"
   ]
  },
  {
   "cell_type": "code",
   "execution_count": 7,
   "metadata": {
    "collapsed": false
   },
   "outputs": [
    {
     "ename": "ImportError",
     "evalue": "theano is required for theano_function",
     "output_type": "error",
     "traceback": [
      "\u001b[0;31m---------------------------------------------------------------------------\u001b[0m",
      "\u001b[0;31mImportError\u001b[0m                               Traceback (most recent call last)",
      "\u001b[0;32m<ipython-input-7-60aee8742367>\u001b[0m in \u001b[0;36m<module>\u001b[0;34m()\u001b[0m\n\u001b[1;32m      1\u001b[0m \u001b[0;32mfrom\u001b[0m \u001b[0msympy\u001b[0m \u001b[0;32mimport\u001b[0m \u001b[0;34m*\u001b[0m\u001b[0;34m\u001b[0m\u001b[0m\n\u001b[1;32m      2\u001b[0m \u001b[0;32mfrom\u001b[0m \u001b[0msympy\u001b[0m\u001b[0;34m.\u001b[0m\u001b[0mprinting\u001b[0m\u001b[0;34m.\u001b[0m\u001b[0mtheanocode\u001b[0m \u001b[0;32mimport\u001b[0m \u001b[0mtheano_function\u001b[0m \u001b[0;32mas\u001b[0m \u001b[0mth_func\u001b[0m\u001b[0;34m\u001b[0m\u001b[0m\n\u001b[0;32m----> 3\u001b[0;31m \u001b[0mtheo_f\u001b[0m \u001b[0;34m=\u001b[0m \u001b[0mth_func\u001b[0m\u001b[0;34m(\u001b[0m\u001b[0;34m[\u001b[0m\u001b[0mvar\u001b[0m\u001b[0;34m]\u001b[0m\u001b[0;34m,\u001b[0m\u001b[0;34m[\u001b[0m\u001b[0mfunc\u001b[0m\u001b[0;34m]\u001b[0m\u001b[0;34m)\u001b[0m\u001b[0;34m\u001b[0m\u001b[0m\n\u001b[0m",
      "\u001b[0;32m//anaconda/lib/python3.5/site-packages/sympy/printing/theanocode.py\u001b[0m in \u001b[0;36mtheano_function\u001b[0;34m(inputs, outputs, dtypes, cache, **kwargs)\u001b[0m\n\u001b[1;32m    216\u001b[0m     \u001b[0;34m\"\"\" Create Theano function from SymPy expressions \"\"\"\u001b[0m\u001b[0;34m\u001b[0m\u001b[0m\n\u001b[1;32m    217\u001b[0m     \u001b[0;32mif\u001b[0m \u001b[0;32mnot\u001b[0m \u001b[0mtheano\u001b[0m\u001b[0;34m:\u001b[0m\u001b[0;34m\u001b[0m\u001b[0m\n\u001b[0;32m--> 218\u001b[0;31m         \u001b[0;32mraise\u001b[0m \u001b[0mImportError\u001b[0m\u001b[0;34m(\u001b[0m\u001b[0;34m\"theano is required for theano_function\"\u001b[0m\u001b[0;34m)\u001b[0m\u001b[0;34m\u001b[0m\u001b[0m\n\u001b[0m\u001b[1;32m    219\u001b[0m     \u001b[0mcache\u001b[0m \u001b[0;34m=\u001b[0m \u001b[0;34m{\u001b[0m\u001b[0;34m}\u001b[0m \u001b[0;32mif\u001b[0m \u001b[0mcache\u001b[0m \u001b[0;34m==\u001b[0m \u001b[0;32mNone\u001b[0m \u001b[0;32melse\u001b[0m \u001b[0mcache\u001b[0m\u001b[0;34m\u001b[0m\u001b[0m\n\u001b[1;32m    220\u001b[0m     \u001b[0mbroadcastables\u001b[0m \u001b[0;34m=\u001b[0m \u001b[0mdim_handling\u001b[0m\u001b[0;34m(\u001b[0m\u001b[0minputs\u001b[0m\u001b[0;34m,\u001b[0m \u001b[0;34m**\u001b[0m\u001b[0mkwargs\u001b[0m\u001b[0;34m)\u001b[0m\u001b[0;34m\u001b[0m\u001b[0m\n",
      "\u001b[0;31mImportError\u001b[0m: theano is required for theano_function"
     ]
    }
   ],
   "source": [
    "from sympy import *\n",
    "from sympy.printing.theanocode import theano_function as th_func\n",
    "theo_f = th_func([var],[func])"
   ]
  },
  {
   "cell_type": "code",
   "execution_count": null,
   "metadata": {
    "collapsed": true
   },
   "outputs": [],
   "source": [
    "######## Graph Drawing ########\n",
    "identifier = \"14\"\n",
    "arr = np.array([1, 1, 1, 1, 1, 1, 1, 1])\n",
    "\n",
    "f2 = lam(0, 0, P[int(identifier)].reshape(d,1), e1, e2)\n",
    "def g(args): return f2(*args)\n",
    "res = opt.minimize(g, arr, method='L-BFGS-B')\n",
    "print(res)\n",
    "e1 = res.x[0] * temp1 + res.x[1] * temp2 + res.x[2] * P[int(identifier)].reshape(d,1)\n",
    "e2 = res.x[3] * temp1 + res.x[4] * temp2 + res.x[5] * P[int(identifier)].reshape(d,1)\n",
    "temp1 = e1\n",
    "temp2 = e2\n",
    "update_points()\n",
    "print(Xs[14])\n",
    "print(Ys[14])"
   ]
  },
  {
   "cell_type": "code",
   "execution_count": 18,
   "metadata": {
    "collapsed": false
   },
   "outputs": [
    {
     "data": {
      "text/plain": [
       "array([ 1,  0,  0,  4,  0,  0,  7,  0,  0, 10,  0,  0])"
      ]
     },
     "execution_count": 18,
     "metadata": {},
     "output_type": "execute_result"
    }
   ],
   "source": [
    "aray = np.array([1,2,3,4,5,6,7,8,9,10,11,12])\n",
    "aray[2::3] = 0\n",
    "aray[1::3] = 0\n",
    "aray"
   ]
  },
  {
   "cell_type": "code",
   "execution_count": 19,
   "metadata": {
    "collapsed": false
   },
   "outputs": [
    {
     "name": "stdout",
     "output_type": "stream",
     "text": [
      "init: ready\n",
      "-0.135780740523 -1.37563426606 0.767244058045\n"
     ]
    }
   ],
   "source": [
    "import numpy as np\n",
    "import sympy as sp\n",
    "from scipy import optimize as opt\n",
    "from matplotlib import pyplot as plt\n",
    "from sympy.utilities.lambdify import lambdify\n",
    "from sympy import Matrix\n",
    "\n",
    "#  initialize\n",
    "edge = np.genfromtxt('csv/adjacency.csv', delimiter=\",\").astype(np.int64)\n",
    "P = np.genfromtxt('csv/mdSpace.csv', delimiter=\",\")\n",
    "n = len(P)\n",
    "L = np.genfromtxt('csv/eigVals.csv', delimiter=\",\")\n",
    "L_pos = np.array([L[i] if L[i] > 0 else 0 for i in range(n)])\n",
    "d = np.count_nonzero(L_pos)\n",
    "Ln = np.sqrt(L_pos)\n",
    "\n",
    "f1 = np.array(Ln[0:d])\n",
    "f2 = np.array(Ln[0:d])\n",
    "f3 = np.array(Ln[0:d])\n",
    "f1[0::3] = 0 ; f1[1::3] = 0\n",
    "f2[1::3] = 0 ; f2[2::3] = 0\n",
    "f3[2::3] = 0 ; f3[0::3] = 0\n",
    "e1 = (f1 / np.linalg.norm(f1)).reshape(d,1)\n",
    "e2 = (f2 / np.linalg.norm(f2)).reshape(d,1)\n",
    "e3 = (f3 / np.linalg.norm(f3)).reshape(d,1)\n",
    "temp1 = e1\n",
    "temp2 = e2\n",
    "temp3 = e3\n",
    "\n",
    "Xs = np.zeros(n)\n",
    "Ys = np.zeros(n)\n",
    "Zs = np.zeros(n)\n",
    "\n",
    "def update_points():\n",
    "    for i in np.arange(n):\n",
    "        global Xs, Ys, Zs\n",
    "        p0 = P[i, 0:d]\n",
    "        Xs[i] = np.dot(p0, e1)\n",
    "        Ys[i] = np.dot(p0, e2)\n",
    "        Zs[i] = np.dot(p0, e3)\n",
    "\n",
    "update_points()\n",
    "\n",
    "print(\"init: ready\")\n",
    "print(Xs[14],Ys[14],Zs[14])"
   ]
  },
  {
   "cell_type": "code",
   "execution_count": 22,
   "metadata": {
    "collapsed": false
   },
   "outputs": [
    {
     "name": "stdout",
     "output_type": "stream",
     "text": [
      "      fun: 6.9348480821558674e-06\n",
      " hess_inv: <15x15 LbfgsInvHessProduct with dtype=float64>\n",
      "      jac: array([ 0.47280315,  0.1479708 , -0.46911059, -0.03828469,  0.14711884,\n",
      "        0.19723734,  0.09504176, -0.4375587 ,  0.436957  ,  0.31229612,\n",
      "       -0.13059697, -0.14977589, -0.00439372, -0.16080881,  0.20957697])\n",
      "  message: b'CONVERGENCE: REL_REDUCTION_OF_F_<=_FACTR*EPSMCH'\n",
      "     nfev: 2336\n",
      "      nit: 104\n",
      "   status: 0\n",
      "  success: True\n",
      "        x: array([ 0.96034818,  0.75434511, -0.5929625 ,  0.51933612,  0.23695358,\n",
      "       -0.02537001,  1.07883479, -0.26572628, -0.22593551,  1.85861003,\n",
      "       -0.65209731,  0.96837802,  0.77793402, -0.3605194 , -0.51463019])\n"
     ]
    }
   ],
   "source": [
    "identifier = \"14\"\n",
    "\n",
    "# sympy\n",
    "a1,b1,c1,d1,a2,b2,c2,d2,a3,b3,c3,d3,t,s,u = sp.symbols('a1 b1 c1 d1 a2 b2 c2 d2 a3 b3 c3 d3 t s u')   # variables\n",
    "x2_s,y2_s,z2_s = sp.symbols('x2_s y2_s z2_s')  # values\n",
    "P_i = sp.MatrixSymbol('P_i', d, 1)\n",
    "E1 = sp.MatrixSymbol('E1', d, 1)\n",
    "E2 = sp.MatrixSymbol('E2', d, 1)\n",
    "E3 = sp.MatrixSymbol('E3', d, 1)\n",
    "_var = (x2_s,y2_s,z2_s,P_i,E1,E2,E3,a1,b1,c1,d1,a2,b2,c2,d2,a3,b3,c3,d3,t,s,u)\n",
    "\n",
    "_E1 = sp.Matrix(a1*E1 + b1*E2 + c1*E3 + d1*P_i)\n",
    "_E2 = sp.Matrix(a2*E1 + b2*E2 + c2*E3 + d2*P_i)\n",
    "_E3 = sp.Matrix(a3*E1 + b3*E2 + c3*E3 + d3*P_i)\n",
    "R = sp.Matrix(t*E1 + s*E2 + u*E3)\n",
    "\n",
    "_f = Matrix([\n",
    "\t\t_E1.dot(_E1) - 1,\n",
    "\t\t_E2.dot(_E2) - 1,\n",
    "\t\t_E3.dot(_E3) - 1,\n",
    "\t\t_E1.dot(_E2),\n",
    "\t\t_E2.dot(_E3),\n",
    "\t\t_E3.dot(_E1),\n",
    "\t\tR.dot(R) - 1,\n",
    "\t\t_E1.dot(R) - sp.Matrix(E1).dot(R),\n",
    "\t\t_E2.dot(R) - sp.Matrix(E2).dot(R),\n",
    "\t\t_E3.dot(R) - sp.Matrix(E3).dot(R),\n",
    "\t\tsp.Matrix(P_i).dot(_E1) - x2_s,\n",
    "\t\tsp.Matrix(P_i).dot(_E2) - y2_s,\n",
    "\t\tsp.Matrix(P_i).dot(_E3) - z2_s\n",
    "\t\t])\n",
    "\n",
    "_func = sp.Matrix.norm(_f)\n",
    "\n",
    "_lam_f = lambdify(_var, _func, 'numpy')\n",
    "\n",
    "def _lam(x2,y2,z2,p,e_1,e_2,e_3):\n",
    "    return lambda a1,b1,c1,d1,a2,b2,c2,d2,a3,b3,c3,d3,t,s,u: \\\n",
    "        _lam_f(x2,y2,z2,p,e_1,e_2,e_3,a1,b1,c1,d1,a2,b2,c2,d2,a3,b3,c3,d3,t,s,u)\n",
    "\n",
    "    \n",
    "ons = np.ones(15)\n",
    "_arr = np.array(ons)\n",
    "\n",
    "_f2 = _lam(0, 0, 0, P[int(identifier)].reshape(d,1), e1, e2, e3)\n",
    "def _g(args): return _f2(*args)\n",
    "res = opt.minimize(_g, _arr, method='L-BFGS-B')\n",
    "print(res)\n",
    "e1 = res.x[0] * temp1 + res.x[1] * temp2 + res.x[2] * temp3 + res.x[3] * P[int(identifier)].reshape(d,1)\n",
    "e2 = res.x[4] * temp1 + res.x[5] * temp2 + res.x[6] * temp3 + res.x[7] * P[int(identifier)].reshape(d,1)\n",
    "e3 = res.x[8] * temp1 + res.x[9] * temp2 + res.x[10] * temp3 + res.x[11] * P[int(identifier)].reshape(d,1)\n",
    "update_points()\n",
    "print(Xs[14],Ys[14],Zs[14])"
   ]
  },
  {
   "cell_type": "code",
   "execution_count": 24,
   "metadata": {
    "collapsed": false
   },
   "outputs": [
    {
     "name": "stdout",
     "output_type": "stream",
     "text": [
      "-1.00678736542e-07 -9.81173794042e-07 -3.4502068666e-07\n"
     ]
    }
   ],
   "source": []
  },
  {
   "cell_type": "code",
   "execution_count": null,
   "metadata": {
    "collapsed": true
   },
   "outputs": [],
   "source": []
  }
 ],
 "metadata": {
  "hide_input": false,
  "kernelspec": {
   "display_name": "Python 3",
   "language": "python",
   "name": "python3"
  },
  "language_info": {
   "codemirror_mode": {
    "name": "ipython",
    "version": 3
   },
   "file_extension": ".py",
   "mimetype": "text/x-python",
   "name": "python",
   "nbconvert_exporter": "python",
   "pygments_lexer": "ipython3",
   "version": "3.5.1"
  }
 },
 "nbformat": 4,
 "nbformat_minor": 0
}
