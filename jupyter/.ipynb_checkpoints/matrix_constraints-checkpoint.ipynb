{
 "cells": [
  {
   "cell_type": "code",
   "execution_count": 2,
   "metadata": {
    "collapsed": false,
    "hide_input": false
   },
   "outputs": [],
   "source": [
    "import numpy as np\n",
    "import sympy as sp\n",
    "from scipy import optimize as opt\n",
    "from sympy.utilities.lambdify import lambdify\n",
    "from sympy import Matrix\n",
    "from tkinter import *\n",
    "import time\n",
    "\n",
    "#  initialize\n",
    "_wid = 700\n",
    "_hei = 700\n",
    "wid = 500  # view's width\n",
    "hei = 500  # view's height\n",
    "edge = np.genfromtxt('csv/adjacency.csv', delimiter=\",\").astype(np.int64)\n",
    "eN = len(edge)\n",
    "P = np.genfromtxt('csv/mdSpace.csv', delimiter=\",\")\n",
    "n, d = P.shape"
   ]
  },
  {
   "cell_type": "code",
   "execution_count": 8,
   "metadata": {
    "collapsed": false,
    "hide_input": false
   },
   "outputs": [],
   "source": [
    "dim = 2\n",
    "\n",
    "def genE():\n",
    "    L = np.genfromtxt('csv/eigVals.csv', delimiter=\",\")[0:d]\n",
    "    base = np.zeros(d*dim).reshape(dim,d)\n",
    "    for i in range(d): base[i%dim][i] = 1\n",
    "    E = base*L\n",
    "    return E\n",
    "\n",
    "E = genE()"
   ]
  },
  {
   "cell_type": "code",
   "execution_count": 10,
   "metadata": {
    "collapsed": false,
    "hide_input": true
   },
   "outputs": [],
   "source": [
    "Xs = np.zeros(n)\n",
    "Ys = np.zeros(n)\n",
    "Xs_scaled = np.zeros(n)\n",
    "Ys_scaled = np.zeros(n)\n",
    "boundingX = 0\n",
    "boundingY = 0\n",
    "\n",
    "def scale(pnt,bool):\n",
    "\tif(bool): return wid*(pnt + boundingX/2)/boundingX + (_wid - wid)/2\n",
    "\telse: return (hei-100)*(boundingY/2 - pnt)/boundingY + (_hei - hei)/2\n",
    "\n",
    "def unscale(pnt,bool):\n",
    "\tif (bool): return boundingX * ((pnt - (_wid - wid)/2) - wid / 2) / wid\n",
    "\telse: return boundingY * ((pnt - (_hei - hei)/2) - (hei - 100) / 2) / (100 - hei)\n",
    "\n",
    "def update_points():\n",
    "\tfor i in range(n):\n",
    "\t\tglobal Xs, Ys, boundingX, boundingY\n",
    "\t\tp0 = P[i, 0:d]\n",
    "\t\tXs[i] = np.dot(p0, E[0]) ; Ys[i] = np.dot(p0, E[1])\n",
    "\tboundingX = max([np.amax(Xs), np.amin(Xs)]) * 2\n",
    "\tboundingY = max([np.amax(Ys), np.amin(Ys)]) * 2\n",
    "\tfor i in range(n):\n",
    "\t\tXs_scaled[i] = scale(Xs[i], True);Ys_scaled[i] = scale(Ys[i], False)\n",
    "\n",
    "update_points()"
   ]
  },
  {
   "cell_type": "code",
   "execution_count": 11,
   "metadata": {
    "collapsed": false
   },
   "outputs": [
    {
     "name": "stdout",
     "output_type": "stream",
     "text": [
      "lambda: ready\n"
     ]
    }
   ],
   "source": [
    "# sympy\n",
    "a1,b1,c1,a2,b2,c2,t,s = sp.symbols('a1 b1 c1 a2 b2 c2 t s')   # variables\n",
    "x2_s,y2_s = sp.symbols('x2_s y2_s')  # values\n",
    "P_i = sp.MatrixSymbol('P_i', d, 1)\n",
    "E1 = sp.MatrixSymbol('E1', d, 1)\n",
    "E2 = sp.MatrixSymbol('E2', d, 1)\n",
    "var = (x2_s,y2_s,P_i,E1,E2,a1,b1,c1,a2,b2,c2,t,s)\n",
    "\n",
    "_E1 = sp.Matrix(a1*E1 + b1*E2 + c1*P_i)\n",
    "_E2 = sp.Matrix(a2*E1 + b2*E2 + c2*P_i)\n",
    "R = sp.Matrix(s*E1 + t*E2)\n",
    "\n",
    "f = Matrix([\n",
    "\t\t_E1.dot(_E1) - 1,\n",
    "\t\t_E2.dot(_E2) - 1,\n",
    "\t\t_E1.dot(_E2),\n",
    "\t\tR.dot(R) - 1,\n",
    "\t\t_E1.dot(R) - sp.Matrix(E1).dot(R),\n",
    "\t\t_E2.dot(R) - sp.Matrix(E2).dot(R),\n",
    "\t\tsp.Matrix(P_i).dot(_E1) - x2_s,\n",
    "\t\tsp.Matrix(P_i).dot(_E2) - y2_s\n",
    "\t\t])\n",
    "\n",
    "func = sp.Matrix.norm(f)\n",
    "lam_f = lambdify(var, func, 'numpy')\n",
    "\n",
    "def lam(x2, y2, p, e_1, e_2):\n",
    "    return lambda a1,b1,c1,a2,b2,c2,t,s: \\\n",
    "        lam_f(x2, y2, p, e_1, e_2, a1, b1, c1, a2, b2, c2, t, s)\n",
    "\n",
    "arr_init = np.array([1, 0, 0, 0, 1, 0, 1, 1])\n",
    "print(\"lambda: ready\")"
   ]
  },
  {
   "cell_type": "code",
   "execution_count": 17,
   "metadata": {
    "collapsed": false
   },
   "outputs": [
    {
     "data": {
      "text/plain": [
       "Matrix([[Vars_R[0, 0]*E1[0, 0] + Vars_R[0, 1]*E1[1, 0] + Vars_R[0, 2]*E1[2, 0] + Vars_R[0, 3]*E1[3, 0] + Vars_R[0, 4]*E1[4, 0] + Vars_R[0, 5]*E1[5, 0] + Vars_R[0, 6]*E1[6, 0] + Vars_R[0, 7]*E1[7, 0] + Vars_R[0, 8]*E1[8, 0] + Vars_R[0, 9]*E1[9, 0] + Vars_R[0, 10]*E1[10, 0] + Vars_R[0, 11]*E1[11, 0], Vars_R[0, 0]*E1[0, 1] + Vars_R[0, 1]*E1[1, 1] + Vars_R[0, 2]*E1[2, 1] + Vars_R[0, 3]*E1[3, 1] + Vars_R[0, 4]*E1[4, 1] + Vars_R[0, 5]*E1[5, 1] + Vars_R[0, 6]*E1[6, 1] + Vars_R[0, 7]*E1[7, 1] + Vars_R[0, 8]*E1[8, 1] + Vars_R[0, 9]*E1[9, 1] + Vars_R[0, 10]*E1[10, 1] + Vars_R[0, 11]*E1[11, 1]]])"
      ]
     },
     "execution_count": 17,
     "metadata": {},
     "output_type": "execute_result"
    }
   ],
   "source": [
    "newPoint = sp.MatrixSymbol('newPoint', dim, 1) # values\n",
    "Vars = sp.MatrixSymbol('Vars', dim+1, d)\n",
    "Vars_R = sp.MatrixSymbol('Vars_R', 1, d)\n",
    "Pi = sp.MatrixSymbol('P_i', d, 1)\n",
    "Es = sp.MatrixSymbol('E1', d, dim)\n",
    "Es_M = sp.Matrix(Es)\n",
    "Pi_M = sp.Matrix(Pi)\n",
    "var = (newPoint,Pi,Es,Vars,Vars_R)\n",
    "\n",
    "_E_con = Matrix(Vars) * Es_M.col_insert(d,Pi_M)\n",
    "R = Matrix(Vars_R) * Es_M\n",
    "\n",
    "sp.simplify(R)"
   ]
  },
  {
   "cell_type": "code",
   "execution_count": null,
   "metadata": {
    "collapsed": true
   },
   "outputs": [],
   "source": [
    "temp1 = e1\n",
    "temp2 = e2\n",
    "x2 = unscale(0,True)\n",
    "y2 = unscale(0,False)\n",
    "thisID = 14\n",
    "f2 = lam(x2, y2, P[thisID].reshape(d, 1), e1, e2)\n",
    "def g(args): return f2(*args)\n",
    "res = opt.minimize(g, arr_init, method='L-BFGS-B',options={'ftol':1e-3})\n",
    "if(res.success):\n",
    "    e1 = res.x[0] * temp1 + res.x[1] * temp2 + res.x[2] * P[thisID].reshape(d, 1)\n",
    "    e2 = res.x[3] * temp1 + res.x[4] * temp2 + res.x[5] * P[thisID].reshape(d, 1)\n",
    "    update_points()"
   ]
  }
 ],
 "metadata": {
  "hide_input": false,
  "kernelspec": {
   "display_name": "Python 3",
   "language": "python",
   "name": "python3"
  },
  "language_info": {
   "codemirror_mode": {
    "name": "ipython",
    "version": 3
   },
   "file_extension": ".py",
   "mimetype": "text/x-python",
   "name": "python",
   "nbconvert_exporter": "python",
   "pygments_lexer": "ipython3",
   "version": "3.5.1"
  }
 },
 "nbformat": 4,
 "nbformat_minor": 0
}
