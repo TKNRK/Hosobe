{
 "cells": [
  {
   "cell_type": "code",
   "execution_count": 1,
   "metadata": {
    "collapsed": true
   },
   "outputs": [],
   "source": [
    "import numpy as np\n",
    "import sympy as sp\n",
    "from scipy import optimize as opt\n",
    "from matplotlib import pyplot as plt\n",
    "from sympy.utilities.lambdify import lambdify\n",
    "from sympy import Matrix"
   ]
  },
  {
   "cell_type": "code",
   "execution_count": 2,
   "metadata": {
    "collapsed": true
   },
   "outputs": [],
   "source": [
    "P = np.genfromtxt('csv/mdSpace.csv', delimiter=\",\") \n",
    "n = len(P)\n",
    "L = np.genfromtxt('csv/eigVals.csv', delimiter=\",\")\n",
    "L_pos = np.array([L[i] if L[i] > 0 else 0 for i in range(n)])\n",
    "d = np.count_nonzero(L_pos)  #d ... the number of positive values\n",
    "Ln = np.sqrt(L_pos)\n",
    "\n",
    "f2 = np.array(Ln[0:d])\n",
    "f2[::2] = 0\n",
    "f1 = Ln[0:d] - f2\n",
    "e1 = f1 / np.linalg.norm(f1)\n",
    "e2 = f2 / np.linalg.norm(f2)"
   ]
  },
  {
   "cell_type": "code",
   "execution_count": 3,
   "metadata": {
    "collapsed": true
   },
   "outputs": [],
   "source": [
    "########## sympy #################\n",
    "a1,b1,c1,a2,b2,c2,t,s = sp.symbols('a1 b1 c1 a2 b2 c2 t s')   # variables\n",
    "x2_s,y2_s = sp.symbols('x2_s y2_s') # values\n",
    "P_i = sp.MatrixSymbol('P_i', d,1)\n",
    "E1 = sp.MatrixSymbol('E1', d,1)\n",
    "E2 = sp.MatrixSymbol('E2', d,1)\n",
    "var = (P_i,E1,a1,a2)\n",
    "\n",
    "_E1 = a1*sp.Matrix(E1)\n",
    "_E2 = a2*sp.Matrix(E1)\n",
    "R  = s*sp.Matrix(E1) + t*sp.Matrix(E2)\n",
    "\n",
    "f = Matrix([\n",
    "\t\t_E1.dot(_E1) - 1.0,\n",
    "\t\t_E2.dot(_E2) - 1.0,\n",
    "\t\t])\n",
    "\n",
    "func = Matrix.norm(f)\n",
    "lam_f = lambdify(var, f, 'numpy')"
   ]
  },
  {
   "cell_type": "code",
   "execution_count": 4,
   "metadata": {
    "collapsed": true
   },
   "outputs": [],
   "source": [
    "lam_ff = lambdify(var,func,'numpy')\n",
    "lam_ff"
   ]
  },
  {
   "cell_type": "code",
   "execution_count": 38,
   "metadata": {
    "collapsed": false
   },
   "outputs": [
    {
     "data": {
      "text/plain": [
       "15.556349186104045"
      ]
     },
     "execution_count": 38,
     "metadata": {},
     "output_type": "execute_result"
    }
   ],
   "source": [
    "lst = [1,1,1,1,1,1,1,1,1,1,1,1]\n",
    "N = np.array(lst).astype(float).reshape(12,1)\n",
    "nrm = np.linalg.norm(N)\n",
    "lam_ff(N,N,1,1)"
   ]
  },
  {
   "cell_type": "code",
   "execution_count": 30,
   "metadata": {
    "collapsed": false
   },
   "outputs": [
    {
     "ename": "AttributeError",
     "evalue": "'Float' object has no attribute 'sqrt'",
     "output_type": "error",
     "traceback": [
      "\u001b[0;31m---------------------------------------------------------------------------\u001b[0m",
      "\u001b[0;31mAttributeError\u001b[0m                            Traceback (most recent call last)",
      "\u001b[0;32m<ipython-input-30-a36a6bd03e5f>\u001b[0m in \u001b[0;36m<module>\u001b[0;34m()\u001b[0m\n\u001b[0;32m----> 1\u001b[0;31m \u001b[0mlam_ff\u001b[0m\u001b[0;34m(\u001b[0m\u001b[0mM\u001b[0m\u001b[0;34m,\u001b[0m\u001b[0mM\u001b[0m\u001b[0;34m,\u001b[0m\u001b[0;36m1\u001b[0m\u001b[0;34m,\u001b[0m\u001b[0;36m1\u001b[0m\u001b[0;34m)\u001b[0m\u001b[0;34m\u001b[0m\u001b[0m\n\u001b[0m",
      "\u001b[0;32m//anaconda/lib/python3.5/site-packages/numpy/__init__.py\u001b[0m in \u001b[0;36m<lambda>\u001b[0;34m(P_i, E1, _Dummy_20, _Dummy_21)\u001b[0m\n",
      "\u001b[0;31mAttributeError\u001b[0m: 'Float' object has no attribute 'sqrt'"
     ]
    }
   ],
   "source": [
    "lam_ff(M,M,1,1)"
   ]
  },
  {
   "cell_type": "code",
   "execution_count": 18,
   "metadata": {
    "collapsed": false
   },
   "outputs": [
    {
     "name": "stderr",
     "output_type": "stream",
     "text": [
      "//anaconda/lib/python3.5/site-packages/ipykernel/__main__.py:3: DeprecationWarning: inspect.getargspec() is deprecated, use inspect.signature() instead\n",
      "  app.launch_new_instance()\n"
     ]
    },
    {
     "data": {
      "text/plain": [
       "ArgSpec(args=['P_i', 'E1', '_Dummy_20', '_Dummy_21'], varargs=None, keywords=None, defaults=None)"
      ]
     },
     "execution_count": 18,
     "metadata": {},
     "output_type": "execute_result"
    }
   ],
   "source": [
    "type(lam_ff)\n",
    "import inspect\n",
    "inspect.getargspec(lam_ff)"
   ]
  },
  {
   "cell_type": "code",
   "execution_count": null,
   "metadata": {
    "collapsed": true
   },
   "outputs": [],
   "source": []
  },
  {
   "cell_type": "code",
   "execution_count": null,
   "metadata": {
    "collapsed": true
   },
   "outputs": [],
   "source": []
  },
  {
   "cell_type": "code",
   "execution_count": null,
   "metadata": {
    "collapsed": true
   },
   "outputs": [],
   "source": []
  },
  {
   "cell_type": "code",
   "execution_count": null,
   "metadata": {
    "collapsed": true
   },
   "outputs": [],
   "source": []
  },
  {
   "cell_type": "code",
   "execution_count": null,
   "metadata": {
    "collapsed": true
   },
   "outputs": [],
   "source": []
  },
  {
   "cell_type": "code",
   "execution_count": 6,
   "metadata": {
    "collapsed": false
   },
   "outputs": [
    {
     "data": {
      "text/plain": [
       "array([[11.0000000000000],\n",
       "       [11.0000000000000]], dtype=object)"
      ]
     },
     "execution_count": 6,
     "metadata": {},
     "output_type": "execute_result"
    }
   ],
   "source": [
    "M = sp.Matrix(np.ones(12))\n",
    "lam_f(M,M,1,1)"
   ]
  },
  {
   "cell_type": "code",
   "execution_count": null,
   "metadata": {
    "collapsed": true
   },
   "outputs": [],
   "source": []
  },
  {
   "cell_type": "code",
   "execution_count": 20,
   "metadata": {
    "collapsed": true
   },
   "outputs": [],
   "source": [
    "def lam(e1, e2):\n",
    "    return lambda x2, y2: \\\n",
    "        np.linalg.norm(lam_f(sp.Matrix(e1),sp.Matrix(e2),x2,y2))\n",
    "\n",
    "f2 = lam(e1, e2)\n",
    "def g(args): return f2(*args)"
   ]
  },
  {
   "cell_type": "code",
   "execution_count": 21,
   "metadata": {
    "collapsed": true
   },
   "outputs": [],
   "source": [
    "res = opt.minimize(g,[1,1], method='L-BFGS-B')"
   ]
  },
  {
   "cell_type": "code",
   "execution_count": 23,
   "metadata": {
    "collapsed": false
   },
   "outputs": [
    {
     "name": "stdout",
     "output_type": "stream",
     "text": [
      "      fun: 2.4178797926358646e-16\n",
      " hess_inv: <2x2 LbfgsInvHessProduct with dtype=float64>\n",
      "      jac: array([ 1.99999995,  1.99999995])\n",
      "  message: b'ABNORMAL_TERMINATION_IN_LNSRCH'\n",
      "     nfev: 63\n",
      "      nit: 0\n",
      "   status: 2\n",
      "  success: False\n",
      "        x: array([ 1.,  1.])\n"
     ]
    }
   ],
   "source": [
    "print(res)"
   ]
  },
  {
   "cell_type": "code",
   "execution_count": null,
   "metadata": {
    "collapsed": true
   },
   "outputs": [],
   "source": []
  }
 ],
 "metadata": {
  "kernelspec": {
   "display_name": "Python 3",
   "language": "python",
   "name": "python3"
  },
  "language_info": {
   "codemirror_mode": {
    "name": "ipython",
    "version": 3
   },
   "file_extension": ".py",
   "mimetype": "text/x-python",
   "name": "python",
   "nbconvert_exporter": "python",
   "pygments_lexer": "ipython3",
   "version": "3.5.1"
  }
 },
 "nbformat": 4,
 "nbformat_minor": 0
}
