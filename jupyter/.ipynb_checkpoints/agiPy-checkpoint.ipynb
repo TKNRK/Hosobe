{
 "cells": [
  {
   "cell_type": "code",
   "execution_count": 1,
   "metadata": {
    "collapsed": false
   },
   "outputs": [],
   "source": [
    "import numpy as np\n",
    "import sympy as sp\n",
    "from scipy import optimize as opt\n",
    "import matplotlib\n",
    "from matplotlib import pyplot as plt\n",
    "from matplotlib import animation\n",
    "\n",
    "from sympy.abc import x\n",
    "from sympy.utilities.lambdify import lambdify, implemented_function\n",
    "from sympy import Function\n",
    "from sympy import Matrix"
   ]
  },
  {
   "cell_type": "code",
   "execution_count": 2,
   "metadata": {
    "collapsed": false
   },
   "outputs": [],
   "source": [
    "edge = np.genfromtxt('csv/adjacency.csv', delimiter=\",\").astype(np.int64) \n",
    "P = np.genfromtxt('csv/mdSpace.csv', delimiter=\",\") \n",
    "n = len(P)\n",
    "L =np.genfromtxt('csv/eigVals.csv', delimiter=\",\") \n",
    "L_pos = np.array([L[i] if L[i]>0 else 0 for i in range(n)])\n",
    "d = np.count_nonzero(L_pos)\t# d ... the number of positive values\n",
    "Ln = np.sqrt(L_pos)\n",
    "\n",
    "f2 = np.array(Ln[0:d])\n",
    "f2[::2] = 0\n",
    "f1 = Ln[0:d] - f2\n",
    "e1 = f1 / np.linalg.norm(f1)\n",
    "e2 = f2 / np.linalg.norm(f2)\n",
    "temp1 = e1\n",
    "temp2 = e2\n",
    "\n",
    "Xs = np.array([])\n",
    "Ys = np.array([])\n",
    "\n",
    "for i in np.arange(n):\n",
    "    p0 = P[i,0:d]\n",
    "    Xs = np.append(Xs,np.dot(p0,e1))\n",
    "    Ys = np.append(Ys,np.dot(p0,e2))\n",
    "    \n",
    "    \n",
    "# V:sp.Matrix(MatrixSymbol), Vv : np.ndarray\n",
    "def subV(e, V, Vv):\n",
    "    shape = Vv.shape\n",
    "    for i in range(len(Vv)):\n",
    "            e = e.subs(V[i,0], Vv[i])\n",
    "    return e\n",
    "# Vs, Vvs : list\n",
    "def subV_mul(e,Vs,Vvs):\n",
    "    if len(Vvs) > 0:\n",
    "        if isinstance(Vvs[0], np.ndarray):\n",
    "            return subV_mul(subV(e,Vs[0],Vvs[0]),Vs[1:],Vvs[1:])\n",
    "        else:\n",
    "            return subV_mul(e.subs(Vs[0],Vvs[0]),Vs[1:],Vvs[1:])\n",
    "    return e"
   ]
  },
  {
   "cell_type": "code",
   "execution_count": 3,
   "metadata": {
    "collapsed": true
   },
   "outputs": [],
   "source": [
    "sp.var('a1 b1 c1 a2 b2 c2 t s')   # variables\n",
    "sp.var('x2_s y2_s p_s e1_s e2_s') # values\n",
    "p_s = sp.MatrixSymbol('p_s', d, 1)\n",
    "e1_s = sp.MatrixSymbol('e1_s', d, 1)\n",
    "e2_s = sp.MatrixSymbol('e2_s', d, 1)\n",
    "p_s = sp.Matrix(p_s)\n",
    "e1_s = sp.Matrix(e1_s)\n",
    "e2_s = sp.Matrix(e2_s)\n",
    "var = (a1,b1,c1,a2,b2,c2,t,s)\n",
    "v = [x2_s, y2_s, p_s, e1_s, e2_s]\n",
    "vv = [Xs[0],Ys[0],P[0],e1,e2]\n",
    "E1 = a1*sp.Matrix(e1_s) + b1*sp.Matrix(e2_s) + c1*sp.Matrix(p_s)\n",
    "E2 = a2*sp.Matrix(e1_s) + b2*sp.Matrix(e2_s) + c2*sp.Matrix(p_s)\n",
    "r  = s*sp.Matrix(e1_s) + t*sp.Matrix(e2_s)\n",
    "\n",
    "f = Matrix([\n",
    "\t\tE1.dot(E1) - 1,\n",
    "\t\tE2.dot(E2) - 1,\n",
    "\t\tE1.dot(E2),\n",
    "\t\tr.dot(r) - 1,\n",
    "\t\tE1.dot(r) - e1_s.dot(r),\n",
    "\t\tE2.dot(r) - e2_s.dot(r),\n",
    "\t\tp_s.dot(E1) - x2_s,\n",
    "\t\tp_s.dot(E2) - y2_s\n",
    "\t\t])\n",
    "\n",
    "func = Matrix.norm(f)\n",
    "lam_f = lambdify(var, subV_mul(func,v,vv), 'numpy')\n",
    "\n",
    "arr = np.array([1,1,1,1,1,1,1,1])\n",
    "def g(args): return lam_f(*args)"
   ]
  },
  {
   "cell_type": "code",
   "execution_count": 4,
   "metadata": {
    "collapsed": false
   },
   "outputs": [],
   "source": [
    "identifier = \"\"\n",
    "\n",
    "class DraggableCircle:\n",
    "    def __init__(self, circle):\n",
    "        self.circle = circle\n",
    "        self.press = None\n",
    "\n",
    "    def connect(self):\n",
    "        'connect to all the events we need'\n",
    "        self.cidpress = self.circle.figure.canvas.mpl_connect(\n",
    "            'button_press_event', self.on_press)\n",
    "        self.cidrelease = self.circle.figure.canvas.mpl_connect(\n",
    "            'button_release_event', self.on_release)\n",
    "        self.cidmotion = self.circle.figure.canvas.mpl_connect(\n",
    "            'motion_notify_event', self.on_motion)\n",
    "\n",
    "    def on_press(self, event):\n",
    "        'on button press we will see if the mouse is over us and store some data'\n",
    "        if event.inaxes != self.circle.axes: return\n",
    "\n",
    "        contains, attrd = self.circle.contains(event)\n",
    "        if not contains: return\n",
    "        print('event contains', self.circle.center)\n",
    "        x0, y0 = self.circle.center\n",
    "        self.press = x0, y0, event.xdata, event.ydata\n",
    "        global identifier\n",
    "        identifier = self.circle.get_label()\n",
    "\n",
    "    def on_motion(self, event):\n",
    "        'on motion we will move the rect if the mouse is over us'\n",
    "        if self.press is None: return\n",
    "        if event.inaxes != self.circle.axes: return\n",
    "        if(self.circle.get_label() == identifier):\n",
    "            global p, e1, e2, temp1, temp2, vv\n",
    "            x0, y0, xpress, ypress = self.press\n",
    "            x2 = x0 + event.xdata - xpress\n",
    "            y2 = y0 + event.ydata - ypress\n",
    "            vv = [x2,y2,P[int(identifier)],e1,e2]\n",
    "            lam_f = lambdify(var, subV_mul(func,v,vv), 'numpy')\n",
    "            def g(args): return lam_f(*args)\n",
    "            res = opt.minimize(g,arr,method='L-BFGS-B')\n",
    "            e1 = res.x[0]*temp1 + res.x[1]*temp2 + res.x[2]*p\n",
    "            e2 = res.x[3]*temp1 + res.x[4]*temp2 + res.x[5]*p\n",
    "            temp1 = e1\n",
    "            temp2 = e2\n",
    "            for i in np.arange(n):\n",
    "                p0 = P[i]\n",
    "                global Xs, Ys\n",
    "                Xs[i] = np.dot(p0,e1)\n",
    "                Ys[i] = np.dot(p0,e2)\n",
    "                nodes[i].center = (np.dot(p0,e1),np.dot(p0,e2))\n",
    "                nodes[i].figure.canvas.draw()\n",
    "                        \n",
    "    def on_release(self, event):\n",
    "        'on release we reset the press data'\n",
    "        self.press = None\n",
    "        self.circle.figure.canvas.draw()\n",
    "\n",
    "    def disconnect(self):\n",
    "        'disconnect all the stored connection ids'\n",
    "        self.circle.figure.canvas.mpl_disconnect(self.cidpress)\n",
    "        self.circle.figure.canvas.mpl_disconnect(self.cidrelease)\n",
    "        self.circle.figure.canvas.mpl_disconnect(self.cidmotion)"
   ]
  },
  {
   "cell_type": "code",
   "execution_count": 5,
   "metadata": {
    "collapsed": false
   },
   "outputs": [
    {
     "name": "stdout",
     "output_type": "stream",
     "text": [
      "event contains (-0.48834002780152058, 0.28108480633993033)\n"
     ]
    },
    {
     "ename": "NameError",
     "evalue": "name 'p' is not defined",
     "output_type": "error",
     "traceback": [
      "\u001b[0;31m---------------------------------------------------------------------------\u001b[0m",
      "\u001b[0;31mNameError\u001b[0m                                 Traceback (most recent call last)",
      "\u001b[0;32m/Library/Frameworks/Python.framework/Versions/3.5/lib/python3.5/site-packages/matplotlib/backend_bases.py\u001b[0m in \u001b[0;36mmotion_notify_event\u001b[0;34m(self, x, y, guiEvent)\u001b[0m\n\u001b[1;32m   1950\u001b[0m         event = MouseEvent(s, self, x, y, self._button, self._key,\n\u001b[1;32m   1951\u001b[0m                            guiEvent=guiEvent)\n\u001b[0;32m-> 1952\u001b[0;31m         \u001b[0mself\u001b[0m\u001b[0;34m.\u001b[0m\u001b[0mcallbacks\u001b[0m\u001b[0;34m.\u001b[0m\u001b[0mprocess\u001b[0m\u001b[0;34m(\u001b[0m\u001b[0ms\u001b[0m\u001b[0;34m,\u001b[0m \u001b[0mevent\u001b[0m\u001b[0;34m)\u001b[0m\u001b[0;34m\u001b[0m\u001b[0m\n\u001b[0m\u001b[1;32m   1953\u001b[0m \u001b[0;34m\u001b[0m\u001b[0m\n\u001b[1;32m   1954\u001b[0m     \u001b[0;32mdef\u001b[0m \u001b[0mleave_notify_event\u001b[0m\u001b[0;34m(\u001b[0m\u001b[0mself\u001b[0m\u001b[0;34m,\u001b[0m \u001b[0mguiEvent\u001b[0m\u001b[0;34m=\u001b[0m\u001b[0;32mNone\u001b[0m\u001b[0;34m)\u001b[0m\u001b[0;34m:\u001b[0m\u001b[0;34m\u001b[0m\u001b[0m\n",
      "\u001b[0;32m/Library/Frameworks/Python.framework/Versions/3.5/lib/python3.5/site-packages/matplotlib/cbook.py\u001b[0m in \u001b[0;36mprocess\u001b[0;34m(self, s, *args, **kwargs)\u001b[0m\n\u001b[1;32m    561\u001b[0m             \u001b[0;32mfor\u001b[0m \u001b[0mcid\u001b[0m\u001b[0;34m,\u001b[0m \u001b[0mproxy\u001b[0m \u001b[0;32min\u001b[0m \u001b[0mlist\u001b[0m\u001b[0;34m(\u001b[0m\u001b[0msix\u001b[0m\u001b[0;34m.\u001b[0m\u001b[0miteritems\u001b[0m\u001b[0;34m(\u001b[0m\u001b[0mself\u001b[0m\u001b[0;34m.\u001b[0m\u001b[0mcallbacks\u001b[0m\u001b[0;34m[\u001b[0m\u001b[0ms\u001b[0m\u001b[0;34m]\u001b[0m\u001b[0;34m)\u001b[0m\u001b[0;34m)\u001b[0m\u001b[0;34m:\u001b[0m\u001b[0;34m\u001b[0m\u001b[0m\n\u001b[1;32m    562\u001b[0m                 \u001b[0;32mtry\u001b[0m\u001b[0;34m:\u001b[0m\u001b[0;34m\u001b[0m\u001b[0m\n\u001b[0;32m--> 563\u001b[0;31m                     \u001b[0mproxy\u001b[0m\u001b[0;34m(\u001b[0m\u001b[0;34m*\u001b[0m\u001b[0margs\u001b[0m\u001b[0;34m,\u001b[0m \u001b[0;34m**\u001b[0m\u001b[0mkwargs\u001b[0m\u001b[0;34m)\u001b[0m\u001b[0;34m\u001b[0m\u001b[0m\n\u001b[0m\u001b[1;32m    564\u001b[0m                 \u001b[0;32mexcept\u001b[0m \u001b[0mReferenceError\u001b[0m\u001b[0;34m:\u001b[0m\u001b[0;34m\u001b[0m\u001b[0m\n\u001b[1;32m    565\u001b[0m                     \u001b[0mself\u001b[0m\u001b[0;34m.\u001b[0m\u001b[0m_remove_proxy\u001b[0m\u001b[0;34m(\u001b[0m\u001b[0mproxy\u001b[0m\u001b[0;34m)\u001b[0m\u001b[0;34m\u001b[0m\u001b[0m\n",
      "\u001b[0;32m/Library/Frameworks/Python.framework/Versions/3.5/lib/python3.5/site-packages/matplotlib/cbook.py\u001b[0m in \u001b[0;36m__call__\u001b[0;34m(self, *args, **kwargs)\u001b[0m\n\u001b[1;32m    428\u001b[0m             \u001b[0mmtd\u001b[0m \u001b[0;34m=\u001b[0m \u001b[0mself\u001b[0m\u001b[0;34m.\u001b[0m\u001b[0mfunc\u001b[0m\u001b[0;34m\u001b[0m\u001b[0m\n\u001b[1;32m    429\u001b[0m         \u001b[0;31m# invoke the callable and return the result\u001b[0m\u001b[0;34m\u001b[0m\u001b[0;34m\u001b[0m\u001b[0m\n\u001b[0;32m--> 430\u001b[0;31m         \u001b[0;32mreturn\u001b[0m \u001b[0mmtd\u001b[0m\u001b[0;34m(\u001b[0m\u001b[0;34m*\u001b[0m\u001b[0margs\u001b[0m\u001b[0;34m,\u001b[0m \u001b[0;34m**\u001b[0m\u001b[0mkwargs\u001b[0m\u001b[0;34m)\u001b[0m\u001b[0;34m\u001b[0m\u001b[0m\n\u001b[0m\u001b[1;32m    431\u001b[0m \u001b[0;34m\u001b[0m\u001b[0m\n\u001b[1;32m    432\u001b[0m     \u001b[0;32mdef\u001b[0m \u001b[0m__eq__\u001b[0m\u001b[0;34m(\u001b[0m\u001b[0mself\u001b[0m\u001b[0;34m,\u001b[0m \u001b[0mother\u001b[0m\u001b[0;34m)\u001b[0m\u001b[0;34m:\u001b[0m\u001b[0;34m\u001b[0m\u001b[0m\n",
      "\u001b[0;32m<ipython-input-4-5e56bbd09300>\u001b[0m in \u001b[0;36mon_motion\u001b[0;34m(self, event)\u001b[0m\n\u001b[1;32m     41\u001b[0m             \u001b[0;32mdef\u001b[0m \u001b[0mg\u001b[0m\u001b[0;34m(\u001b[0m\u001b[0margs\u001b[0m\u001b[0;34m)\u001b[0m\u001b[0;34m:\u001b[0m \u001b[0;32mreturn\u001b[0m \u001b[0mlam_f\u001b[0m\u001b[0;34m(\u001b[0m\u001b[0;34m*\u001b[0m\u001b[0margs\u001b[0m\u001b[0;34m)\u001b[0m\u001b[0;34m\u001b[0m\u001b[0m\n\u001b[1;32m     42\u001b[0m             \u001b[0mres\u001b[0m \u001b[0;34m=\u001b[0m \u001b[0mopt\u001b[0m\u001b[0;34m.\u001b[0m\u001b[0mminimize\u001b[0m\u001b[0;34m(\u001b[0m\u001b[0mg\u001b[0m\u001b[0;34m,\u001b[0m\u001b[0marr\u001b[0m\u001b[0;34m,\u001b[0m\u001b[0mmethod\u001b[0m\u001b[0;34m=\u001b[0m\u001b[0;34m'L-BFGS-B'\u001b[0m\u001b[0;34m)\u001b[0m\u001b[0;34m\u001b[0m\u001b[0m\n\u001b[0;32m---> 43\u001b[0;31m             \u001b[0me1\u001b[0m \u001b[0;34m=\u001b[0m \u001b[0mres\u001b[0m\u001b[0;34m.\u001b[0m\u001b[0mx\u001b[0m\u001b[0;34m[\u001b[0m\u001b[0;36m0\u001b[0m\u001b[0;34m]\u001b[0m\u001b[0;34m*\u001b[0m\u001b[0mtemp1\u001b[0m \u001b[0;34m+\u001b[0m \u001b[0mres\u001b[0m\u001b[0;34m.\u001b[0m\u001b[0mx\u001b[0m\u001b[0;34m[\u001b[0m\u001b[0;36m1\u001b[0m\u001b[0;34m]\u001b[0m\u001b[0;34m*\u001b[0m\u001b[0mtemp2\u001b[0m \u001b[0;34m+\u001b[0m \u001b[0mres\u001b[0m\u001b[0;34m.\u001b[0m\u001b[0mx\u001b[0m\u001b[0;34m[\u001b[0m\u001b[0;36m2\u001b[0m\u001b[0;34m]\u001b[0m\u001b[0;34m*\u001b[0m\u001b[0mp\u001b[0m\u001b[0;34m\u001b[0m\u001b[0m\n\u001b[0m\u001b[1;32m     44\u001b[0m             \u001b[0me2\u001b[0m \u001b[0;34m=\u001b[0m \u001b[0mres\u001b[0m\u001b[0;34m.\u001b[0m\u001b[0mx\u001b[0m\u001b[0;34m[\u001b[0m\u001b[0;36m3\u001b[0m\u001b[0;34m]\u001b[0m\u001b[0;34m*\u001b[0m\u001b[0mtemp1\u001b[0m \u001b[0;34m+\u001b[0m \u001b[0mres\u001b[0m\u001b[0;34m.\u001b[0m\u001b[0mx\u001b[0m\u001b[0;34m[\u001b[0m\u001b[0;36m4\u001b[0m\u001b[0;34m]\u001b[0m\u001b[0;34m*\u001b[0m\u001b[0mtemp2\u001b[0m \u001b[0;34m+\u001b[0m \u001b[0mres\u001b[0m\u001b[0;34m.\u001b[0m\u001b[0mx\u001b[0m\u001b[0;34m[\u001b[0m\u001b[0;36m5\u001b[0m\u001b[0;34m]\u001b[0m\u001b[0;34m*\u001b[0m\u001b[0mp\u001b[0m\u001b[0;34m\u001b[0m\u001b[0m\n\u001b[1;32m     45\u001b[0m             \u001b[0mtemp1\u001b[0m \u001b[0;34m=\u001b[0m \u001b[0me1\u001b[0m\u001b[0;34m\u001b[0m\u001b[0m\n",
      "\u001b[0;31mNameError\u001b[0m: name 'p' is not defined"
     ]
    }
   ],
   "source": [
    "gca = plt.gca()\n",
    "nodes = np.array([])\n",
    "edges = np.array([])\n",
    "\n",
    "for i in range(n):\n",
    "    circle = plt.Circle((Xs[i], Ys[i]), radius=0.2, fc='y',label=str(i))\n",
    "    gca.add_patch(circle)\n",
    "    nodes = np.append(nodes,circle)\n",
    "\n",
    "for e in edge:\n",
    "    line = plt.Line2D((Xs[e[0]-1], Xs[e[1]-1]), (Ys[e[0]-1],Ys[e[1]-1]), lw=1)\n",
    "    gca.add_line(line)\n",
    "    edges = np.append(edges,line)\n",
    "    \n",
    "dcs = []\n",
    "for node in nodes:\n",
    "    dc = DraggableCircle(node)\n",
    "    dc.connect()\n",
    "    dcs.append(dc)\n",
    "\n",
    "plt.axis('scaled')\n",
    "plt.show()"
   ]
  },
  {
   "cell_type": "code",
   "execution_count": null,
   "metadata": {
    "collapsed": true
   },
   "outputs": [],
   "source": []
  }
 ],
 "metadata": {
  "kernelspec": {
   "display_name": "Python 3",
   "language": "python",
   "name": "python3"
  },
  "language_info": {
   "codemirror_mode": {
    "name": "ipython",
    "version": 3
   },
   "file_extension": ".py",
   "mimetype": "text/x-python",
   "name": "python",
   "nbconvert_exporter": "python",
   "pygments_lexer": "ipython3",
   "version": "3.5.1"
  }
 },
 "nbformat": 4,
 "nbformat_minor": 0
}
