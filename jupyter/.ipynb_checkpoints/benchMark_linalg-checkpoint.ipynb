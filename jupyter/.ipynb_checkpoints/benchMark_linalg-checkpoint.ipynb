{
 "cells": [
  {
   "cell_type": "code",
   "execution_count": 26,
   "metadata": {
    "collapsed": false
   },
   "outputs": [
    {
     "name": "stdout",
     "output_type": "stream",
     "text": [
      "ready\n"
     ]
    }
   ],
   "source": [
    "import numpy as np\n",
    "import sympy as sp\n",
    "from sympy.utilities.lambdify import lambdify\n",
    "from sympy import Matrix\n",
    "from scipy import optimize as opt\n",
    "\n",
    "edge = np.genfromtxt('csv/adjacency.csv', delimiter=\",\").astype(np.int64)\n",
    "P = np.genfromtxt('csv/mdSpace.csv', delimiter=\",\")\n",
    "n = len(P)\n",
    "L =np.genfromtxt('csv/eigVals.csv', delimiter=\",\")\n",
    "L_pos = np.array([L[i] if L[i]>0 else 0 for i in range(n)])\n",
    "d = np.count_nonzero(L_pos)\t# d ... the number of positive values\n",
    "Ln = np.sqrt(L_pos)\n",
    "\n",
    "f2 = np.array(Ln[0:d])\n",
    "f2[::2] = 0\n",
    "f1 = Ln[0:d] - f2\n",
    "e1 = (f1 / np.linalg.norm(f1)).reshape(d,1)\n",
    "e2 = (f2 / np.linalg.norm(f2)).reshape(d,1)\n",
    "h1 = e1\n",
    "h2 = e2\n",
    "a1,b1,c1,a2,b2,c2,t,s = sp.symbols('a1 b1 c1 a2 b2 c2 t s')   # variables\n",
    "x2_s,y2_s = sp.symbols('x2_s y2_s') # values\n",
    "P_i = sp.MatrixSymbol('P_i', d, 1)\n",
    "E1 = sp.MatrixSymbol('E1', d, 1)\n",
    "E2 = sp.MatrixSymbol('E2', d, 1)\n",
    "var = (x2_s,y2_s,P_i,E1,E2,a1,b1,c1,a2,b2,c2,t,s)\n",
    "\n",
    "_E1 = a1*sp.Matrix(E1) + b1*sp.Matrix(E2) + c1*sp.Matrix(P_i)\n",
    "_E2 = a2*sp.Matrix(E1) + b2*sp.Matrix(E2) + c2*sp.Matrix(P_i)\n",
    "R = s*sp.Matrix(E1) + t*sp.Matrix(E2)\n",
    "\n",
    "f = Matrix([\n",
    "\t\t_E1.dot(_E1) - 1,\n",
    "\t\t_E2.dot(_E2) - 1,\n",
    "\t\t_E1.dot(_E2),\n",
    "\t\tR.dot(R) - 1,\n",
    "\t\t_E1.dot(R) - sp.Matrix(E1).dot(R),\n",
    "\t\t_E2.dot(R) - sp.Matrix(E2).dot(R),\n",
    "\t\tsp.Matrix(P_i).dot(_E1) - x2_s,\n",
    "\t\tsp.Matrix(P_i).dot(_E2) - y2_s\n",
    "\t\t])\n",
    "\n",
    "func = sp.simplify(sp.Matrix.norm(f))\n",
    "\n",
    "lam_f1 = lambdify(var, sp.simplify(f), 'numpy')\n",
    "lam_f2 = lambdify(var, func, 'numpy')\n",
    "\n",
    "def lam1(x2, y2, p, e_1, e_2):\n",
    "    return lambda a1,b1,c1,a2,b2,c2,t,s: \\\n",
    "        (lam_f1(x2, y2, sp.Matrix(p), sp.Matrix(e_1), sp.Matrix(e_2), a1, b1, c1, a2, b2, c2, t, s) ** 2).sum()\n",
    "\n",
    "def _lam1(x2, y2, p, e_1, e_2):\n",
    "    return lambda a1,b1,c1,a2,b2,c2,t,s: \\\n",
    "        np.linalg.norm(lam_f1(x2, y2, sp.Matrix(p), sp.Matrix(e_1), sp.Matrix(e_2), a1, b1, c1, a2, b2, c2, t, s))\n",
    "\n",
    "def lam2(x2, y2, p, e_1, e_2):\n",
    "    return lambda a1,b1,c1,a2,b2,c2,t,s: \\\n",
    "        lam_f2(x2, y2, p, e_1, e_2, a1, b1, c1, a2, b2, c2, t, s)\n",
    "\n",
    "\n",
    "arr = np.array([1, 1, 1, 1, 1, 1, 1, 1])\n",
    "\n",
    "X_sample = 3 * np.random.random_sample((1000, 1)) - 1.5\n",
    "Y_sample = 3 * np.random.random_sample((1000, 1)) - 1.5\n",
    "\n",
    "print(\"ready\")"
   ]
  },
  {
   "cell_type": "code",
   "execution_count": 27,
   "metadata": {
    "collapsed": false
   },
   "outputs": [
    {
     "name": "stdout",
     "output_type": "stream",
     "text": [
      "elapsed_time: 12.676563024520874[sec]\n"
     ]
    }
   ],
   "source": [
    "import time\n",
    "start = time.time()\n",
    "\n",
    "for i in range(1000):\n",
    "    f2_1 = lam1(X_sample[i],Y_sample[i],P[14],e1,e2)\n",
    "    def g1(args): return f2_1(*args)\n",
    "    g1(arr)\n",
    "    #res = opt.minimize(g, arr, method='L-BFGS-B')\n",
    "    #e1 = res.x[0] * temp1 + res.x[1] * temp2 + res.x[2] * P[14].reshape(d, 1)\n",
    "    #e2 = res.x[3] * temp1 + res.x[4] * temp2 + res.x[5] * P[14].reshape(d, 1)\n",
    "\n",
    "elapsed_time = time.time() - start\n",
    "print(\"elapsed_time: \" + str(elapsed_time) + \"[sec]\")"
   ]
  },
  {
   "cell_type": "code",
   "execution_count": 28,
   "metadata": {
    "collapsed": false
   },
   "outputs": [
    {
     "name": "stdout",
     "output_type": "stream",
     "text": [
      "elapsed_time: 12.174499988555908[sec]\n"
     ]
    }
   ],
   "source": [
    "import time\n",
    "start = time.time()\n",
    "\n",
    "for i in range(1000):\n",
    "    _f2_1 = _lam1(X_sample[i],Y_sample[i],P[14],e1,e2)\n",
    "    def _g1(args): return _f2_1(*args)\n",
    "    _g1(arr)\n",
    "    #res = opt.minimize(g, arr, method='L-BFGS-B')\n",
    "    #e1 = res.x[0] * temp1 + res.x[1] * temp2 + res.x[2] * P[14].reshape(d, 1)\n",
    "    #e2 = res.x[3] * temp1 + res.x[4] * temp2 + res.x[5] * P[14].reshape(d, 1)\n",
    "\n",
    "elapsed_time = time.time() - start\n",
    "print(\"elapsed_time: \" + str(elapsed_time) + \"[sec]\")"
   ]
  },
  {
   "cell_type": "code",
   "execution_count": 30,
   "metadata": {
    "collapsed": false
   },
   "outputs": [
    {
     "name": "stdout",
     "output_type": "stream",
     "text": [
      "elapsed_time: 16.596394062042236[sec]\n"
     ]
    }
   ],
   "source": [
    "import time\n",
    "p0 = P[14].reshape(d,1)\n",
    "start = time.time()\n",
    "\n",
    "for i in range(100):\n",
    "    f2_2 = lam2(X_sample[i],Y_sample[i],p0,e1,e2)\n",
    "    def g2(args): return f2_2(*args)\n",
    "    #g2(arr)\n",
    "    res = opt.minimize(g2, arr, method='L-BFGS-B')\n",
    "    #e1 = res.x[0] * temp1 + res.x[1] * temp2 + res.x[2] * P[14].reshape(d, 1)\n",
    "    #e2 = res.x[3] * temp1 + res.x[4] * temp2 + res.x[5] * P[14].reshape(d, 1)\n",
    "\n",
    "elapsed_time = time.time() - start\n",
    "print(\"elapsed_time: \" + str(elapsed_time) + \"[sec]\")"
   ]
  },
  {
   "cell_type": "code",
   "execution_count": null,
   "metadata": {
    "collapsed": true
   },
   "outputs": [],
   "source": []
  }
 ],
 "metadata": {
  "hide_input": false,
  "kernelspec": {
   "display_name": "Python 3",
   "language": "python",
   "name": "python3"
  },
  "language_info": {
   "codemirror_mode": {
    "name": "ipython",
    "version": 3
   },
   "file_extension": ".py",
   "mimetype": "text/x-python",
   "name": "python",
   "nbconvert_exporter": "python",
   "pygments_lexer": "ipython3",
   "version": "3.5.1"
  }
 },
 "nbformat": 4,
 "nbformat_minor": 0
}
