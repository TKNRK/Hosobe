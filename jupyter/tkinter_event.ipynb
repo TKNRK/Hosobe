{
 "cells": [
  {
   "cell_type": "code",
   "execution_count": 12,
   "metadata": {
    "collapsed": true
   },
   "outputs": [],
   "source": [
    "import numpy as np\n",
    "import sympy as sp\n",
    "from scipy import optimize as opt\n",
    "from sympy.utilities.lambdify import lambdify\n",
    "from sympy import Matrix\n",
    "from tkinter import *\n",
    "\n",
    "#  initialize\n",
    "w = 500  # view's width\n",
    "h = 500  # view's height\n",
    "\n",
    "Xs = np.arange(15).reshape(15,1).astype(float)\n",
    "Ys = np.arange(15).reshape(15,1).astype(float)\n",
    "Xs_scaled = np.zeros(n)\n",
    "Ys_scaled = np.zeros(n)\n",
    "boundingX = max([np.amax(Xs), np.amin(Xs)]) * 2\n",
    "boundingY = max([np.amax(Ys), np.amin(Ys)]) * 2\n",
    "\n",
    "def scale(pnt,bool):\n",
    "\tif(bool):\n",
    "\t\treturn w*(pnt + boundingX/2)/boundingX\n",
    "\telse:\n",
    "\t\treturn (h-100)*(boundingY/2 - pnt)/boundingY\n",
    "\n",
    "def unscale(pnt,bool):\n",
    "\tif (bool):\n",
    "\t    return boundingX * (pnt - w / 2) / w\n",
    "\telse:\n",
    "\t    return boundingY * (pnt - (h - 100) / 2) / (100 - h)"
   ]
  },
  {
   "cell_type": "code",
   "execution_count": 16,
   "metadata": {},
   "outputs": [
    {
     "data": {
      "text/plain": [
       "-13.944000000000001"
      ]
     },
     "execution_count": 16,
     "metadata": {},
     "output_type": "execute_result"
    }
   ],
   "source": [
    ""
   ]
  },
  {
   "cell_type": "code",
   "execution_count": null,
   "metadata": {},
   "outputs": [],
   "source": [
    ""
   ]
  }
 ],
 "metadata": {
  "kernelspec": {
   "display_name": "Python 2",
   "language": "python",
   "name": "python2"
  },
  "language_info": {
   "codemirror_mode": {
    "name": "ipython",
    "version": 2.0
   },
   "file_extension": ".py",
   "mimetype": "text/x-python",
   "name": "python",
   "nbconvert_exporter": "python",
   "pygments_lexer": "ipython2",
   "version": "2.7.6"
  }
 },
 "nbformat": 4,
 "nbformat_minor": 0
}