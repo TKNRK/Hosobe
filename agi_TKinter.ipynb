{
 "cells": [
  {
   "cell_type": "code",
   "execution_count": 2,
   "metadata": {
    "collapsed": true
   },
   "outputs": [],
   "source": [
    "import numpy as np\n",
    "from matplotlib import pyplot as plt\n",
    "from matplotlib import animation"
   ]
  },
  {
   "cell_type": "code",
   "execution_count": 12,
   "metadata": {
    "collapsed": false
   },
   "outputs": [],
   "source": [
    "edge = np.genfromtxt('csv/adjacency.csv', delimiter=\",\").astype(np.int64) \n",
    "P = np.genfromtxt('csv/mdSpace.csv', delimiter=\",\") \n",
    "n = len(P)\n",
    "L =np.genfromtxt('csv/eigVals.csv', delimiter=\",\") \n",
    "L_pos = np.array([L[i] if L[i]>0 else 0 for i in range(n)])\n",
    "d = np.count_nonzero(L_pos)\t# d ... the number of positive values\n",
    "Ln = np.sqrt(L_pos)\n",
    "\n",
    "f2 = np.array(Ln[0:d])\n",
    "f2[::2] = 0\n",
    "f1 = Ln[0:d] - f2\n",
    "e1 = f1 / np.linalg.norm(f1)\n",
    "e2 = f2 / np.linalg.norm(f2)\n",
    "temp1 = e1\n",
    "temp2 = e2\n",
    "\n",
    "Xs = np.array([])\n",
    "Ys = np.array([])\n",
    "node = np.array([])\n",
    "\n",
    "for i in np.arange(n):\n",
    "    p0 = P[i,0:d]\n",
    "    Xs = np.append(Xs,np.dot(p0,e1))\n",
    "    Ys = np.append(Ys,np.dot(p0,e2))\n",
    "    node = np.append(node, [Xs[i],Ys[i]])\n",
    "\n",
    "node = node.reshape(15,2)"
   ]
  },
  {
   "cell_type": "code",
   "execution_count": 15,
   "metadata": {
    "collapsed": false
   },
   "outputs": [],
   "source": [
    "from tkinter import *\n",
    " \n",
    "size = 10\n",
    "    \n",
    "class CanvasOval:\n",
    "    canvas = None\n",
    " \n",
    "    def __init__(self, x0, y0, x1, y1, **key):\n",
    "        self.id = self.canvas.create_oval(x0, y0, x1, y1, **key)\n",
    "        self.canvas.tag_bind(self.id, '<1>', self.drag_start)\n",
    "        self.canvas.tag_bind(self.id, '<Button1-Motion>', self.dragging)\n",
    " \n",
    "    def drag_start(self, event):\n",
    "        self.x = event.x\n",
    "        self.y = event.y\n",
    " \n",
    "    def dragging(self, event):\n",
    "        self.canvas.move(self.id, event.x-self.x ,event.y-self.y)\n",
    "        self.x = event.x\n",
    "        self.y = event.y\n",
    " \n",
    "class Previewer(Frame):\n",
    " \n",
    "    def __init__(self, master=None):\n",
    "        Frame.__init__(self, master)\n",
    "        \n",
    "        global newsize\n",
    "        newsize = 500\n",
    "        \n",
    "        self.cvs = Canvas(self, width=newsize, height=newsize, bg=\"white\")  \n",
    "        self.cvs.grid(row=0, column=0)\n",
    " \n",
    "        CanvasOval.canvas=self.cvs\n",
    "\n",
    "        circles = []\n",
    "        lines = []\n",
    "        texts = []\n",
    "        r=0.3\n",
    "        N=len(node)\n",
    "\n",
    "        def change(x): \n",
    "            return x*newsize/(size*1.6)+newsize/2\n",
    "\n",
    "        for i in range(len(edge)):\n",
    "            lines.append(self.cvs.create_line(change(node[edge[i][0]-1][0]), change(node[edge[i][0]-1][1]), \n",
    "                                   change(node[edge[i][1]-1][0]), change(node[edge[i][1]-1][1]), fill = 'Black'))\n",
    "\n",
    "        for i in range(len(node)):\n",
    "            circles.append(CanvasOval(change(node[i][0]-r), change(node[i][1]-r), change(node[i][0]+r), change(node[i][1]+r), fill=\"White\"))\n",
    "            texts.append( self.cvs.create_text(change(node[i][0]),change(node[i][1]), text = str(i), fill='Black'))\n",
    " \n",
    "if __name__ == '__main__':\n",
    "    f = Previewer()\n",
    "    f.pack()\n",
    "    f.mainloop()"
   ]
  },
  {
   "cell_type": "code",
   "execution_count": 9,
   "metadata": {
    "collapsed": false
   },
   "outputs": [
    {
     "data": {
      "text/plain": [
       "array([ 0.00387743, -0.56897311,  0.09588705, -1.56451723, -0.05062584,\n",
       "       -1.50544376,  0.06470281, -1.50811793, -0.06719852, -1.69731664,\n",
       "        0.4844626 ,  0.28788831,  1.45423425,  0.7715399 ,  1.41313063,\n",
       "        0.74345398,  1.26600555,  0.79191257,  1.20993023,  0.86831038,\n",
       "       -0.48834003,  0.28108481, -1.34512801,  0.70081376, -1.37442181,\n",
       "        0.76451543, -1.30083364,  0.88981244, -1.36568271,  0.7450371 ])"
      ]
     },
     "execution_count": 9,
     "metadata": {},
     "output_type": "execute_result"
    }
   ],
   "source": [
    "node"
   ]
  },
  {
   "cell_type": "code",
   "execution_count": null,
   "metadata": {
    "collapsed": true
   },
   "outputs": [],
   "source": []
  }
 ],
 "metadata": {
  "kernelspec": {
   "display_name": "Python 3",
   "language": "python",
   "name": "python3"
  },
  "language_info": {
   "codemirror_mode": {
    "name": "ipython",
    "version": 3
   },
   "file_extension": ".py",
   "mimetype": "text/x-python",
   "name": "python",
   "nbconvert_exporter": "python",
   "pygments_lexer": "ipython3",
   "version": "3.5.1"
  }
 },
 "nbformat": 4,
 "nbformat_minor": 0
}
