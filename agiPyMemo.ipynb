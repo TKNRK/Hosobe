{
 "cells": [
  {
   "cell_type": "code",
   "execution_count": 1,
   "metadata": {
    "collapsed": true
   },
   "outputs": [],
   "source": [
    "import numpy as np\n",
    "import sympy as sp\n",
    "from scipy import optimize as opt\n",
    "import matplotlib\n",
    "from matplotlib import pyplot as plt\n",
    "from matplotlib import animation\n",
    "\n",
    "from sympy.abc import x\n",
    "from sympy.utilities.lambdify import lambdify, implemented_function\n",
    "from sympy import Function\n",
    "from sympy import Matrix"
   ]
  },
  {
   "cell_type": "code",
   "execution_count": 2,
   "metadata": {
    "collapsed": false
   },
   "outputs": [],
   "source": [
    "edge = np.genfromtxt('csv/adjacency.csv', delimiter=\",\").astype(np.int64) \n",
    "P = np.genfromtxt('csv/mdSpace.csv', delimiter=\",\") \n",
    "n = len(P)\n",
    "L =np.genfromtxt('csv/eigVals.csv', delimiter=\",\") \n",
    "L_pos = np.array([L[i] if L[i]>0 else 0 for i in range(n)])\n",
    "d = np.count_nonzero(L_pos)\t# d ... the number of positive values\n",
    "Ln = np.sqrt(L_pos)\n",
    "\n",
    "f2 = np.array(Ln[0:d])\n",
    "f2[::2] = 0\n",
    "f1 = Ln[0:d] - f2\n",
    "e1 = f1 / np.linalg.norm(f1)\n",
    "e2 = f2 / np.linalg.norm(f2)\n",
    "temp1 = e1\n",
    "temp2 = e2\n",
    "\n",
    "Xs = np.array([])\n",
    "Ys = np.array([])\n",
    "\n",
    "for i in np.arange(n):\n",
    "    p0 = P[i,0:d]\n",
    "    Xs = np.append(Xs,np.dot(p0,e1))\n",
    "    Ys = np.append(Ys,np.dot(p0,e2))"
   ]
  },
  {
   "cell_type": "code",
   "execution_count": 90,
   "metadata": {
    "collapsed": false
   },
   "outputs": [
    {
     "data": {
      "text/plain": [
       "w"
      ]
     },
     "execution_count": 90,
     "metadata": {},
     "output_type": "execute_result"
    }
   ],
   "source": [
    "sp.var('w')"
   ]
  },
  {
   "cell_type": "code",
   "execution_count": 92,
   "metadata": {
    "collapsed": false
   },
   "outputs": [
    {
     "data": {
      "text/plain": [
       "sympy.core.symbol.Symbol"
      ]
     },
     "execution_count": 92,
     "metadata": {},
     "output_type": "execute_result"
    }
   ],
   "source": [
    "type(w)"
   ]
  },
  {
   "cell_type": "code",
   "execution_count": 93,
   "metadata": {
    "collapsed": false
   },
   "outputs": [
    {
     "ename": "IndexError",
     "evalue": "too many indices for array",
     "traceback": [
      "\u001b[0;31m---------------------------------------------------------------------------\u001b[0m",
      "\u001b[0;31mIndexError\u001b[0m                                Traceback (most recent call last)",
      "\u001b[0;32m<ipython-input-93-2ae523d84dcd>\u001b[0m in \u001b[0;36m<module>\u001b[0;34m()\u001b[0m\n\u001b[1;32m     35\u001b[0m \u001b[0marr\u001b[0m \u001b[0;34m=\u001b[0m \u001b[0mnp\u001b[0m\u001b[0;34m.\u001b[0m\u001b[0marray\u001b[0m\u001b[0;34m(\u001b[0m\u001b[0;34m[\u001b[0m\u001b[0;36m1\u001b[0m\u001b[0;34m,\u001b[0m\u001b[0;36m1\u001b[0m\u001b[0;34m,\u001b[0m\u001b[0;36m1\u001b[0m\u001b[0;34m,\u001b[0m\u001b[0;36m1\u001b[0m\u001b[0;34m,\u001b[0m\u001b[0;36m1\u001b[0m\u001b[0;34m,\u001b[0m\u001b[0;36m1\u001b[0m\u001b[0;34m,\u001b[0m\u001b[0;36m1\u001b[0m\u001b[0;34m,\u001b[0m\u001b[0;36m1\u001b[0m\u001b[0;34m]\u001b[0m\u001b[0;34m)\u001b[0m\u001b[0;34m\u001b[0m\u001b[0m\n\u001b[1;32m     36\u001b[0m \u001b[0;34m\u001b[0m\u001b[0m\n\u001b[0;32m---> 37\u001b[0;31m \u001b[0mprint\u001b[0m\u001b[0;34m(\u001b[0m\u001b[0mlam_f\u001b[0m\u001b[0;34m(\u001b[0m\u001b[0;36m1\u001b[0m\u001b[0;34m,\u001b[0m\u001b[0;36m1\u001b[0m\u001b[0;34m,\u001b[0m\u001b[0me1\u001b[0m\u001b[0;34m,\u001b[0m\u001b[0me1\u001b[0m\u001b[0;34m,\u001b[0m\u001b[0me1\u001b[0m\u001b[0;34m,\u001b[0m\u001b[0;36m1\u001b[0m\u001b[0;34m,\u001b[0m\u001b[0;36m1\u001b[0m\u001b[0;34m,\u001b[0m\u001b[0;36m1\u001b[0m\u001b[0;34m,\u001b[0m\u001b[0;36m1\u001b[0m\u001b[0;34m,\u001b[0m\u001b[0;36m1\u001b[0m\u001b[0;34m,\u001b[0m\u001b[0;36m1\u001b[0m\u001b[0;34m,\u001b[0m\u001b[0;36m1\u001b[0m\u001b[0;34m,\u001b[0m\u001b[0;36m1\u001b[0m\u001b[0;34m)\u001b[0m\u001b[0;34m)\u001b[0m\u001b[0;34m\u001b[0m\u001b[0m\n\u001b[0m",
      "\u001b[0;32m//anaconda/lib/python3.5/site-packages/numpy/__init__.py\u001b[0m in \u001b[0;36m<lambda>\u001b[0;34m(_Dummy_8699, _Dummy_8700, P_i, E1, E2, _Dummy_8701, _Dummy_8702, _Dummy_8703, _Dummy_8704, _Dummy_8705, _Dummy_8706, _Dummy_8707, _Dummy_8708)\u001b[0m\n",
      "\u001b[0;31mIndexError\u001b[0m: too many indices for array"
     ],
     "output_type": "error"
    }
   ],
   "source": [
    "a1,b1,c1,a2,b2,c2,t,s = sp.symbols('a1 b1 c1 a2 b2 c2 t s')   # variables\n",
    "x2_s,y2_s = sp.symbols('x2_s y2_s') # values\n",
    "P_i = sp.MatrixSymbol('P_i', d, 1)\n",
    "E1 = sp.MatrixSymbol('E1', d, 1)\n",
    "E2 = sp.MatrixSymbol('E2', d, 1)\n",
    "#p_s = sp.Matrix(p_s)\n",
    "#e1_s = sp.Matrix(e1_s)\n",
    "#e2_s = sp.Matrix(e2_s)\n",
    "var = (x2_s,y2_s,P_i,E1,E2,a1,b1,c1,a2,b2,c2,t,s)\n",
    "\n",
    "_E1 = a1*sp.Matrix(E1) + b1*sp.Matrix(E2) + c1*sp.Matrix(P_i)\n",
    "_E2 = a2*sp.Matrix(E1) + b2*sp.Matrix(E2) + c2*sp.Matrix(P_i)\n",
    "R  = s*sp.Matrix(E1) + t*sp.Matrix(E2)\n",
    "\n",
    "f = Matrix([\n",
    "\t\t_E1.dot(_E1) - 1,\n",
    "\t\t_E2.dot(_E2) - 1,\n",
    "\t\t_E1.dot(_E2),\n",
    "\t\tR.dot(R) - 1,\n",
    "\t\t_E1.dot(R) - sp.Matrix(E1).dot(R),\n",
    "\t\t_E2.dot(R) - sp.Matrix(E2).dot(R),\n",
    "\t\tsp.Matrix(P_i).dot(_E1) - x2_s,\n",
    "\t\tsp.Matrix(P_i).dot(_E2) - y2_s\n",
    "\t\t])\n",
    "\n",
    "lam_f = lambdify(var, f, 'numpy')\n",
    "\n",
    "def lam_f2(x2,y2,p,e1,e2):\n",
    "    return lambda a1,b1,c1,a2,b2,c2,t,s: np.linalg.norm(lam_f(x2,y2,sp.Matrix(p),sp.Matrix(e1),sp.Matrix(e2),a1,b1,c1,a2,b2,c2,t,s))\n",
    "\n",
    "arr = np.array([1,1,1,1,1,1,1,1])\n",
    "\n",
    "print(lam_f(1,1,e1,e1,e1,1,1,1,1,1,1,1,1))"
   ]
  },
  {
   "cell_type": "code",
   "execution_count": 72,
   "metadata": {
    "collapsed": false
   },
   "outputs": [
    {
     "name": "stdout",
     "output_type": "stream",
     "text": [
      "(_Dummy_8571, _Dummy_8572, p_s, e1_s, e2_s, _Dummy_8573, _Dummy_8574, _Dummy_8575, _Dummy_8576, _Dummy_8577, _Dummy_8578, _Dummy_8579, _Dummy_8580)\n"
     ]
    },
    {
     "data": {
      "text/plain": [
       "(12,)"
      ]
     },
     "execution_count": 72,
     "metadata": {},
     "output_type": "execute_result"
    }
   ],
   "source": [
    "import inspect\n",
    "\n",
    "print(inspect.signature(lam_f))\n",
    "\n",
    "#lam_f(1,1,e1,e1,e2,1,1,1,1,1,1,1,1)\n",
    "np.ones(12).shape\n",
    "#sp.simplify(sp.expand(f))"
   ]
  },
  {
   "cell_type": "code",
   "execution_count": 20,
   "metadata": {
    "collapsed": true
   },
   "outputs": [],
   "source": [
    "identifier = \"\"\n",
    "\n",
    "class DraggableCircle:\n",
    "    def __init__(self, circle):\n",
    "        self.circle = circle\n",
    "        self.press = None\n",
    "\n",
    "    def connect(self):\n",
    "        'connect to all the events we need'\n",
    "        self.cidpress = self.circle.figure.canvas.mpl_connect(\n",
    "            'button_press_event', self.on_press)\n",
    "        self.cidrelease = self.circle.figure.canvas.mpl_connect(\n",
    "            'button_release_event', self.on_release)\n",
    "        self.cidmotion = self.circle.figure.canvas.mpl_connect(\n",
    "            'motion_notify_event', self.on_motion)\n",
    "\n",
    "    def on_press(self, event):\n",
    "        'on button press we will see if the mouse is over us and store some data'\n",
    "        if event.inaxes != self.circle.axes: return\n",
    "\n",
    "        contains, attrd = self.circle.contains(event)\n",
    "        if not contains: return\n",
    "        print('event contains', self.circle.center)\n",
    "        x0, y0 = self.circle.center\n",
    "        self.press = x0, y0, event.xdata, event.ydata\n",
    "        global identifier\n",
    "        identifier = self.circle.get_label()\n",
    "\n",
    "    def on_motion(self, event):\n",
    "        'on motion we will move the rect if the mouse is over us'\n",
    "        if self.press is None: return\n",
    "        if event.inaxes != self.circle.axes: return\n",
    "        if(self.circle.get_label() == identifier):\n",
    "            \"\"\"\n",
    "            # dragging single node and conectted links\n",
    "            x0, y0, xpress, ypress = self.press\n",
    "            dx = event.xdata - xpress\n",
    "            dy = event.ydata - ypress\n",
    "            #print('x0=%f, xpress=%f, event.xdata=%f, dx=%f, x0+dx=%f' %\n",
    "            #      (x0, xpress, event.xdata, dx, x0+dx))\n",
    "            self.circle.center = (x0+dx,y0+dy)\n",
    "            self.circle.figure.canvas.draw()\n",
    "            for i in range(len(edge)):\n",
    "                if(edge[i,0]-1 == int(identifier)): \n",
    "                    edges[i].set_xdata((x0+dx,edges[i].get_xdata()[1]))\n",
    "                    edges[i].set_ydata((y0+dy,edges[i].get_ydata()[1]))\n",
    "                if(edge[i,1]-1 == int(identifier)): \n",
    "                    edges[i].set_xdata((edges[i].get_xdata()[0],x0+dx))\n",
    "                    edges[i].set_ydata((edges[i].get_ydata()[0],y0+dy))\n",
    "            \n",
    "            \"\"\"\n",
    "            global p, e1, e2, temp1, temp2\n",
    "            x0, y0, xpress, ypress = self.press\n",
    "            x2 = x0 + event.xdata - xpress\n",
    "            y2 = y0 + event.ydata - ypress\n",
    "            f2 = lam_f2(x2,y2,P[int(identifier)],e1,e2)\n",
    "            def g(args): return f2(*args)\n",
    "            res = opt.minimize(g,arr,method='L-BFGS-B')\n",
    "            e1 = res.x[0]*temp1 + res.x[1]*temp2 + res.x[2]*p\n",
    "            e2 = res.x[3]*temp1 + res.x[4]*temp2 + res.x[5]*p\n",
    "            temp1 = e1\n",
    "            temp2 = e2\n",
    "            for i in np.arange(n):\n",
    "                p0 = P[i]\n",
    "                global Xs, Ys\n",
    "                Xs[i] = np.dot(p0,e1)\n",
    "                Ys[i] = np.dot(p0,e2)\n",
    "                nodes[i].center = (np.dot(p0,e1),np.dot(p0,e2))\n",
    "                nodes[i].figure.canvas.draw()\n",
    "            \n",
    "                        \n",
    "    def on_release(self, event):\n",
    "        'on release we reset the press data'\n",
    "        self.press = None\n",
    "        self.circle.figure.canvas.draw()\n",
    "\n",
    "    def disconnect(self):\n",
    "        'disconnect all the stored connection ids'\n",
    "        self.circle.figure.canvas.mpl_disconnect(self.cidpress)\n",
    "        self.circle.figure.canvas.mpl_disconnect(self.cidrelease)\n",
    "        self.circle.figure.canvas.mpl_disconnect(self.cidmotion)"
   ]
  },
  {
   "cell_type": "code",
   "execution_count": 1,
   "metadata": {
    "collapsed": false
   },
   "outputs": [
    {
     "data": {
      "text/plain": [
       "\"\\ngca = plt.gca()\\nnodes = np.array([])\\nedges = np.array([])\\n\\nfor i in range(n):\\n    circle = plt.Circle((Xs[i], Ys[i]), radius=0.2, fc='y',label=str(i))\\n    gca.add_patch(circle)\\n    nodes = np.append(nodes,circle)\\n\\nfor e in edge:\\n    line = plt.Line2D((Xs[e[0]-1], Xs[e[1]-1]), (Ys[e[0]-1],Ys[e[1]-1]), lw=1)\\n    gca.add_line(line)\\n    edges = np.append(edges,line)\\n    \\ndcs = []\\nfor node in nodes:\\n    dc = DraggableCircle(node)\\n    dc.connect()\\n    dcs.append(dc)\\n\\nplt.axis('scaled')\\nplt.show()\\n\""
      ]
     },
     "execution_count": 1,
     "metadata": {},
     "output_type": "execute_result"
    }
   ],
   "source": [
    "\"\"\"\n",
    "gca = plt.gca()\n",
    "nodes = np.array([])\n",
    "edges = np.array([])\n",
    "\n",
    "for i in range(n):\n",
    "    circle = plt.Circle((Xs[i], Ys[i]), radius=0.2, fc='y',label=str(i))\n",
    "    gca.add_patch(circle)\n",
    "    nodes = np.append(nodes,circle)\n",
    "\n",
    "for e in edge:\n",
    "    line = plt.Line2D((Xs[e[0]-1], Xs[e[1]-1]), (Ys[e[0]-1],Ys[e[1]-1]), lw=1)\n",
    "    gca.add_line(line)\n",
    "    edges = np.append(edges,line)\n",
    "    \n",
    "dcs = []\n",
    "for node in nodes:\n",
    "    dc = DraggableCircle(node)\n",
    "    dc.connect()\n",
    "    dcs.append(dc)\n",
    "\n",
    "plt.axis('scaled')\n",
    "plt.show()\n",
    "\"\"\""
   ]
  },
  {
   "cell_type": "code",
   "execution_count": null,
   "metadata": {
    "collapsed": true
   },
   "outputs": [],
   "source": [
    "x2 = Xs[14] * 0.9\n",
    "y2 = Ys[14] * 0.9\n",
    "p = P[14]\n",
    "res = opt.minimize(g,arr,method='L-BFGS-B')\n",
    "print(res)\n",
    "e1 = res.x[0]*temp1 + res.x[1]*temp2 + res.x[2]*p\n",
    "e2 = res.x[3]*temp1 + res.x[4]*temp2 + res.x[5]*p\n",
    "temp1 = e1\n",
    "temp2 = e2\n",
    "for i in np.arange(n):\n",
    "    p0 = P[i]\n",
    "    global Xs, Ys\n",
    "    Xs[i] = np.dot(p0,e1)\n",
    "    Ys[i] = np.dot(p0,e2)\n",
    "    nodes[i].center = (np.dot(p0,e1),np.dot(p0,e2))"
   ]
  },
  {
   "cell_type": "code",
   "execution_count": null,
   "metadata": {
    "collapsed": true
   },
   "outputs": [],
   "source": [
    "lam_f(*res.x)"
   ]
  },
  {
   "cell_type": "code",
   "execution_count": null,
   "metadata": {
    "collapsed": true
   },
   "outputs": [],
   "source": [
    "f = Matrix([\n",
    "\t\tnp.dot(E1,E1) - 1,\n",
    "\t\tnp.dot(E2,E2) - 1,\n",
    "\t\tnp.dot(E1,E2),\n",
    "\t\tnp.dot(r,r) - 1,\n",
    "\t\tnp.dot(E1,r) - np.dot(e1,r),\n",
    "\t\tnp.dot(E2,r) - np.dot(e2,r),\n",
    "\t\tnp.dot(p,E1) - x2,\n",
    "\t\tnp.dot(p,E2) - y2\n",
    "\t\t])\n",
    "\n",
    "df = np.array([])\n",
    "for i in range(len(f)):\n",
    "\tfor j in range(len(var)):\n",
    "\t\tdf = np.append(df, sp.diff(f[i],var[j]))\n",
    "        \n",
    "df = df.reshape(len(var),len(f))"
   ]
  },
  {
   "cell_type": "code",
   "execution_count": null,
   "metadata": {
    "collapsed": true
   },
   "outputs": [],
   "source": [
    ""
   ]
  },
  {
   "cell_type": "code",
   "execution_count": null,
   "metadata": {
    "collapsed": true
   },
   "outputs": [],
   "source": [
    ""
   ]
  },
  {
   "cell_type": "code",
   "execution_count": null,
   "metadata": {
    "collapsed": true
   },
   "outputs": [],
   "source": [
    ""
   ]
  }
 ],
 "metadata": {
  "kernelspec": {
   "display_name": "Python 3",
   "language": "python",
   "name": "python3"
  },
  "language_info": {
   "codemirror_mode": {
    "name": "ipython",
    "version": 3.0
   },
   "file_extension": ".py",
   "mimetype": "text/x-python",
   "name": "python",
   "nbconvert_exporter": "python",
   "pygments_lexer": "ipython3",
   "version": "3.5.1"
  }
 },
 "nbformat": 4,
 "nbformat_minor": 0
}