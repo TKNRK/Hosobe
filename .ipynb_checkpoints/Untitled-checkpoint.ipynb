{
 "cells": [
  {
   "cell_type": "code",
   "execution_count": 4,
   "metadata": {
    "collapsed": false
   },
   "outputs": [],
   "source": [
    "import numpy as np\n",
    "import sympy as sp\n",
    "\n",
    "sp.var('a b')\n",
    "p = sp.MatrixSymbol('p', 2, 2)\n",
    "f = a * sp.Matrix(p)\n",
    "M1 = np.array([a, 0])\n",
    "M2 = np.array([0, b])\n",
    "\"\"\"\n",
    "for i in range(f.shape[0]):\n",
    "    for j in range(f.shape[1]):\n",
    "        f = f.subs(p[i, j], M1[i][j])\n",
    "f\n",
    "\"\"\"\n",
    "def subV(e, V, Vv):\n",
    "    shape = Vv.shape\n",
    "    for i in range(shape[0]):\n",
    "        e = e.subs(V[i, 0], Vv[i])\n",
    "    return e\n"
   ]
  },
  {
   "cell_type": "code",
   "execution_count": null,
   "metadata": {
    "collapsed": true
   },
   "outputs": [],
   "source": []
  }
 ],
 "metadata": {
  "kernelspec": {
   "display_name": "Python 3",
   "language": "python",
   "name": "python3"
  },
  "language_info": {
   "codemirror_mode": {
    "name": "ipython",
    "version": 3
   },
   "file_extension": ".py",
   "mimetype": "text/x-python",
   "name": "python",
   "nbconvert_exporter": "python",
   "pygments_lexer": "ipython3",
   "version": "3.5.1"
  }
 },
 "nbformat": 4,
 "nbformat_minor": 0
}
