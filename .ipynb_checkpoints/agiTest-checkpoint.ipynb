{
 "cells": [
  {
   "cell_type": "code",
   "execution_count": 56,
   "metadata": {
    "collapsed": false
   },
   "outputs": [],
   "source": [
    "import numpy as np\n",
    "import sympy as sp\n",
    "\n",
    "sp.var('a b')\n",
    "p = sp.MatrixSymbol('p', 2, 1)\n",
    "q = sp.MatrixSymbol('q', 2, 1)\n",
    "f = a * sp.Matrix(p)\n",
    "g = a * sp.Matrix(p) + b * sp.Matrix(q)\n",
    "M = np.array([1, 1])\n",
    "\n",
    "def subV(e, V, Vv):\n",
    "    shape = Vv.shape\n",
    "    for i in range(shape[0]):\n",
    "            e = e.subs(V[i,0], Vv[i])\n",
    "    return e\n",
    "# Vs, Vvs : np.ndarray\n",
    "def subV_mul(e,Vs,Vvs):\n",
    "    if Vvs.shape[0] > 0:\n",
    "        return subV_mul(subV(e,Vs[0],Vvs[0]),np.delete(Vs,0,0),np.delete(Vvs,0,0))\n",
    "    return e"
   ]
  },
  {
   "cell_type": "code",
   "execution_count": 57,
   "metadata": {
    "collapsed": false
   },
   "outputs": [
    {
     "data": {
      "text/plain": [
       "Matrix([\n",
       "[1.0*a],\n",
       "[1.0*a]])"
      ]
     },
     "execution_count": 57,
     "metadata": {},
     "output_type": "execute_result"
    }
   ],
   "source": [
    "subV(f,p,M)"
   ]
  },
  {
   "cell_type": "code",
   "execution_count": 58,
   "metadata": {
    "collapsed": false
   },
   "outputs": [
    {
     "data": {
      "text/plain": [
       "Matrix([\n",
       "[1.0*a + b*q[0, 0]],\n",
       "[1.0*a + b*q[1, 0]]])"
      ]
     },
     "execution_count": 58,
     "metadata": {},
     "output_type": "execute_result"
    }
   ],
   "source": [
    "subV(g,p,M)"
   ]
  },
  {
   "cell_type": "code",
   "execution_count": 59,
   "metadata": {
    "collapsed": false
   },
   "outputs": [
    {
     "data": {
      "text/plain": [
       "Matrix([\n",
       "[1.0*a + 1.0*b],\n",
       "[1.0*a + 1.0*b]])"
      ]
     },
     "execution_count": 59,
     "metadata": {},
     "output_type": "execute_result"
    }
   ],
   "source": [
    "subV(subV(g,q,M),p,M)"
   ]
  },
  {
   "cell_type": "code",
   "execution_count": 60,
   "metadata": {
    "collapsed": false
   },
   "outputs": [
    {
     "data": {
      "text/plain": [
       "Matrix([\n",
       "[1.0*a + 1.0*b],\n",
       "[1.0*a + 1.0*b]])"
      ]
     },
     "execution_count": 60,
     "metadata": {},
     "output_type": "execute_result"
    }
   ],
   "source": [
    "subV_mul(g,np.array([p,q]),np.array([M,M]))"
   ]
  },
  {
   "cell_type": "code",
   "execution_count": null,
   "metadata": {
    "collapsed": true
   },
   "outputs": [],
   "source": []
  }
 ],
 "metadata": {
  "kernelspec": {
   "display_name": "Python 3",
   "language": "python",
   "name": "python3"
  },
  "language_info": {
   "codemirror_mode": {
    "name": "ipython",
    "version": 3
   },
   "file_extension": ".py",
   "mimetype": "text/x-python",
   "name": "python",
   "nbconvert_exporter": "python",
   "pygments_lexer": "ipython3",
   "version": "3.5.1"
  }
 },
 "nbformat": 4,
 "nbformat_minor": 0
}
