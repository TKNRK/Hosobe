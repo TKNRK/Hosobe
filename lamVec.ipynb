{
 "cells": [
  {
   "cell_type": "code",
   "execution_count": 13,
   "metadata": {},
   "outputs": [],
   "source": [
    "import numpy as np\n",
    "import sympy as sp\n",
    "from scipy import optimize as opt\n",
    "from matplotlib import pyplot as plt\n",
    "from sympy.utilities.lambdify import lambdify\n",
    "from sympy import Matrix"
   ]
  },
  {
   "cell_type": "code",
   "execution_count": 14,
   "metadata": {},
   "outputs": [],
   "source": [
    "P = np.genfromtxt('csv/mdSpace.csv', delimiter=\",\") \n",
    "n = len(P)\n",
    "L = np.genfromtxt('csv/eigVals.csv', delimiter=\",\")\n",
    "L_pos = np.array([L[i] if L[i] > 0 else 0 for i in range(n)])\n",
    "d = np.count_nonzero(L_pos)  #d ... the number of positive values\n",
    "Ln = np.sqrt(L_pos)\n",
    "\n",
    "f2 = np.array(Ln[0:d])\n",
    "f2[::2] = 0\n",
    "f1 = Ln[0:d] - f2\n",
    "e1 = f1 / np.linalg.norm(f1)\n",
    "e2 = f2 / np.linalg.norm(f2)"
   ]
  },
  {
   "cell_type": "code",
   "execution_count": 15,
   "metadata": {},
   "outputs": [],
   "source": [
    "########## sympy #################\n",
    "a1,b1,c1,a2,b2,c2,t,s = sp.symbols('a1 b1 c1 a2 b2 c2 t s')   # variables\n",
    "x2_s,y2_s = sp.symbols('x2_s y2_s') # values\n",
    "P_i = sp.MatrixSymbol('P_i', d,1)\n",
    "E1 = sp.MatrixSymbol('E1', d,1)\n",
    "E2 = sp.MatrixSymbol('E2', d,1)\n",
    "var = (P_i,E1,a1,a2)\n",
    "\n",
    "_E1 = a1*sp.Matrix(E1)\n",
    "_E2 = a2*sp.Matrix(E1)\n",
    "R  = s*sp.Matrix(E1) + t*sp.Matrix(E2)\n",
    "\n",
    "f = Matrix([\n",
    "\t\t_E1.dot(_E1) - 1.0,\n",
    "\t\t_E2.dot(_E2) - 1.0,\n",
    "\t\t])\n",
    "\n",
    "func = Matrix.norm(f)\n",
    "lam_f = lambdify(var, f, 'numpy')"
   ]
  },
  {
   "cell_type": "code",
   "execution_count": 16,
   "metadata": {},
   "outputs": [
    {
     "data": {
      "text/plain": [
       "array([[11.0000000000000],\n       [11.0000000000000]], dtype=object)"
      ]
     },
     "execution_count": 16,
     "metadata": {},
     "output_type": "execute_result"
    }
   ],
   "source": [
    "M = sp.Matrix(np.ones(12))\n",
    "lam_f(M,M,1,1)"
   ]
  },
  {
   "cell_type": "code",
   "execution_count": 20,
   "metadata": {},
   "outputs": [],
   "source": [
    "def lam(e1, e2):\n",
    "    return lambda x2, y2: \\\n",
    "        np.linalg.norm(lam_f(sp.Matrix(e1),sp.Matrix(e2),x2,y2))\n",
    "\n",
    "f2 = lam(e1, e2)\n",
    "def g(args): return f2(*args)"
   ]
  },
  {
   "cell_type": "code",
   "execution_count": 21,
   "metadata": {},
   "outputs": [],
   "source": [
    "res = opt.minimize(g,[1,1], method='L-BFGS-B')"
   ]
  },
  {
   "cell_type": "code",
   "execution_count": 23,
   "metadata": {},
   "outputs": [
    {
     "name": "stdout",
     "output_type": "stream",
     "text": [
      "      fun: 2.4178797926358646e-16\n hess_inv: <2x2 LbfgsInvHessProduct with dtype=float64>\n      jac: array([ 1.99999995,  1.99999995])\n  message: b'ABNORMAL_TERMINATION_IN_LNSRCH'\n     nfev: 63\n      nit: 0\n   status: 2\n  success: False\n        x: array([ 1.,  1.])\n"
     ]
    }
   ],
   "source": [
    "print(res)"
   ]
  },
  {
   "cell_type": "code",
   "execution_count": null,
   "metadata": {},
   "outputs": [],
   "source": [
    ""
   ]
  }
 ],
 "metadata": {},
 "nbformat": 4,
 "nbformat_minor": 0
}